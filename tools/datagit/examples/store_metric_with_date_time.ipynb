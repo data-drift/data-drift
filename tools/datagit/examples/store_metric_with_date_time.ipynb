{
 "cells": [
  {
   "cell_type": "code",
   "execution_count": 1,
   "metadata": {},
   "outputs": [],
   "source": [
    "import sys\n",
    "from dotenv import load_dotenv\n",
    "from github import Github\n",
    "import os\n",
    "\n",
    "# Create a .env with the following content:\n",
    "# GH_TOKEN=your_github_token\n",
    "# REPON=$gh_org/$repo\n",
    "\n",
    "# Load environment variables from .env file\n",
    "load_dotenv()\n",
    "\n",
    "\n",
    "# Get GitHub token from environment variable\n",
    "gh_token = os.getenv(\"GH_TOKEN\")\n",
    "if gh_token is None:\n",
    "    print(\"GitHub token not found! Create a .env file a the root with a GH_TOKEN variable.\")\n",
    "    exit(1)\n",
    "gh_client = Github(gh_token, timeout=60)"
   ]
  },
  {
   "cell_type": "code",
   "execution_count": 8,
   "metadata": {},
   "outputs": [
    {
     "name": "stdout",
     "output_type": "stream",
     "text": [
      "Storing metric...\n",
      "Metric found, updating it on branch: reported\n",
      "Content https://raw.githubusercontent.com/Samox/copy-libeo-data-history/reported/path/to/metric_name.csv?token=ABUWFP45PQDWJ76AGV74DZDEU2BII\n",
      "New data found\n",
      "Commit: New data: path/to/metric_name.csv\n",
      "Drift detected\n",
      "Could not display drift\n",
      "Commit: Drift: path/to/metric_name.csv\n",
      "Drift pushed\n",
      "Creating pull request\n",
      "Pull request created: https://github.com/Samox/copy-libeo-data-history/pull/87\n",
      "Assignee Sammy does not exist\n"
     ]
    }
   ],
   "source": [
    "import sys\n",
    "sys.path.append('..')\n",
    "import importlib\n",
    "import datagit.github_connector\n",
    "importlib.reload(datagit.github_connector)\n",
    "from datagit.github_connector import store_metric\n",
    "import pandas as pd\n",
    "\n",
    "## Test with file already existing and splitting new data and historical data\n",
    "repo = os.getenv(\"REPO\") or \"gh_org/repo\"\n",
    "\n",
    "def formatDF(dict):\n",
    "    df = pd.DataFrame(dict)\n",
    "    df['unique_key'] = df.apply(lambda row: row['date'] + '-' + row['name'], axis=1)\n",
    "    column_order = ['unique_key'] + [col for col in df.columns if col != 'unique_key']\n",
    "    df = df.reindex(columns=column_order)\n",
    "    return df\n",
    "\n",
    "\n",
    "file_path = repo+\"/path/to/metric_name.csv\"\n",
    "\n",
    "# Store metric for the first time\n",
    "dataMonth1 = {\"name\": [\"Alice\", \"Bob\", \"Charlie\"], \"date\": [\"2022-12-02 12:13:12\",\"2023-01-01\",\"02/12/2022 2:39:28 PM\"], \"age\": [25, 30, 35]}\n",
    "store_metric(gh_client,  formatDF(dataMonth1), file_path, assignees=[\"Sammy\"])"
   ]
  }
 ],
 "metadata": {
  "kernelspec": {
   "display_name": "base",
   "language": "python",
   "name": "python3"
  },
  "language_info": {
   "codemirror_mode": {
    "name": "ipython",
    "version": 3
   },
   "file_extension": ".py",
   "mimetype": "text/x-python",
   "name": "python",
   "nbconvert_exporter": "python",
   "pygments_lexer": "ipython3",
   "version": "3.11.3"
  },
  "orig_nbformat": 4
 },
 "nbformat": 4,
 "nbformat_minor": 2
}
