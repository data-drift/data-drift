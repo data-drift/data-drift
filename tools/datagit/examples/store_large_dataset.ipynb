{
 "cells": [
  {
   "cell_type": "code",
   "execution_count": 1,
   "metadata": {},
   "outputs": [],
   "source": [
    "import sys\n",
    "from dotenv import load_dotenv\n",
    "from github import Github\n",
    "import os\n",
    "\n",
    "# Create a .env with the following content:\n",
    "# GH_TOKEN=your_github_token\n",
    "# REPON=$gh_org/$repo\n",
    "\n",
    "# Load environment variables from .env file\n",
    "load_dotenv(\"../.env\")\n",
    "\n",
    "\n",
    "# Get GitHub token from environment variable\n",
    "gh_token = os.getenv(\"GH_TOKEN\")\n",
    "if gh_token is None:\n",
    "    print(\"GitHub token not found! Create a .env file a the root with a GH_TOKEN variable.\")\n",
    "    exit(1)\n",
    "gh_client = Github(gh_token, timeout=60)\n"
   ]
  },
  {
   "cell_type": "code",
   "execution_count": 19,
   "metadata": {},
   "outputs": [
    {
     "name": "stdout",
     "output_type": "stream",
     "text": [
      "                                 unique_key        date  metric_value  \\\n",
      "0      e648b9ea-7508-4128-8988-95c820aabbb9  2014-07-11          9.67   \n",
      "1      0a6b375b-f430-40d6-a3bd-53062078b520  2002-03-23          0.81   \n",
      "2      287de576-4e17-435e-a8e9-55975ab24204  2001-02-02          3.47   \n",
      "3      38cb3fcc-8b1f-45aa-9825-ab461b43e627  1995-09-07          6.56   \n",
      "4      ac0c645c-1ba5-476f-98f4-1ec3c925eef3  2002-05-28          7.33   \n",
      "...                                     ...         ...           ...   \n",
      "99995  8cc4e80e-b83c-48ad-b4f7-887512ca6dc1  2003-03-15          2.17   \n",
      "99996  0b4fce83-1ee2-4211-82e5-3d6d52c3e82c  2007-05-21          6.96   \n",
      "99997  31026d75-c9a4-4f89-b914-bf24a7275d40  2013-04-08          5.03   \n",
      "99998  f6562254-0eb1-4112-ab45-d2ae564cec73  1999-01-03          3.22   \n",
      "99999  c2454418-ba81-480a-bb95-148c77c613a4  2014-05-08          2.24   \n",
      "\n",
      "      country_code    category  \n",
      "0               GD  Category C  \n",
      "1               ZA  Category A  \n",
      "2               BR  Category C  \n",
      "3               BR  Category A  \n",
      "4               CG  Category A  \n",
      "...            ...         ...  \n",
      "99995           MM  Category C  \n",
      "99996           CI  Category A  \n",
      "99997           MU  Category A  \n",
      "99998           BY  Category B  \n",
      "99999           PA  Category A  \n",
      "\n",
      "[100000 rows x 5 columns]\n",
      "Size of DataFrame in bytes: 6690173\n"
     ]
    }
   ],
   "source": [
    "import pandas as pd\n",
    "from faker import Faker\n",
    "import random\n",
    "\n",
    "# Initialize Faker to generate random data\n",
    "fake = Faker()\n",
    "\n",
    "# Set the number of rows for the dataframe\n",
    "num_rows = 100000\n",
    "\n",
    "# Generate random IDs and dates\n",
    "ids = [fake.uuid4() for _ in range(num_rows)]\n",
    "dates = [fake.date_between(start_date='-30y', end_date='today').strftime('%Y-%m-%d') for _ in range(num_rows)]\n",
    "\n",
    "# Generate random metric values between 0 and 10\n",
    "metric_values = [round(random.uniform(0, 10),2) for _ in range(num_rows)]\n",
    "# Generate random country codes\n",
    "country_codes = [fake.country_code() for _ in range(num_rows)]\n",
    "\n",
    "# Generate random categories\n",
    "categories = [random.choice(['Category A', 'Category B', 'Category C']) for _ in range(num_rows)]\n",
    "\n",
    "# Create the dataframe\n",
    "ultra_large_df = pd.DataFrame({'unique_key': ids, 'date': dates, 'metric_value': metric_values, 'country_code': country_codes, 'category': categories})\n",
    "\n",
    "# Print the dataframe\n",
    "print(ultra_large_df)\n",
    "local_file_path = 'ultra_large_df.csv'\n",
    "ultra_large_df.to_csv(local_file_path, index=False)\n",
    "print('Size of DataFrame in bytes:', os.path.getsize(local_file_path))\n",
    "\n"
   ]
  },
  {
   "cell_type": "code",
   "execution_count": 41,
   "metadata": {},
   "outputs": [
    {
     "name": "stdout",
     "output_type": "stream",
     "text": [
      "Storing metric...\n",
      "Metric found, updating it on branch: reported\n",
      "Content https://raw.githubusercontent.com/Samox/data-history/reported/path/to/ultra_large_metric_name8.csv?token=ABUWFPZW53MU5BOGPTWDHRDEWVH6Y\n",
      "dataframe.dtypes unique_key       object\n",
      "date             object\n",
      "metric_value    float64\n",
      "country_code     object\n",
      "category         object\n",
      "dtype: object\n",
      "new_dataframe Empty DataFrame\n",
      "Columns: [unique_key, date, metric_value, country_code, category]\n",
      "Index: []\n",
      "old_data_with_freshdata.dtypes unique_key       object\n",
      "date             object\n",
      "metric_value    float64\n",
      "country_code     object\n",
      "category         object\n",
      "dtype: object\n",
      "Drift detected\n",
      "                                     metric_value       country_code      \n",
      "                                             self other         self other\n",
      "unique_key                                                                \n",
      "004d80bc-360b-40a8-b301-3319bc043136          NaN   NaN          NaN    NA\n",
      "00d3dd9c-edeb-4417-9b32-16eee017378c          NaN   NaN          NaN    NA\n",
      "0123b85a-3b65-416f-a65b-be28ccbddc6e          NaN   NaN          NaN    NA\n",
      "01414dcd-4f1c-4fb6-9031-9b7c0c2d4e2b          NaN   NaN          NaN    NA\n",
      "015ea689-29e3-4a1a-ae21-9139f105d8bb          NaN   NaN          NaN    NA\n",
      "...                                           ...   ...          ...   ...\n",
      "fc88dd2d-06d9-4036-b980-ea1957db724b          NaN   NaN          NaN    NA\n",
      "fca1c4fd-3e9b-4b4b-a2d5-7837198e819a          NaN   NaN          NaN    NA\n",
      "fd242c29-de9c-459d-8bef-51c7801d2268          NaN   NaN          NaN    NA\n",
      "fe5582a8-d16b-449b-8416-e8689e86775c          NaN   NaN          NaN    NA\n",
      "feff49e3-6f13-4fbe-9964-e70d0566eafe          NaN   NaN          NaN    NA\n",
      "\n",
      "[533 rows x 4 columns]\n",
      "Drift evaluator failed: 'dict' object has no attribute 'reported_dataframe'\n",
      "Using default drift evaluator\n",
      "Drift evaluation: {'should_alert': True, 'message': \"Drift detected:\\nCould not generate drift description: 'unique_key'\"}\n",
      "Commit: Drift: path/to/ultra_large_metric_name8.csv\n",
      "https://github.com/Samox/data-history/commit/288536a5ab45e6a418c4f9a95e832ff478b76a10\n",
      "https://github.com/Samox/data-history/commit/15aa11506a90bee87b07e8c087a6f98f0f0b67e8\n",
      "Drift pushed\n",
      "Creating pull request\n",
      "Pull request created: https://github.com/Samox/data-history/pull/122\n",
      "Assignee Sammy does not exist\n"
     ]
    }
   ],
   "source": [
    "import sys\n",
    "sys.path.append('..')\n",
    "import importlib\n",
    "import datagit.github_connector\n",
    "importlib.reload(datagit.github_connector)\n",
    "from datagit.github_connector import store_metric\n",
    "\n",
    "## Test with file already existing and splitting new data and historical data\n",
    "repo = os.getenv(\"REPO\") or \"gh_org/repo\"\n",
    "file_path = repo+\"/path/to/ultra_large_metric_name8.csv\"\n",
    "store_metric(gh_client,  ultra_large_df, file_path, assignees=[\"Sammy\"])"
   ]
  },
  {
   "cell_type": "code",
   "execution_count": 22,
   "metadata": {},
   "outputs": [
    {
     "name": "stdout",
     "output_type": "stream",
     "text": [
      "[75721 80184 19864 76699 92991 76434 84004 80917 60767 50074]\n"
     ]
    }
   ],
   "source": [
    "import numpy as np\n",
    "\n",
    "# Set the seed for reproducibility\n",
    "np.random.seed(42)\n",
    "\n",
    "# Select 10 random indices for metric value update\n",
    "random_indices_metric = np.random.choice(ultra_large_df.index, size=10, replace=False)\n",
    "print(random_indices_metric)\n",
    "# Update metric value with random values between 0 and 10\n",
    "ultra_large_df.loc[random_indices_metric, 'metric_value'] = [round(random.uniform(0, 10),2) for _ in range(10)]\n"
   ]
  },
  {
   "cell_type": "code",
   "execution_count": 25,
   "metadata": {},
   "outputs": [
    {
     "data": {
      "text/plain": [
       "unique_key       object\n",
       "date             object\n",
       "metric_value    float64\n",
       "country_code     object\n",
       "category         object\n",
       "dtype: object"
      ]
     },
     "execution_count": 25,
     "metadata": {},
     "output_type": "execute_result"
    }
   ],
   "source": [
    "ultra_large_df.dtypes"
   ]
  },
  {
   "cell_type": "code",
   "execution_count": 26,
   "metadata": {},
   "outputs": [
    {
     "name": "stdout",
     "output_type": "stream",
     "text": [
      "Storing metric...\n",
      "Metric found, updating it on branch: reported\n",
      "Content https://raw.githubusercontent.com/Samox/data-history/reported/path/to/ultra_large_metric_name8.csv?token=ABUWFPZN23XAOQ6G5Y7LMGDEWVCBU\n",
      "Drift detected\n",
      "      metric_value       country_code      \n",
      "              self other         self other\n",
      "139            NaN   NaN          NaN    NA\n",
      "342            NaN   NaN          NaN    NA\n",
      "487            NaN   NaN          NaN    NA\n",
      "528            NaN   NaN          NaN    NA\n",
      "576            NaN   NaN          NaN    NA\n",
      "...            ...   ...          ...   ...\n",
      "98642          NaN   NaN          NaN    NA\n",
      "98679          NaN   NaN          NaN    NA\n",
      "98881          NaN   NaN          NaN    NA\n",
      "99351          NaN   NaN          NaN    NA\n",
      "99612          NaN   NaN          NaN    NA\n",
      "\n",
      "[533 rows x 4 columns]\n",
      "Drift evaluator failed: 'dict' object has no attribute 'reported_dataframe'\n",
      "Using default drift evaluator\n",
      "Drift evaluation: {'should_alert': True, 'message': 'Drift detected:\\n- ~~🆕 0 addition~~\\n- ♻️ 533 modifications\\n- ~~🗑️ 0 deletion~~'}\n",
      "Commit: Drift: path/to/ultra_large_metric_name8.csv\n",
      "https://github.com/Samox/data-history/commit/a4aaa10ab06538f921582cbf51e339190df4ae42\n",
      "https://github.com/Samox/data-history/commit/bc19488c8a649d39bc7e720e1f5a83fdbc604bed\n",
      "Drift pushed\n",
      "Creating pull request\n",
      "Pull request created: https://github.com/Samox/data-history/pull/113\n",
      "Assignee Sammy does not exist\n"
     ]
    }
   ],
   "source": [
    "store_metric(gh_client,  ultra_large_df, file_path, assignees=[\"Sammy\"])"
   ]
  }
 ],
 "metadata": {
  "kernelspec": {
   "display_name": "base",
   "language": "python",
   "name": "python3"
  },
  "language_info": {
   "codemirror_mode": {
    "name": "ipython",
    "version": 3
   },
   "file_extension": ".py",
   "mimetype": "text/x-python",
   "name": "python",
   "nbconvert_exporter": "python",
   "pygments_lexer": "ipython3",
   "version": "3.11.3"
  },
  "orig_nbformat": 4
 },
 "nbformat": 4,
 "nbformat_minor": 2
}
