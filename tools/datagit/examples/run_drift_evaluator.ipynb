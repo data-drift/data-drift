{
 "cells": [
  {
   "cell_type": "code",
   "execution_count": 18,
   "metadata": {},
   "outputs": [
    {
     "data": {
      "text/plain": [
       "{'should_alert': True,\n",
       " 'message': 'Drift detected:\\n- ~~🆕 0 addition~~\\n- ♻️ 6 modifications\\n- ~~🗑️ 0 deletion~~'}"
      ]
     },
     "execution_count": 18,
     "metadata": {},
     "output_type": "execute_result"
    }
   ],
   "source": [
    "import sys\n",
    "sys.path.append('..')\n",
    "import importlib\n",
    "import datagit.drift_evaluators_dry_run\n",
    "importlib.reload(datagit.drift_evaluators_dry_run)\n",
    "from datagit.drift_evaluators_dry_run import run_drift_evaluator\n",
    "from datagit.drift_evaluators import default_drift_evaluator\n",
    "from dotenv import load_dotenv\n",
    "from github import Github\n",
    "import os\n",
    "\n",
    "load_dotenv(\"../.env\")\n",
    "gh_token = os.getenv(\"GH_TOKEN\")\n",
    "gh_client = Github(gh_token)\n",
    "repo = os.getenv(\"REPO\") or \"gh_org/repo\"\n",
    "\n",
    "drift = run_drift_evaluator(gh_client=gh_client, repo_name=repo, commit_sha=\"b652e7a591cdf621eb9d13933a758293301316eb\", drift_evaluator=default_drift_evaluator)\n",
    "drift"
   ]
  },
  {
   "cell_type": "code",
   "execution_count": null,
   "metadata": {},
   "outputs": [],
   "source": [
    "def example_drift_evaluator(data_drift_context):\n",
    "    print(data_drift_context[\"reported_dataframe\"])\n",
    "    print( data_drift_context[\"computed_dataframe\"])\n",
    "    \n",
    "    return {\"should_alert\": True, \"message\": \"coucou\"}\n",
    "\n",
    "drift = run_drift_evaluator(gh_client=gh_client, repo_name=repo, commit_sha=\"b652e7a591cdf621eb9d13933a758293301316eb\", drift_evaluator=default_drift_evaluator)\n",
    "drift"
   ]
  }
 ],
 "metadata": {
  "kernelspec": {
   "display_name": "base",
   "language": "python",
   "name": "python3"
  },
  "language_info": {
   "codemirror_mode": {
    "name": "ipython",
    "version": 3
   },
   "file_extension": ".py",
   "mimetype": "text/x-python",
   "name": "python",
   "nbconvert_exporter": "python",
   "pygments_lexer": "ipython3",
   "version": "3.11.3"
  }
 },
 "nbformat": 4,
 "nbformat_minor": 2
}
