{
 "cells": [
  {
   "cell_type": "code",
   "execution_count": 18,
   "metadata": {},
   "outputs": [
    {
     "data": {
      "text/plain": [
       "{'should_alert': True,\n",
       " 'message': 'Drift detected:\\n- ~~🆕 0 addition~~\\n- ♻️ 6 modifications\\n- ~~🗑️ 0 deletion~~'}"
      ]
     },
     "execution_count": 18,
     "metadata": {},
     "output_type": "execute_result"
    }
   ],
   "source": [
    "import sys\n",
    "sys.path.append('..')\n",
    "import importlib\n",
    "import datagit.drift_evaluators_dry_run\n",
    "importlib.reload(datagit.drift_evaluators_dry_run)\n",
    "from datagit.drift_evaluators_dry_run import run_drift_evaluator\n",
    "from datagit.drift_evaluators import default_drift_evaluator\n",
    "from dotenv import load_dotenv\n",
    "from github import Github\n",
    "import os\n",
    "\n",
    "load_dotenv(\"../.env\")\n",
    "gh_token = os.getenv(\"GH_TOKEN\")\n",
    "gh_client = Github(gh_token)\n",
    "repo = os.getenv(\"REPO\") or \"gh_org/repo\"\n",
    "\n",
    "drift = run_drift_evaluator(gh_client=gh_client, repo_name=repo, commit_sha=\"b652e7a591cdf621eb9d13933a758293301316eb\", drift_evaluator=default_drift_evaluator)\n",
    "drift"
   ]
  },
  {
   "cell_type": "code",
   "execution_count": 47,
   "metadata": {},
   "outputs": [
    {
     "name": "stdout",
     "output_type": "stream",
     "text": [
      "additions 0\n",
      "deletions 0\n",
      "diff        metric_value      \n",
      "               self other\n",
      "84404          5.27  0.39\n",
      "88429          1.48  6.84\n",
      "142971         0.09  3.54\n",
      "181368         0.76  4.32\n",
      "234161         7.43   6.0\n",
      "computing the diff\n",
      "monthly_booking_drift 84404    -4.88\n",
      "88429     5.36\n",
      "142971    3.45\n",
      "181368    3.56\n",
      "234161   -1.43\n",
      "dtype: float64\n",
      "large_drift {'should_alert': False, 'message': 'Small drift'}\n"
     ]
    }
   ],
   "source": [
    "import datagit.dataset_helpers\n",
    "importlib.reload(datagit.dataset_helpers)\n",
    "from datagit.dataset_helpers import get_addition_deletion_and_diff\n",
    "import pandas as pd\n",
    "\n",
    "def example_drift_evaluator(data_drift_context):\n",
    "    new_dataframe =  data_drift_context[\"computed_dataframe\"]\n",
    "    old_dataframe =  data_drift_context[\"reported_dataframe\"]\n",
    "    additions, deletions, diff= get_addition_deletion_and_diff(old_dataframe, new_dataframe, \"unique_key\")\n",
    "\n",
    "    print(\"additions\", additions)\n",
    "    print(\"deletions\", deletions)\n",
    "    print(\"diff\", diff)\n",
    "    diff_column = diff.columns[0][0]\n",
    "    diff = diff.apply(pd.to_numeric)  # Convert the values in the diff dataframe to numeric values\n",
    "    \n",
    "    print(\"computing the diff\")\n",
    "    monthly_booking_drift = diff[(diff_column, \"other\")] - diff[(diff_column, \"self\")]\n",
    "    print(\"monthly_booking_drift\", monthly_booking_drift)\n",
    "    if(monthly_booking_drift > 1000).any():\n",
    "        return {\"should_alert\": True, \"message\": \"The monthly booking drift is too high\"}\n",
    "    return {\"should_alert\": False, \"message\": \"Small drift\"}\n",
    "\n",
    "# no_drift = run_drift_evaluator(gh_client=gh_client, repo_name=repo, commit_sha=\"b652e7a591cdf621eb9d13933a758293301316eb\", drift_evaluator=example_drift_evaluator)\n",
    "# print(\"no_drift\", no_drift)\n",
    "\n",
    "large_drift = run_drift_evaluator(gh_client=gh_client, repo_name=repo, commit_sha=\"3e04a216677804ec4789db430dfc51b80a31c085\", drift_evaluator=example_drift_evaluator)\n",
    "print(\"large_drift\", large_drift)"
   ]
  }
 ],
 "metadata": {
  "kernelspec": {
   "display_name": "base",
   "language": "python",
   "name": "python3"
  },
  "language_info": {
   "codemirror_mode": {
    "name": "ipython",
    "version": 3
   },
   "file_extension": ".py",
   "mimetype": "text/x-python",
   "name": "python",
   "nbconvert_exporter": "python",
   "pygments_lexer": "ipython3",
   "version": "3.11.3"
  }
 },
 "nbformat": 4,
 "nbformat_minor": 2
}
