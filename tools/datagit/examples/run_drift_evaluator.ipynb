{
 "cells": [
  {
   "cell_type": "code",
   "execution_count": 1,
   "metadata": {},
   "outputs": [
    {
     "name": "stdout",
     "output_type": "stream",
     "text": [
      "Commit message Drift: dbt-drift/metrics/monthly_bookings.csv\n",
      "\n",
      "Drift detected and automatically merged.\n",
      "Failed to parse drift summary: Expected object or value\n"
     ]
    },
    {
     "name": "stderr",
     "output_type": "stream",
     "text": [
      "Traceback (most recent call last):\n",
      "  File \"/Users/sammyteillet/Documents/Projects/DataDrift/data-drift/tools/datagit/datagit/drift_evaluators_dry_run.py\", line 48, in run_drift_evaluator\n",
      "    drift_summary = parse_drift_summary(commit_message)\n",
      "                    ^^^^^^^^^^^^^^^^^^^^^^^^^^^^^^^^^^^\n",
      "  File \"/Users/sammyteillet/Documents/Projects/DataDrift/data-drift/tools/datagit/datagit/drift_evaluators.py\", line 42, in parse_drift_summary\n",
      "    added_rows=pd.read_json(parts[1]),\n",
      "               ^^^^^^^^^^^^^^^^^^^^^^\n",
      "  File \"/opt/homebrew/Caskroom/miniconda/base/lib/python3.11/site-packages/pandas/util/_decorators.py\", line 211, in wrapper\n",
      "    return func(*args, **kwargs)\n",
      "           ^^^^^^^^^^^^^^^^^^^^^\n",
      "  File \"/opt/homebrew/Caskroom/miniconda/base/lib/python3.11/site-packages/pandas/util/_decorators.py\", line 331, in wrapper\n",
      "    return func(*args, **kwargs)\n",
      "           ^^^^^^^^^^^^^^^^^^^^^\n",
      "  File \"/opt/homebrew/Caskroom/miniconda/base/lib/python3.11/site-packages/pandas/io/json/_json.py\", line 757, in read_json\n",
      "    return json_reader.read()\n",
      "           ^^^^^^^^^^^^^^^^^^\n",
      "  File \"/opt/homebrew/Caskroom/miniconda/base/lib/python3.11/site-packages/pandas/io/json/_json.py\", line 915, in read\n",
      "    obj = self._get_object_parser(self.data)\n",
      "          ^^^^^^^^^^^^^^^^^^^^^^^^^^^^^^^^^^\n",
      "  File \"/opt/homebrew/Caskroom/miniconda/base/lib/python3.11/site-packages/pandas/io/json/_json.py\", line 937, in _get_object_parser\n",
      "    obj = FrameParser(json, **kwargs).parse()\n",
      "          ^^^^^^^^^^^^^^^^^^^^^^^^^^^^^^^^^^^\n",
      "  File \"/opt/homebrew/Caskroom/miniconda/base/lib/python3.11/site-packages/pandas/io/json/_json.py\", line 1064, in parse\n",
      "    self._parse_no_numpy()\n",
      "  File \"/opt/homebrew/Caskroom/miniconda/base/lib/python3.11/site-packages/pandas/io/json/_json.py\", line 1321, in _parse_no_numpy\n",
      "    loads(json, precise_float=self.precise_float), dtype=None\n",
      "    ^^^^^^^^^^^^^^^^^^^^^^^^^^^^^^^^^^^^^^^^^^^^^\n",
      "ValueError: Expected object or value\n"
     ]
    },
    {
     "data": {
      "text/plain": [
       "{'should_alert': False,\n",
       " 'message': 'Drift detected:\\n- 🆕 0 addition\\n- ♻️ 6 modifications\\n- 🗑️ 0 deletion'}"
      ]
     },
     "execution_count": 1,
     "metadata": {},
     "output_type": "execute_result"
    }
   ],
   "source": [
    "import sys\n",
    "sys.path.append('..')\n",
    "import importlib\n",
    "import datagit.drift_evaluators_dry_run\n",
    "importlib.reload(datagit.drift_evaluators_dry_run)\n",
    "from datagit.drift_evaluators_dry_run import run_drift_evaluator\n",
    "from datagit.drift_evaluators import auto_merge_drift\n",
    "from dotenv import load_dotenv\n",
    "from github import Github\n",
    "import os\n",
    "\n",
    "load_dotenv(\"../.env\")\n",
    "gh_token = os.getenv(\"GH_TOKEN\")\n",
    "gh_client = Github(gh_token)\n",
    "repo = os.getenv(\"REPO\") or \"gh_org/repo\"\n",
    "\n",
    "drift = run_drift_evaluator(gh_client=gh_client, repo_name=repo, commit_sha=\"b652e7a591cdf621eb9d13933a758293301316eb\", drift_evaluator=auto_merge_drift)\n",
    "drift"
   ]
  },
  {
   "cell_type": "code",
   "execution_count": 2,
   "metadata": {},
   "outputs": [
    {
     "name": "stdout",
     "output_type": "stream",
     "text": [
      "Commit message DRIFT\n",
      "\n",
      "Drift detected:\n",
      "- 🆕 0 addition\n",
      "- ♻️ 1 modification\n",
      "- 🗑️ 6 deletions\n",
      "\n",
      "Drift Summary:\n",
      "Added Rows:\n",
      "Empty DataFrame\n",
      "Columns: [name, date, age]\n",
      "Index: []\n",
      "Deleted Rows:\n",
      "Empty DataFrame\n",
      "Columns: [name, date, age]\n",
      "Index: []\n",
      "Modified Rows Unique Keys:\n",
      "Index(['2023-01-Charlie'], dtype='string', name='unique_key')\n",
      "Modified Patterns:\n",
      "         unique_keys column old_value new_value           pattern_id\n",
      "0  [2023-01-Charlie]    age        36        35  4049105196195111928\n",
      "Drift Summary Json Begin\n",
      "Added Rows JSON:\n",
      "{\"name\":{},\"date\":{},\"age\":{}}\n",
      "Deleted Rows JSON:\n",
      "{\"name\":{},\"date\":{},\"age\":{}}\n",
      "Modified Rows Unique Keys List:\n",
      "['2023-01-Charlie']\n",
      "Modified Patterns Json:\n",
      "{\"unique_keys\":{\"0\":[\"2023-01-Charlie\"]},\"column\":{\"0\":\"age\"},\"old_value\":{\"0\":\"36\"},\"new_value\":{\"0\":\"35\"},\"pattern_id\":{\"0\":4049105196195111928}}\n",
      "Drift Summary Json End\n",
      "summary {'added_rows': Empty DataFrame\n",
      "Columns: [name, date, age]\n",
      "Index: [], 'deleted_rows': Empty DataFrame\n",
      "Columns: [name, date, age]\n",
      "Index: [], 'modified_rows_unique_keys': Index(['['2023-01-Charlie']'], dtype='object'), 'modified_patterns':          unique_keys column  old_value  new_value           pattern_id\n",
      "0  [2023-01-Charlie]    age         36         35  4049105196195111928}\n",
      "additions 0\n",
      "deletions 6\n",
      "diff    age      \n",
      "  self other\n",
      "2   36    35\n",
      "computing the diff\n",
      "monthly_booking_drift 2   -1\n",
      "dtype: int64\n",
      "large_drift {'should_alert': False, 'message': 'Small drift'}\n"
     ]
    }
   ],
   "source": [
    "import datagit.dataset_helpers\n",
    "from datagit.drift_evaluators import DriftEvaluatorContext, DriftEvaluation\n",
    "importlib.reload(datagit.dataset_helpers)\n",
    "from datagit.dataset_helpers import get_addition_deletion_and_diff\n",
    "import pandas as pd\n",
    "\n",
    "def example_drift_evaluator(data_drift_context: DriftEvaluatorContext) -> DriftEvaluation:\n",
    "    new_dataframe =  data_drift_context[\"after\"]\n",
    "    old_dataframe =  data_drift_context[\"before\"]\n",
    "    print(\"summary\", data_drift_context[\"summary\"]  )\n",
    "    additions, deletions, diff= get_addition_deletion_and_diff(old_dataframe, new_dataframe, \"unique_key\")\n",
    "\n",
    "    print(\"additions\", additions)\n",
    "    print(\"deletions\", deletions)\n",
    "    print(\"diff\", diff)\n",
    "    diff_column = diff.columns[0][0]\n",
    "    diff = diff.apply(pd.to_numeric)  # Convert the values in the diff dataframe to numeric values\n",
    "    \n",
    "    print(\"computing the diff\")\n",
    "    monthly_booking_drift = diff[(diff_column, \"other\")] - diff[(diff_column, \"self\")]\n",
    "    print(\"monthly_booking_drift\", monthly_booking_drift)\n",
    "    if(monthly_booking_drift > 1000).any():\n",
    "        return {\"should_alert\": True, \"message\": \"The monthly booking drift is too high\"}\n",
    "    return {\"should_alert\": False, \"message\": \"Small drift\"}\n",
    "\n",
    "# no_drift = run_drift_evaluator(gh_client=gh_client, repo_name=repo, commit_sha=\"b652e7a591cdf621eb9d13933a758293301316eb\", drift_evaluator=example_drift_evaluator)\n",
    "# print(\"no_drift\", no_drift)\n",
    "\n",
    "large_drift = run_drift_evaluator(gh_client=gh_client, repo_name=repo, commit_sha=\"0aa423b04afa9f51c81a986e644862f5ae04a42f\", drift_evaluator=example_drift_evaluator)\n",
    "print(\"large_drift\", large_drift)"
   ]
  },
  {
   "cell_type": "code",
   "execution_count": 3,
   "metadata": {},
   "outputs": [],
   "source": [
    "import json\n",
    "import pandas as pd \n",
    "\n",
    "coucou = pd.Index(['2023-01-Charlie'])"
   ]
  }
 ],
 "metadata": {
  "kernelspec": {
   "display_name": "base",
   "language": "python",
   "name": "python3"
  },
  "language_info": {
   "codemirror_mode": {
    "name": "ipython",
    "version": 3
   },
   "file_extension": ".py",
   "mimetype": "text/x-python",
   "name": "python",
   "nbconvert_exporter": "python",
   "pygments_lexer": "ipython3",
   "version": "3.11.5"
  }
 },
 "nbformat": 4,
 "nbformat_minor": 2
}
