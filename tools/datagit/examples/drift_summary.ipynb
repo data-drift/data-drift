{
 "cells": [
  {
   "cell_type": "code",
   "execution_count": 4,
   "metadata": {},
   "outputs": [
    {
     "name": "stdout",
     "output_type": "stream",
     "text": [
      "Added rows:\n",
      "                  Product     Category  Quantity  Sales\n",
      "unique_key                                             \n",
      "21              Pineapple         Food        60    240\n",
      "22              Projector  Electronics         5    800\n",
      "23                Pen Set   Stationery        50    200\n",
      "24          Glass Cleaner     Cleaning        40    200\n",
      "\n",
      "Deleted rows:\n",
      "           Product     Category  Quantity  Sales\n",
      "unique_key                                      \n",
      "3           Carrot         Food        50    100\n",
      "6             Lamp  Electronics        20    400\n",
      "12             Pen   Stationery        60    120\n",
      "14          Eraser   Stationery       150     75\n",
      "18          Bleach     Cleaning        50    250\n",
      "\n",
      "Modification patterns:\n",
      "   unique_keys    column old_value         new_value           pattern_id\n",
      "0          [1]  Quantity        30                35  1992256128429834162\n",
      "1          [1]     Sales       150               175  1992256128429834162\n",
      "2          [4]     Sales       500               550 -3748733020777067687\n",
      "3          [5]   Product     Chair      Office Chair   776071947612491305\n",
      "4          [5]     Sales       300               350   776071947612491305\n",
      "5          [7]  Quantity        15                12 -6724926305346318430\n",
      "6          [7]     Sales       600               580 -6724926305346318430\n",
      "7          [8]  Quantity        30                25 -7944860306409772722\n",
      "8          [8]     Sales       300               280 -7944860306409772722\n",
      "9          [9]  Quantity        50                60  7205990269192707553\n",
      "10         [9]     Sales       250               300  7205990269192707553\n",
      "11        [10]  Quantity        40                45 -7056453701008322382\n",
      "12        [10]     Sales       200               225 -7056453701008322382\n",
      "13        [11]   Product  Notebook           Journal -2014360758436219535\n",
      "14        [11]     Sales        90               100 -2014360758436219535\n",
      "15        [13]   Product     Chair      Office Chair -4508525747840940075\n",
      "16        [13]  Quantity       100               110 -4508525747840940075\n",
      "17        [13]     Sales       100               110 -4508525747840940075\n",
      "18        [15]   Product    Marker  Permanent Marker  4508405361052469297\n",
      "19        [15]  Quantity        80                75  4508405361052469297\n",
      "20        [15]     Sales       160               150  4508405361052469297\n",
      "21        [16]  Quantity        40                45  6709452543494883126\n",
      "22        [16]     Sales       160               180  6709452543494883126\n",
      "23        [17]   Product      Soap       Liquid Soap -2216225338228476370\n",
      "24        [17]  Quantity        30                35 -2216225338228476370\n",
      "25        [17]     Sales        90               105 -2216225338228476370\n",
      "26        [19]  Quantity        70                90 -2657800104967431287\n",
      "27        [19]     Sales       140               180 -2657800104967431287\n",
      "28        [20]   Product       Mop           Swiffer -7948686666621307884\n",
      "29        [20]     Sales       125               130 -7948686666621307884\n"
     ]
    }
   ],
   "source": [
    "# Read the CSV files into DataFrames\n",
    "from datagit.drift_evaluators import DriftEvaluatorContext, summarize_dataframe_updates\n",
    "import pandas as pd\n",
    "\n",
    "\n",
    "initial_df = pd.read_csv('patterns/initial_df.csv')\n",
    "final_df = pd.read_csv('patterns/final_df.csv')\n",
    "\n",
    "# Use the function to summarize updates\n",
    "update_summary = summarize_dataframe_updates(DriftEvaluatorContext(before=initial_df, after=final_df))\n",
    "\n",
    "# Display the results\n",
    "print(\"Added rows:\")\n",
    "print(update_summary['added'])\n",
    "\n",
    "print(\"\\nDeleted rows:\")\n",
    "print(update_summary['deleted'])\n",
    "\n",
    "print(\"\\nModification patterns:\")\n",
    "print(update_summary['modified_patterns'])"
   ]
  }
 ],
 "metadata": {
  "kernelspec": {
   "display_name": "base",
   "language": "python",
   "name": "python3"
  },
  "language_info": {
   "codemirror_mode": {
    "name": "ipython",
    "version": 3
   },
   "file_extension": ".py",
   "mimetype": "text/x-python",
   "name": "python",
   "nbconvert_exporter": "python",
   "pygments_lexer": "ipython3",
   "version": "3.11.5"
  }
 },
 "nbformat": 4,
 "nbformat_minor": 2
}
