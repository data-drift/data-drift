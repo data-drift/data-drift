{
 "cells": [
  {
   "cell_type": "code",
   "execution_count": 3,
   "metadata": {},
   "outputs": [],
   "source": [
    "import sys\n",
    "from dotenv import load_dotenv\n",
    "from github import Github\n",
    "import os\n",
    "\n",
    "# Create a .env with the following content:\n",
    "# GH_TOKEN=your_github_token\n",
    "# REPON=$gh_org/$repo\n",
    "\n",
    "# Load environment variables from .env file\n",
    "load_dotenv(\"../.env\")\n",
    "\n",
    "\n",
    "# Get GitHub token from environment variable\n",
    "gh_token = os.getenv(\"GH_TOKEN\")\n",
    "if gh_token is None:\n",
    "    print(\"GitHub token not found! Create a .env file a the root with a GH_TOKEN variable.\")\n",
    "    exit(1)\n",
    "gh_client = Github(gh_token, timeout=60)\n",
    "repo = os.getenv(\"REPO\") or \"gh_org/repo\"\n",
    "repo = gh_client.get_repo(repo)"
   ]
  },
  {
   "cell_type": "code",
   "execution_count": 4,
   "metadata": {},
   "outputs": [
    {
     "name": "stdout",
     "output_type": "stream",
     "text": [
      "Storing metric...\n",
      "Metric found, updating it on branch: main\n",
      "Content https://raw.githubusercontent.com/Samox/data-history/main/path/to/metric_name_13.csv?token=ABUWFP2RHA2DRED27CB3G53FJZGOC\n",
      "Dataframe dtypes {'name': string[python], 'date': string[python], 'age': string[python]}\n",
      "Old Dataframe dtypes {'unique_key': string[python], 'name': string[python], 'date': string[python], 'age': string[python]}\n",
      "Nothing to update\n"
     ]
    }
   ],
   "source": [
    "import sys\n",
    "sys.path.append('..')\n",
    "import importlib\n",
    "import datagit.drift_evaluators\n",
    "importlib.reload(datagit.drift_evaluators)\n",
    "\n",
    "import datagit.github_connector\n",
    "importlib.reload(datagit.github_connector)\n",
    "from datagit.github_connector import store_metric\n",
    "import pandas as pd\n",
    "\n",
    "## Test with file already existing and splitting new data and historical data\n",
    "repo = os.getenv(\"REPO\") or \"gh_org/repo\"\n",
    "\n",
    "def formatDF(dict):\n",
    "    df = pd.DataFrame(dict)\n",
    "    df['unique_key'] = df.apply(lambda row: row['date'] + '-' + row['name'], axis=1)\n",
    "    column_order = ['unique_key'] + [col for col in df.columns if col != 'unique_key']\n",
    "    df = df.reindex(columns=column_order)\n",
    "    return df\n",
    "\n",
    "\n",
    "file_path = repo+\"/path/to/metric_name_13.csv\"\n",
    "\n",
    "# Store metric for the first time\n",
    "dataMonth1 = {\"name\": [\"Alice\", \"Bob\", \"Charlie\"], \"date\": [\"2022-12\",\"2023-01\",\"2023-01\"], \"age\": [25, 30, 35]}\n",
    "store_metric(ghClient=gh_client, dataframe= formatDF(dataMonth1),filepath= file_path, assignees=[\"Sammy\"])\n",
    "\n",
    "\n"
   ]
  },
  {
   "cell_type": "code",
   "execution_count": 5,
   "metadata": {},
   "outputs": [
    {
     "name": "stdout",
     "output_type": "stream",
     "text": [
      "Storing metric...\n",
      "Metric found, updating it on branch: main\n",
      "Content https://raw.githubusercontent.com/Samox/data-history/main/path/to/metric_name_13.csv?token=ABUWFP76W7WL7XLABILNWZTFJZGOE\n",
      "Dataframe dtypes {'name': string[python], 'date': string[python], 'age': string[python]}\n",
      "Old Dataframe dtypes {'unique_key': string[python], 'name': string[python], 'date': string[python], 'age': string[python]}\n",
      "Change detected\n",
      "Update: NEW DATA\n",
      "https://github.com/Samox/data-history/commit/6b0a38f1d2d1d6ed6aef2bb4558ee6db5391beae\n"
     ]
    }
   ],
   "source": [
    "# ## Introduce new data for 2023-02\n",
    "dataMonth2 = {\"name\": [\"Alice\", \"Bob\", \"Charlie\", \"Didier\", \"Philipe\", \"Antoine\"], \"date\": [\"2022-12\",\"2023-01\",\"2023-01\",\"2023-02\",\"2023-02\",\"2023-02\"], \"age\": [25, 30, 35, 40, 40, 40]}\n",
    "store_metric(ghClient=gh_client,dataframe=  formatDF(dataMonth2),filepath= file_path, assignees=[\"Sammy\"])\n",
    "\n"
   ]
  },
  {
   "cell_type": "code",
   "execution_count": 6,
   "metadata": {},
   "outputs": [
    {
     "name": "stdout",
     "output_type": "stream",
     "text": [
      "Storing metric...\n",
      "Metric found, updating it on branch: main\n",
      "Content https://raw.githubusercontent.com/Samox/data-history/main/path/to/metric_name_13.csv?token=ABUWFP3NBQCMOHCF5OCLGNTFJZGOI\n",
      "Dataframe dtypes {'name': string[python], 'date': string[python], 'age': string[python]}\n",
      "Old Dataframe dtypes {'unique_key': string[python], 'name': string[python], 'date': string[python], 'age': string[python]}\n",
      "Change detected\n",
      "Update: NEW DATA\n",
      "https://github.com/Samox/data-history/commit/dd061b46ef26ef05c957ee3f77058ea6266929b7\n",
      "Update: DRIFT Modification\n",
      "https://github.com/Samox/data-history/commit/87b6cb6fd5e079429c29edb4cc8a92636d8553c6\n"
     ]
    }
   ],
   "source": [
    "import sys\n",
    "sys.path.append('..')\n",
    "import importlib\n",
    "import datagit.github_connector\n",
    "importlib.reload(datagit.github_connector)\n",
    "from datagit.github_connector import store_metric\n",
    "import pandas as pd\n",
    "\n",
    "# ## Introduce new data for 2023-03 and a drift on 2020-02\n",
    "dataMonth3 = {\"name\": [\"Alice\", \"Bob\", \"Charlie\", \"Didier\", \"Philipe\", \"Antoine\", \"Clement\", \"Cyril\", \"Victor\"], \"date\": [\"2022-12\",\"2023-01\",\"2023-01\",\"2023-02\",\"2023-02\",\"2023-02\",\"2023-03\",\"2023-03\",\"2023-03\"], \"age\": [25, 30, 36, 40, 42, 40, 45, 45, 46]}\n",
    "store_metric(ghClient=gh_client,dataframe=  formatDF(dataMonth3),filepath= file_path, assignees=[\"Sammy\"])\n",
    "\n"
   ]
  },
  {
   "cell_type": "code",
   "execution_count": 7,
   "metadata": {},
   "outputs": [
    {
     "data": {
      "text/plain": [
       "{'MIGRATION Column Deleted': {'df':                     name     date  age\n",
       "  unique_key                            \n",
       "  2022-12-Alice      Alice  2022-12   25\n",
       "  2023-01-Bob          Bob  2023-01   30\n",
       "  2023-01-Charlie  Charlie  2023-01   35\n",
       "  2023-02-Didier    Didier  2023-02   40\n",
       "  2023-02-Philipe  Philipe  2023-02   40\n",
       "  2023-02-Antoine  Antoine  2023-02   40,\n",
       "  'has_update': False,\n",
       "  'type': <UpdateType.OTHER: 'other'>,\n",
       "  'drift_context': None},\n",
       " 'NEW DATA': {'df':                     name     date  age\n",
       "  unique_key                            \n",
       "  2022-12-Alice      Alice  2022-12   25\n",
       "  2023-01-Bob          Bob  2023-01   30\n",
       "  2023-01-Charlie  Charlie  2023-01   35\n",
       "  2023-02-Didier    Didier  2023-02   40\n",
       "  2023-02-Philipe  Philipe  2023-02   40\n",
       "  2023-02-Antoine  Antoine  2023-02   40\n",
       "  2023-03-Clement  Clement  2023-03   45\n",
       "  2023-03-Cyril      Cyril  2023-03   45\n",
       "  2023-03-Victor    Victor  2023-03   46,\n",
       "  'has_update': True,\n",
       "  'type': <UpdateType.OTHER: 'other'>,\n",
       "  'drift_context': None},\n",
       " 'DRIFT Deletion': {'df':                     name     date  age\n",
       "  unique_key                            \n",
       "  2022-12-Alice      Alice  2022-12   25\n",
       "  2023-01-Bob          Bob  2023-01   30\n",
       "  2023-01-Charlie  Charlie  2023-01   35\n",
       "  2023-02-Antoine  Antoine  2023-02   40\n",
       "  2023-02-Didier    Didier  2023-02   40\n",
       "  2023-02-Philipe  Philipe  2023-02   40\n",
       "  2023-03-Clement  Clement  2023-03   45\n",
       "  2023-03-Cyril      Cyril  2023-03   45\n",
       "  2023-03-Victor    Victor  2023-03   46,\n",
       "  'has_update': True,\n",
       "  'type': <UpdateType.DRIFT: 'drift'>,\n",
       "  'drift_context': {'before':                     name     date  age\n",
       "   unique_key                            \n",
       "   2022-12-Alice      Alice  2022-12   25\n",
       "   2023-01-Bob          Bob  2023-01   30\n",
       "   2023-01-Charlie  Charlie  2023-01   35\n",
       "   2023-02-Didier    Didier  2023-02   40\n",
       "   2023-02-Philipe  Philipe  2023-02   40\n",
       "   2023-02-Antoine  Antoine  2023-02   40\n",
       "   2023-03-Clement  Clement  2023-03   45\n",
       "   2023-03-Cyril      Cyril  2023-03   45\n",
       "   2023-03-Victor    Victor  2023-03   46,\n",
       "   'after':                     name     date  age\n",
       "   unique_key                            \n",
       "   2022-12-Alice      Alice  2022-12   25\n",
       "   2023-01-Bob          Bob  2023-01   30\n",
       "   2023-01-Charlie  Charlie  2023-01   35\n",
       "   2023-02-Antoine  Antoine  2023-02   40\n",
       "   2023-02-Didier    Didier  2023-02   40\n",
       "   2023-02-Philipe  Philipe  2023-02   40\n",
       "   2023-03-Clement  Clement  2023-03   45\n",
       "   2023-03-Cyril      Cyril  2023-03   45\n",
       "   2023-03-Victor    Victor  2023-03   46}},\n",
       " 'DRIFT Addition': {'df':                     name     date  age\n",
       "  unique_key                            \n",
       "  2022-12-Alice      Alice  2022-12   25\n",
       "  2023-01-Bob          Bob  2023-01   30\n",
       "  2023-01-Charlie  Charlie  2023-01   35\n",
       "  2023-02-Antoine  Antoine  2023-02   40\n",
       "  2023-02-Didier    Didier  2023-02   40\n",
       "  2023-02-Philipe  Philipe  2023-02   40\n",
       "  2023-03-Clement  Clement  2023-03   45\n",
       "  2023-03-Cyril      Cyril  2023-03   45\n",
       "  2023-03-Victor    Victor  2023-03   46,\n",
       "  'has_update': False,\n",
       "  'type': <UpdateType.DRIFT: 'drift'>,\n",
       "  'drift_context': {'before':                     name     date  age\n",
       "   unique_key                            \n",
       "   2022-12-Alice      Alice  2022-12   25\n",
       "   2023-01-Bob          Bob  2023-01   30\n",
       "   2023-01-Charlie  Charlie  2023-01   35\n",
       "   2023-02-Antoine  Antoine  2023-02   40\n",
       "   2023-02-Didier    Didier  2023-02   40\n",
       "   2023-02-Philipe  Philipe  2023-02   40\n",
       "   2023-03-Clement  Clement  2023-03   45\n",
       "   2023-03-Cyril      Cyril  2023-03   45\n",
       "   2023-03-Victor    Victor  2023-03   46,\n",
       "   'after':                     name     date  age\n",
       "   unique_key                            \n",
       "   2022-12-Alice      Alice  2022-12   25\n",
       "   2023-01-Bob          Bob  2023-01   30\n",
       "   2023-01-Charlie  Charlie  2023-01   35\n",
       "   2023-02-Antoine  Antoine  2023-02   40\n",
       "   2023-02-Didier    Didier  2023-02   40\n",
       "   2023-02-Philipe  Philipe  2023-02   40\n",
       "   2023-03-Clement  Clement  2023-03   45\n",
       "   2023-03-Cyril      Cyril  2023-03   45\n",
       "   2023-03-Victor    Victor  2023-03   46}},\n",
       " 'DRIFT Modification': {'df':                     name     date  age\n",
       "  unique_key                            \n",
       "  2022-12-Alice      Alice  2022-12   25\n",
       "  2023-01-Bob          Bob  2023-01   30\n",
       "  2023-01-Charlie  Charlie  2023-01   36\n",
       "  2023-02-Antoine  Antoine  2023-02   40\n",
       "  2023-02-Didier    Didier  2023-02   40\n",
       "  2023-02-Philipe  Philipe  2023-02   42\n",
       "  2023-03-Clement  Clement  2023-03   45\n",
       "  2023-03-Cyril      Cyril  2023-03   45\n",
       "  2023-03-Victor    Victor  2023-03   46,\n",
       "  'has_update': True,\n",
       "  'type': <UpdateType.DRIFT: 'drift'>,\n",
       "  'drift_context': {'before':                     name     date  age\n",
       "   unique_key                            \n",
       "   2022-12-Alice      Alice  2022-12   25\n",
       "   2023-01-Bob          Bob  2023-01   30\n",
       "   2023-01-Charlie  Charlie  2023-01   35\n",
       "   2023-02-Antoine  Antoine  2023-02   40\n",
       "   2023-02-Didier    Didier  2023-02   40\n",
       "   2023-02-Philipe  Philipe  2023-02   40\n",
       "   2023-03-Clement  Clement  2023-03   45\n",
       "   2023-03-Cyril      Cyril  2023-03   45\n",
       "   2023-03-Victor    Victor  2023-03   46,\n",
       "   'after':                     name     date  age\n",
       "   unique_key                            \n",
       "   2022-12-Alice      Alice  2022-12   25\n",
       "   2023-01-Bob          Bob  2023-01   30\n",
       "   2023-01-Charlie  Charlie  2023-01   36\n",
       "   2023-02-Antoine  Antoine  2023-02   40\n",
       "   2023-02-Didier    Didier  2023-02   40\n",
       "   2023-02-Philipe  Philipe  2023-02   42\n",
       "   2023-03-Clement  Clement  2023-03   45\n",
       "   2023-03-Cyril      Cyril  2023-03   45\n",
       "   2023-03-Victor    Victor  2023-03   46}},\n",
       " 'MIGRATION Column Added': {'df':                     name     date  age\n",
       "  unique_key                            \n",
       "  2022-12-Alice      Alice  2022-12   25\n",
       "  2023-01-Bob          Bob  2023-01   30\n",
       "  2023-01-Charlie  Charlie  2023-01   36\n",
       "  2023-02-Antoine  Antoine  2023-02   40\n",
       "  2023-02-Didier    Didier  2023-02   40\n",
       "  2023-02-Philipe  Philipe  2023-02   42\n",
       "  2023-03-Clement  Clement  2023-03   45\n",
       "  2023-03-Cyril      Cyril  2023-03   45\n",
       "  2023-03-Victor    Victor  2023-03   46,\n",
       "  'has_update': False,\n",
       "  'type': <UpdateType.OTHER: 'other'>,\n",
       "  'drift_context': None}}"
      ]
     },
     "execution_count": 7,
     "metadata": {},
     "output_type": "execute_result"
    }
   ],
   "source": [
    "\n",
    "from datagit.dataframe_update_breakdown import dataframe_update_breakdown\n",
    "\n",
    "\n",
    "dataframe_update_breakdown(initial_dataframe=formatDF(dataMonth2), final_dataframe=formatDF(dataMonth3))"
   ]
  },
  {
   "cell_type": "code",
   "execution_count": 8,
   "metadata": {},
   "outputs": [
    {
     "name": "stdout",
     "output_type": "stream",
     "text": [
      "Storing metric...\n",
      "Metric found, updating it on branch: main\n",
      "Content https://raw.githubusercontent.com/Samox/data-history/main/path/to/metric_name_13.csv?token=ABUWFP3EC652K74YTXPDNGDFJZGOO\n",
      "Dataframe dtypes {'name': string[python], 'date': string[python], 'age': string[python]}\n",
      "Old Dataframe dtypes {'unique_key': string[python], 'name': string[python], 'date': string[python], 'age': string[python]}\n",
      "Change detected\n",
      "Update: DRIFT Modification\n",
      "Branch drift/2023-11-10-16-30-50/path-to-metric-name-13-csv doesn't exist, creating it...\n",
      "Checkout branch: drift/2023-11-10-16-30-50/path-to-metric-name-13-csv  from default branch:main\n",
      "https://github.com/Samox/data-history/commit/a2fb50b405226829dd85652de3666809bfa6c7e5\n",
      "Pull request created: https://github.com/Samox/data-history/pull/170\n",
      "Assignee Sammy does not exist\n"
     ]
    }
   ],
   "source": [
    "# ## No new data. Adds a drift for Philipe, and remove all other drifts\n",
    "from datagit.drift_evaluators import alert_drift\n",
    "\n",
    "\n",
    "dataMonth3And1Day = {\"name\": [\"Alice\", \"Bob\", \"Charlie\", \"Didier\", \"Philipe\", \"Antoine\", \"Clement\", \"Cyril\", \"Victor\"], \"date\": [\"2022-12\",\"2023-01\",\"2023-01\",\"2023-02\",\"2023-02\",\"2023-02\",\"2023-03\",\"2023-03\",\"2023-03\"], \"age\": [25, 30, 35, 40, 42, 40, 45, 45, 46]}\n",
    "store_metric(ghClient=gh_client, dataframe= formatDF(dataMonth3And1Day),filepath= file_path, assignees=[\"Sammy\"], drift_evaluator=alert_drift)\n"
   ]
  },
  {
   "cell_type": "code",
   "execution_count": 9,
   "metadata": {},
   "outputs": [
    {
     "name": "stdout",
     "output_type": "stream",
     "text": [
      "Storing metric...\n",
      "Metric found, updating it on branch: main\n",
      "Content https://raw.githubusercontent.com/Samox/data-history/main/path/to/metric_name_13.csv?token=ABUWFP27I5T7GS3WYEWRUODFJZGO2\n",
      "Dataframe dtypes {'name': string[python], 'date': string[python], 'age': string[python]}\n",
      "Old Dataframe dtypes {'unique_key': string[python], 'name': string[python], 'date': string[python], 'age': string[python]}\n",
      "Change detected\n",
      "Update: DRIFT Addition\n",
      "Branch drift/2023-11-10-16-30-56/path-to-metric-name-13-csv doesn't exist, creating it...\n",
      "Checkout branch: drift/2023-11-10-16-30-56/path-to-metric-name-13-csv  from default branch:main\n",
      "https://github.com/Samox/data-history/commit/a0cc0c4501ad179b67dbdc67a4902899646ae743\n",
      "Update: DRIFT Modification\n",
      "https://github.com/Samox/data-history/commit/50e38d8d195aa5f4c20e0780a7e6cf9fd61d407c\n",
      "Pull request created: https://github.com/Samox/data-history/pull/171\n",
      "Assignee Sammy does not exist\n"
     ]
    }
   ],
   "source": [
    "# ## No new data. Adds a drift for Philipe, and remove all other drifts\n",
    "dataMonth3And2Day = {\"name\": [\"Alice\", \"Alixe\", \"Bob\", \"Charlie\", \"Didier\", \"Philipe\", \"Antoine\", \"Clement\", \"Cyril\", \"Victor\"], \"date\": [\"2022-12\",\"2022-12\",\"2023-01\",\"2023-01\",\"2023-02\",\"2023-02\",\"2023-02\",\"2023-03\",\"2023-03\",\"2023-03\"], \"age\": [25, 25, 30, 35, 40, 42, 40, 45, 45, 46]}\n",
    "store_metric(ghClient=gh_client, dataframe= formatDF(dataMonth3And2Day), filepath=file_path, assignees=[\"Sammy\"], drift_evaluator=alert_drift)\n"
   ]
  },
  {
   "cell_type": "code",
   "execution_count": 10,
   "metadata": {},
   "outputs": [
    {
     "name": "stdout",
     "output_type": "stream",
     "text": [
      "                                  unique_key        date  metric_value\n",
      "0       4bca7ccb-fe2b-4527-b054-8bfd30de39bb  2015-06-05          2.76\n",
      "1       db6a8c43-dc5e-449f-84a3-c274225df761  2018-06-21          5.51\n",
      "2       7fc9012f-195d-4b60-bdd8-66dcb1caa95d  2011-09-05          5.34\n",
      "3       9146d08b-3c30-433f-9b6c-3db39ca59a70  2009-08-18          3.35\n",
      "4       1a72cfe6-5e1c-4007-9994-f09f4d078854  2007-04-27          0.49\n",
      "...                                      ...         ...           ...\n",
      "599995  6afbeeac-e373-4bb1-a15f-efad4a6b067b  2015-03-15          7.96\n",
      "599996  09d57bc7-dc12-4894-b81f-de69a2912c51  2000-10-06          1.77\n",
      "599997  dc50e686-6be2-4f1b-99f1-6aca63125443  1997-11-25          1.42\n",
      "599998  eea2bca6-c9d7-413e-8573-0a3f61a47f54  1995-03-04          9.13\n",
      "599999  a5838e57-b327-416e-95e5-dfc83c007e78  1996-11-16          5.27\n",
      "\n",
      "[600000 rows x 3 columns]\n"
     ]
    }
   ],
   "source": [
    "import pandas as pd\n",
    "from faker import Faker\n",
    "import random\n",
    "\n",
    "# Initialize Faker to generate random data\n",
    "fake = Faker()\n",
    "\n",
    "# Set the number of rows for the dataframe\n",
    "num_rows = 600000\n",
    "\n",
    "# Generate random IDs and dates\n",
    "ids = [fake.uuid4() for _ in range(num_rows)]\n",
    "dates = [fake.date_between(start_date='-30y', end_date='today').strftime('%Y-%m-%d') for _ in range(num_rows)]\n",
    "\n",
    "# Generate random metric values between 0 and 10\n",
    "metric_values = [round(random.uniform(0, 10),2) for _ in range(num_rows)]\n",
    "\n",
    "# Create the dataframe\n",
    "ultra_large_df = pd.DataFrame({'unique_key': ids, 'date': dates, 'metric_value': metric_values})\n",
    "\n",
    "# Print the dataframe\n",
    "print(ultra_large_df)"
   ]
  },
  {
   "cell_type": "code",
   "execution_count": 11,
   "metadata": {},
   "outputs": [
    {
     "name": "stdout",
     "output_type": "stream",
     "text": [
      "Storing metric...\n",
      "Metric not found, creating it on branch: main\n",
      "Commit: New data: path/to/ultra_large_metric_name3.csv\n",
      "Metric stored\n"
     ]
    }
   ],
   "source": [
    "import sys\n",
    "sys.path.append('..')\n",
    "import importlib\n",
    "import datagit.github_connector\n",
    "importlib.reload(datagit.github_connector)\n",
    "from datagit.github_connector import store_metric\n",
    "import pandas as pd\n",
    "\n",
    "## Test with file already existing and splitting new data and historical data\n",
    "repo = os.getenv(\"REPO\") or \"gh_org/repo\"\n",
    "store_metric(ghClient=gh_client,  dataframe=ultra_large_df, filepath=repo+\"/path/to/ultra_large_metric_name3.csv\", assignees=[\"Sammy\"])"
   ]
  },
  {
   "cell_type": "code",
   "execution_count": 12,
   "metadata": {},
   "outputs": [],
   "source": [
    "ultra_large_df = ultra_large_df.iloc[:-1]\n"
   ]
  }
 ],
 "metadata": {
  "kernelspec": {
   "display_name": "base",
   "language": "python",
   "name": "python3"
  },
  "language_info": {
   "codemirror_mode": {
    "name": "ipython",
    "version": 3
   },
   "file_extension": ".py",
   "mimetype": "text/x-python",
   "name": "python",
   "nbconvert_exporter": "python",
   "pygments_lexer": "ipython3",
   "version": "3.11.5"
  },
  "orig_nbformat": 4
 },
 "nbformat": 4,
 "nbformat_minor": 2
}
