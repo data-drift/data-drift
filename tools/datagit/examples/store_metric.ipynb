{
 "cells": [
  {
   "cell_type": "code",
   "execution_count": 11,
   "metadata": {},
   "outputs": [],
   "source": [
    "import sys\n",
    "from dotenv import load_dotenv\n",
    "from github import Github\n",
    "import os\n",
    "\n",
    "# Create a .env with the following content:\n",
    "# GH_TOKEN=your_github_token\n",
    "# REPON=$gh_org/$repo\n",
    "\n",
    "# Load environment variables from .env file\n",
    "load_dotenv()\n",
    "\n",
    "\n",
    "# Get GitHub token from environment variable\n",
    "gh_token = os.getenv(\"GH_TOKEN\")\n",
    "if gh_token is None:\n",
    "    print(\"GitHub token not found! Create a .env file a the root with a GH_TOKEN variable.\")\n",
    "    exit(1)\n",
    "gh_client = Github(gh_token, timeout=60)\n"
   ]
  },
  {
   "cell_type": "code",
   "execution_count": 27,
   "metadata": {},
   "outputs": [
    {
     "name": "stdout",
     "output_type": "stream",
     "text": [
      "Storing metric...\n",
      "Metric found, updating it on branch: reported\n",
      "Content https://raw.githubusercontent.com/Samox/copy-libeo-data-history/reported/path/to/metric_name_06-07-23.csv?token=ABUWFP45YTN3ONUAQJE2UGLEVPK6G\n",
      "Drift detected\n",
      "Could not display drift\n",
      "Drift evaluation: {'should_alert': False, 'message': 'Drift detected and automatically merged.'}\n",
      "No alert needed, pushing on reported branch\n",
      "Commit: Drift: path/to/metric_name_06-07-23.csv\n",
      "https://github.com/Samox/copy-libeo-data-history/commit/ea479e197d0983236de17173db586a135f701e8c\n",
      "https://github.com/Samox/copy-libeo-data-history/commit/0583ad7df3e94729cdab3a4af0c34407e889820d\n",
      "Drift pushed on reported branch\n"
     ]
    }
   ],
   "source": [
    "import sys\n",
    "sys.path.append('..')\n",
    "import importlib\n",
    "import datagit.drift_evaluators\n",
    "importlib.reload(datagit.drift_evaluators)\n",
    "from datagit.drift_evaluators import default_drift_evaluator, auto_merge_drift\n",
    "\n",
    "import datagit.github_connector\n",
    "importlib.reload(datagit.github_connector)\n",
    "from datagit.github_connector import store_metric\n",
    "import pandas as pd\n",
    "\n",
    "## Test with file already existing and splitting new data and historical data\n",
    "repo = os.getenv(\"REPO\") or \"gh_org/repo\"\n",
    "\n",
    "def formatDF(dict):\n",
    "    df = pd.DataFrame(dict)\n",
    "    df['unique_key'] = df.apply(lambda row: row['date'] + '-' + row['name'], axis=1)\n",
    "    column_order = ['unique_key'] + [col for col in df.columns if col != 'unique_key']\n",
    "    df = df.reindex(columns=column_order)\n",
    "    return df\n",
    "\n",
    "\n",
    "file_path = repo+\"/path/to/metric_name_06-07-23.csv\"\n",
    "\n",
    "# Store metric for the first time\n",
    "dataMonth1 = {\"name\": [\"Alice\", \"Bob\", \"Charlie\"], \"date\": [\"2022-12\",\"2023-01\",\"2023-01\"], \"age\": [25, 30, 35]}\n",
    "store_metric(gh_client,  formatDF(dataMonth1), file_path, assignees=[\"Sammy\"], drift_evaluator=auto_merge_drift)\n",
    "\n",
    "\n"
   ]
  },
  {
   "cell_type": "code",
   "execution_count": 25,
   "metadata": {},
   "outputs": [
    {
     "name": "stdout",
     "output_type": "stream",
     "text": [
      "Storing metric...\n",
      "Metric found, updating it on branch: reported\n",
      "Content https://raw.githubusercontent.com/Samox/copy-libeo-data-history/reported/path/to/metric_name_06-07-23.csv?token=ABUWFP46YXUOJLO6YKV6AR3EVPKHQ\n",
      "New data found\n",
      "Commit: New data: path/to/metric_name_06-07-23.csv\n",
      "No drift detected\n"
     ]
    }
   ],
   "source": [
    "# ## Introduce new data for 2023-02\n",
    "dataMonth2 = {\"name\": [\"Alice\", \"Bob\", \"Charlie\", \"Didier\", \"Philipe\", \"Antoine\"], \"date\": [\"2022-12\",\"2023-01\",\"2023-01\",\"2023-02\",\"2023-02\",\"2023-02\"], \"age\": [25, 30, 35, 40, 40, 40]}\n",
    "store_metric(gh_client,  formatDF(dataMonth2), file_path, assignees=[\"Sammy\"])\n",
    "\n"
   ]
  },
  {
   "cell_type": "code",
   "execution_count": 26,
   "metadata": {},
   "outputs": [
    {
     "name": "stdout",
     "output_type": "stream",
     "text": [
      "Storing metric...\n",
      "Metric found, updating it on branch: reported\n",
      "Content https://raw.githubusercontent.com/Samox/copy-libeo-data-history/reported/path/to/metric_name_06-07-23.csv?token=ABUWFPYNPJ3VGEM4O5VGK5DEVPKIE\n",
      "New data found\n",
      "Commit: New data: path/to/metric_name_06-07-23.csv\n",
      "https://github.com/Samox/copy-libeo-data-history/commit/c78d56c7897be677a93ad62984b070950fe27ebc\n",
      "https://github.com/Samox/copy-libeo-data-history/commit/d153630747ce9df253810f9dd8f0592afa930ff7\n",
      "Drift detected\n",
      "    age      \n",
      "   self other\n",
      "2  35.0  36.0\n",
      "5  40.0  42.0\n",
      "Drift evaluator failed: 'dict' object has no attribute 'reported_dataframe'\n",
      "Using default drift evaluator\n",
      "Drift evaluation: {'should_alert': True, 'message': 'Drift detected:\\n- ~~🆕 0 addition~~\\n- ♻️ 2 modifications\\n- ~~🗑️ 0 deletion~~'}\n",
      "Commit: Drift: path/to/metric_name_06-07-23.csv\n",
      "https://github.com/Samox/copy-libeo-data-history/commit/937a49542a2e85dce858f6ad706cfa1ec5a76a29\n",
      "https://github.com/Samox/copy-libeo-data-history/commit/2ed50cd465f9a6cfe1e66fe12af7f6ecb61c3f86\n",
      "Drift pushed\n",
      "Creating pull request\n",
      "Pull request created: https://github.com/Samox/copy-libeo-data-history/pull/104\n",
      "Assignee Sammy does not exist\n"
     ]
    }
   ],
   "source": [
    "import sys\n",
    "sys.path.append('..')\n",
    "import importlib\n",
    "import datagit.github_connector\n",
    "importlib.reload(datagit.github_connector)\n",
    "from datagit.github_connector import store_metric\n",
    "import pandas as pd\n",
    "\n",
    "# ## Introduce new data for 2023-03 and a drift on 2020-02\n",
    "dataMonth3 = {\"name\": [\"Alice\", \"Bob\", \"Charlie\", \"Didier\", \"Philipe\", \"Antoine\", \"Clement\", \"Cyril\", \"Victor\"], \"date\": [\"2022-12\",\"2023-01\",\"2023-01\",\"2023-02\",\"2023-02\",\"2023-02\",\"2023-03\",\"2023-03\",\"2023-03\"], \"age\": [25, 30, 36, 40, 42, 40, 45, 45, 46]}\n",
    "store_metric(gh_client,  formatDF(dataMonth3), file_path, assignees=[\"Sammy\"])\n",
    "\n"
   ]
  },
  {
   "cell_type": "code",
   "execution_count": 5,
   "metadata": {},
   "outputs": [
    {
     "name": "stdout",
     "output_type": "stream",
     "text": [
      "Storing metric...\n",
      "Metric found, updating it on branch: reported\n",
      "Content https://raw.githubusercontent.com/Samox/copy-libeo-data-history/reported/path/to/metric_name_06-07-23.csv?token=ABUWFP27BWNYL2A2SPYST4TEU2BRI\n",
      "Drift detected\n",
      "    age      \n",
      "   self other\n",
      "5  40.0  42.0\n",
      "Commit: Drift: path/to/metric_name_06-07-23.csv\n",
      "Drift pushed\n",
      "Creating pull request\n",
      "Pull request created: https://github.com/Samox/copy-libeo-data-history/pull/89\n",
      "Assignee Sammy does not exist\n"
     ]
    }
   ],
   "source": [
    "# ## No new data. Adds a drift for Philipe, and remove all other drifts\n",
    "dataMonth3And1Day = {\"name\": [\"Alice\", \"Bob\", \"Charlie\", \"Didier\", \"Philipe\", \"Antoine\", \"Clement\", \"Cyril\", \"Victor\"], \"date\": [\"2022-12\",\"2023-01\",\"2023-01\",\"2023-02\",\"2023-02\",\"2023-02\",\"2023-03\",\"2023-03\",\"2023-03\"], \"age\": [25, 30, 35, 40, 42, 40, 45, 45, 46]}\n",
    "store_metric(gh_client,  formatDF(dataMonth3And1Day), file_path, assignees=[\"Sammy\"])\n"
   ]
  },
  {
   "cell_type": "code",
   "execution_count": 8,
   "metadata": {},
   "outputs": [
    {
     "name": "stdout",
     "output_type": "stream",
     "text": [
      "Storing metric...\n",
      "Metric found, updating it on branch: reported\n",
      "Drift detected\n",
      "Commit: Drift: path/to/metric_name.csv\n",
      "Drift pushed\n",
      "Creating pull request\n",
      "Pull request created: https://github.com/Samox/copy-libeo-data-history/pull/50\n",
      "Assignee Sammy does not exist\n"
     ]
    }
   ],
   "source": [
    "# ## No new data. Adds a drift for Philipe, and remove all other drifts\n",
    "dataMonth3And2Day = {\"name\": [\"Alice\", \"Alixe\", \"Bob\", \"Charlie\", \"Didier\", \"Philipe\", \"Antoine\", \"Clement\", \"Cyril\", \"Victor\"], \"date\": [\"2022-12\",\"2022-12\",\"2023-01\",\"2023-01\",\"2023-02\",\"2023-02\",\"2023-02\",\"2023-03\",\"2023-03\",\"2023-03\"], \"age\": [25, 25, 30, 35, 40, 42, 40, 45, 45, 46]}\n",
    "store_metric(gh_client,  formatDF(dataMonth3And2Day), file_path, assignees=[\"Sammy\"])\n"
   ]
  },
  {
   "cell_type": "code",
   "execution_count": 8,
   "metadata": {},
   "outputs": [
    {
     "name": "stdout",
     "output_type": "stream",
     "text": [
      "                                  unique_key        date  metric_value\n",
      "0       0432ef12-da7f-45c4-8913-824b04f83ef4  1994-04-06          5.76\n",
      "1       a93f41e7-0ab7-4750-8c2f-874125a720ae  1995-12-07          5.93\n",
      "2       96a2318f-631e-460a-8797-3045ae4ce64a  2005-03-22          5.74\n",
      "3       980ad028-8f27-4c27-bb6c-e1c73c0741b5  2009-04-01          8.90\n",
      "4       9b04a5c8-0e30-4649-96a9-84e945c29ecf  2014-04-30          2.98\n",
      "...                                      ...         ...           ...\n",
      "599995  3b8ac245-50d7-481d-8710-6d188f29316e  2010-12-18          1.56\n",
      "599996  ded9dd37-9c33-456e-8045-3df8ea8597b0  1998-01-01          5.19\n",
      "599997  82d30a01-9958-43aa-8908-627834047df1  2006-08-30          7.29\n",
      "599998  affed857-153a-4991-a066-35395f0fb73f  2002-05-02          5.28\n",
      "599999  9c5dda97-1171-4363-ac8c-5859f767e4e5  2016-08-16          1.32\n",
      "\n",
      "[600000 rows x 3 columns]\n"
     ]
    }
   ],
   "source": [
    "import pandas as pd\n",
    "from faker import Faker\n",
    "import random\n",
    "\n",
    "# Initialize Faker to generate random data\n",
    "fake = Faker()\n",
    "\n",
    "# Set the number of rows for the dataframe\n",
    "num_rows = 600000\n",
    "\n",
    "# Generate random IDs and dates\n",
    "ids = [fake.uuid4() for _ in range(num_rows)]\n",
    "dates = [fake.date_between(start_date='-30y', end_date='today').strftime('%Y-%m-%d') for _ in range(num_rows)]\n",
    "\n",
    "# Generate random metric values between 0 and 10\n",
    "metric_values = [round(random.uniform(0, 10),2) for _ in range(num_rows)]\n",
    "\n",
    "# Create the dataframe\n",
    "ultra_large_df = pd.DataFrame({'unique_key': ids, 'date': dates, 'metric_value': metric_values})\n",
    "\n",
    "# Print the dataframe\n",
    "print(ultra_large_df)"
   ]
  },
  {
   "cell_type": "code",
   "execution_count": 21,
   "metadata": {},
   "outputs": [
    {
     "name": "stdout",
     "output_type": "stream",
     "text": [
      "Storing metric...\n",
      "Metric found, updating it on branch: reported\n",
      "Content https://raw.githubusercontent.com/Samox/copy-libeo-data-history/reported/path/to/ultra_large_metric_name3.csv?token=ABUWFPZQHHSYRURECQWV2JLEUWQL4\n",
      "Drift detected\n",
      "Could not display drift\n",
      "Commit: Drift: path/to/ultra_large_metric_name3.csv\n",
      "Drift pushed\n",
      "Creating pull request\n",
      "Pull request created: https://github.com/Samox/copy-libeo-data-history/pull/80\n",
      "Assignee Sammy does not exist\n"
     ]
    }
   ],
   "source": [
    "import sys\n",
    "sys.path.append('..')\n",
    "import importlib\n",
    "import datagit.github_connector\n",
    "importlib.reload(datagit.github_connector)\n",
    "from datagit.github_connector import store_metric\n",
    "import pandas as pd\n",
    "\n",
    "## Test with file already existing and splitting new data and historical data\n",
    "repo = os.getenv(\"REPO\") or \"gh_org/repo\"\n",
    "store_metric(gh_client,  ultra_large_df, repo+\"/path/to/ultra_large_metric_name3.csv\", assignees=[\"Sammy\"])"
   ]
  },
  {
   "cell_type": "code",
   "execution_count": 20,
   "metadata": {},
   "outputs": [],
   "source": [
    "ultra_large_df = ultra_large_df.iloc[:-1]\n"
   ]
  }
 ],
 "metadata": {
  "kernelspec": {
   "display_name": "base",
   "language": "python",
   "name": "python3"
  },
  "language_info": {
   "codemirror_mode": {
    "name": "ipython",
    "version": 3
   },
   "file_extension": ".py",
   "mimetype": "text/x-python",
   "name": "python",
   "nbconvert_exporter": "python",
   "pygments_lexer": "ipython3",
   "version": "3.11.3"
  },
  "orig_nbformat": 4
 },
 "nbformat": 4,
 "nbformat_minor": 2
}
