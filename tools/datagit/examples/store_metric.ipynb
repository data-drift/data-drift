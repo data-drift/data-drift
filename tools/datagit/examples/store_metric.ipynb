{
 "cells": [
  {
   "cell_type": "code",
   "execution_count": 2,
   "metadata": {},
   "outputs": [],
   "source": [
    "import sys\n",
    "from dotenv import load_dotenv\n",
    "from github import Github\n",
    "import os\n",
    "\n",
    "# Create a .env with the following content:\n",
    "# GH_TOKEN=your_github_token\n",
    "# REPON=$gh_org/$repo\n",
    "\n",
    "# Load environment variables from .env file\n",
    "load_dotenv(\"../.env\")\n",
    "\n",
    "\n",
    "# Get GitHub token from environment variable\n",
    "gh_token = os.getenv(\"GH_TOKEN\")\n",
    "if gh_token is None:\n",
    "    print(\"GitHub token not found! Create a .env file a the root with a GH_TOKEN variable.\")\n",
    "    exit(1)\n",
    "gh_client = Github(gh_token, timeout=60)\n",
    "repo = os.getenv(\"REPO\") or \"gh_org/repo\"\n",
    "repo = gh_client.get_repo(repo)"
   ]
  },
  {
   "cell_type": "code",
   "execution_count": 4,
   "metadata": {},
   "outputs": [
    {
     "name": "stdout",
     "output_type": "stream",
     "text": [
      "Storing metric...\n",
      "Metric found, updating it on branch: main\n",
      "Content https://raw.githubusercontent.com/Samox/data-history/main/path/to/metric_name_23-09-truc3.csv?token=ABUWFP3UHVPL52WULA7XXZ3FBLWCS\n",
      "Dataframe dtypes {'unique_key': string[python], 'name': string[python], 'date': string[python], 'age': string[python]}\n",
      "Old Dataframe dtypes {'unique_key': string[python], 'name': string[python], 'date': string[python], 'age': string[python]}\n",
      "Branch drift/2023-09-20-14-56-12/path-to-metric-name-23-09-truc3-csv doesn't exist, creating it...\n",
      "Checkout branch: drift/2023-09-20-14-56-12/path-to-metric-name-23-09-truc3-csv  from default branch:main\n",
      "comparison Empty DataFrame\n",
      "Columns: []\n",
      "Index: []\n",
      "No drift detected\n"
     ]
    }
   ],
   "source": [
    "import sys\n",
    "sys.path.append('..')\n",
    "import importlib\n",
    "import datagit.drift_evaluators\n",
    "importlib.reload(datagit.drift_evaluators)\n",
    "from datagit.drift_evaluators import default_drift_evaluator, auto_merge_drift\n",
    "\n",
    "import datagit.github_connector\n",
    "importlib.reload(datagit.github_connector)\n",
    "from datagit.github_connector import store_metric\n",
    "import pandas as pd\n",
    "\n",
    "## Test with file already existing and splitting new data and historical data\n",
    "repo = os.getenv(\"REPO\") or \"gh_org/repo\"\n",
    "\n",
    "def formatDF(dict):\n",
    "    df = pd.DataFrame(dict)\n",
    "    df['unique_key'] = df.apply(lambda row: row['date'] + '-' + row['name'], axis=1)\n",
    "    column_order = ['unique_key'] + [col for col in df.columns if col != 'unique_key']\n",
    "    df = df.reindex(columns=column_order)\n",
    "    return df\n",
    "\n",
    "\n",
    "file_path = repo+\"/path/to/metric_name_23-09-truc3.csv\"\n",
    "\n",
    "# Store metric for the first time\n",
    "dataMonth1 = {\"name\": [\"Alice\", \"Bob\", \"Charlie\"], \"date\": [\"2022-12\",\"2023-01\",\"2023-01\"], \"age\": [25, 30, 35]}\n",
    "store_metric(gh_client,  formatDF(dataMonth1), file_path, assignees=[\"Sammy\"])\n",
    "\n",
    "\n"
   ]
  },
  {
   "cell_type": "code",
   "execution_count": 5,
   "metadata": {},
   "outputs": [
    {
     "name": "stdout",
     "output_type": "stream",
     "text": [
      "Storing metric...\n",
      "Metric found, updating it on branch: main\n",
      "Content https://raw.githubusercontent.com/Samox/data-history/main/path/to/metric_name_23-09-truc3.csv?token=ABUWFP7YWPEZMTQRGH7MSRDFBLWD4\n",
      "Dataframe dtypes {'unique_key': string[python], 'name': string[python], 'date': string[python], 'age': string[python]}\n",
      "Old Dataframe dtypes {'unique_key': string[python], 'name': string[python], 'date': string[python], 'age': string[python]}\n",
      "New data found\n",
      "Commit: New data: path/to/metric_name_23-09-truc3.csv\n",
      "https://github.com/Samox/data-history/commit/e457c05839d7330798d5ecf06a7146972f01db7c\n",
      "Branch drift/2023-09-20-14-56-33/path-to-metric-name-23-09-truc3-csv doesn't exist, creating it...\n",
      "Checkout branch: drift/2023-09-20-14-56-33/path-to-metric-name-23-09-truc3-csv  from default branch:main\n",
      "comparison Empty DataFrame\n",
      "Columns: []\n",
      "Index: []\n",
      "No drift detected\n"
     ]
    }
   ],
   "source": [
    "# ## Introduce new data for 2023-02\n",
    "dataMonth2 = {\"name\": [\"Alice\", \"Bob\", \"Charlie\", \"Didier\", \"Philipe\", \"Antoine\"], \"date\": [\"2022-12\",\"2023-01\",\"2023-01\",\"2023-02\",\"2023-02\",\"2023-02\"], \"age\": [25, 30, 35, 40, 40, 40]}\n",
    "store_metric(gh_client,  formatDF(dataMonth2), file_path, assignees=[\"Sammy\"])\n",
    "\n"
   ]
  },
  {
   "cell_type": "code",
   "execution_count": 6,
   "metadata": {},
   "outputs": [
    {
     "name": "stdout",
     "output_type": "stream",
     "text": [
      "Storing metric...\n",
      "Metric found, updating it on branch: main\n",
      "Content https://raw.githubusercontent.com/Samox/data-history/main/path/to/metric_name_23-09-truc3.csv?token=ABUWFP7DVSSYEICZJSZ2XLDFBLWEU\n",
      "Dataframe dtypes {'unique_key': string[python], 'name': string[python], 'date': string[python], 'age': string[python]}\n",
      "Old Dataframe dtypes {'unique_key': string[python], 'name': string[python], 'date': string[python], 'age': string[python]}\n",
      "New data found\n",
      "Commit: New data: path/to/metric_name_23-09-truc3.csv\n",
      "https://github.com/Samox/data-history/commit/01716409adaae39514a50ab2d1823bdbc9c34259\n",
      "Branch drift/2023-09-20-14-56-45/path-to-metric-name-23-09-truc3-csv doesn't exist, creating it...\n",
      "Checkout branch: drift/2023-09-20-14-56-45/path-to-metric-name-23-09-truc3-csv  from default branch:main\n",
      "comparison                  age      \n",
      "                self other\n",
      "unique_key                \n",
      "2023-01-Charlie   35    36\n",
      "2023-02-Philipe   40    42\n",
      "Drift detected\n",
      "Drift evaluation: {'should_alert': True, 'message': 'Drift detected:\\n- ~~🆕 0 addition~~\\n- ♻️ 2 modifications\\n- ~~🗑️ 0 deletion~~'}\n",
      "Commit: Drift: path/to/metric_name_23-09-truc3.csv\n",
      "https://github.com/Samox/data-history/commit/504410017092eac4469191f89b9b1928e8cab29d\n",
      "Drift pushed\n",
      "Creating pull request\n",
      "Pull request created: https://github.com/Samox/data-history/pull/157\n",
      "Assignee Sammy does not exist\n"
     ]
    }
   ],
   "source": [
    "import sys\n",
    "sys.path.append('..')\n",
    "import importlib\n",
    "import datagit.github_connector\n",
    "importlib.reload(datagit.github_connector)\n",
    "from datagit.github_connector import store_metric\n",
    "import pandas as pd\n",
    "\n",
    "# ## Introduce new data for 2023-03 and a drift on 2020-02\n",
    "dataMonth3 = {\"name\": [\"Alice\", \"Bob\", \"Charlie\", \"Didier\", \"Philipe\", \"Antoine\", \"Clement\", \"Cyril\", \"Victor\"], \"date\": [\"2022-12\",\"2023-01\",\"2023-01\",\"2023-02\",\"2023-02\",\"2023-02\",\"2023-03\",\"2023-03\",\"2023-03\"], \"age\": [25, 30, 36, 40, 42, 40, 45, 45, 46]}\n",
    "store_metric(gh_client,  formatDF(dataMonth3), file_path, assignees=[\"Sammy\"])\n",
    "\n"
   ]
  },
  {
   "cell_type": "code",
   "execution_count": 8,
   "metadata": {},
   "outputs": [
    {
     "name": "stdout",
     "output_type": "stream",
     "text": [
      "Storing metric...\n",
      "Metric found, updating it on branch: reported\n",
      "Content https://raw.githubusercontent.com/Samox/data-history/reported/path/to/metric_name_06-07-23.csv?token=ABUWFP6YHRV7SELQ5WDUT7LEVPPUW\n",
      "Drift detected\n",
      "    age      \n",
      "   self other\n",
      "5  40.0  42.0\n",
      "Drift evaluator failed: 'dict' object has no attribute 'reported_dataframe'\n",
      "Using default drift evaluator\n",
      "Drift evaluation: {'should_alert': True, 'message': 'Drift detected:\\n- ~~🆕 0 addition~~\\n- ♻️ 1 modification\\n- ~~🗑️ 0 deletion~~'}\n",
      "Commit: Drift: path/to/metric_name_06-07-23.csv\n",
      "https://github.com/Samox/data-history/commit/d8f19d3f300dd793507785691e028580485f9d67\n",
      "https://github.com/Samox/data-history/commit/f83a1d0e12695e36ad8b84ce4512bc4ef926b77a\n",
      "Drift pushed\n",
      "Creating pull request\n",
      "Pull request created: https://github.com/Samox/data-history/pull/110\n",
      "Assignee Sammy does not exist\n"
     ]
    }
   ],
   "source": [
    "# ## No new data. Adds a drift for Philipe, and remove all other drifts\n",
    "dataMonth3And1Day = {\"name\": [\"Alice\", \"Bob\", \"Charlie\", \"Didier\", \"Philipe\", \"Antoine\", \"Clement\", \"Cyril\", \"Victor\"], \"date\": [\"2022-12\",\"2023-01\",\"2023-01\",\"2023-02\",\"2023-02\",\"2023-02\",\"2023-03\",\"2023-03\",\"2023-03\"], \"age\": [25, 30, 35, 40, 42, 40, 45, 45, 46]}\n",
    "store_metric(gh_client,  formatDF(dataMonth3And1Day), file_path, assignees=[\"Sammy\"])\n"
   ]
  },
  {
   "cell_type": "code",
   "execution_count": 5,
   "metadata": {},
   "outputs": [
    {
     "name": "stdout",
     "output_type": "stream",
     "text": [
      "Storing metric...\n",
      "Metric found, updating it on branch: reported\n",
      "Content https://raw.githubusercontent.com/Samox/data-history/reported/path/to/metric_name_06-07-23.csv?token=ABUWFP4WMUNYRMTGFK7FADLEVPPHC\n",
      "Drift detected\n",
      "Could not display drift\n",
      "Drift evaluator failed: 'dict' object has no attribute 'reported_dataframe'\n",
      "Using default drift evaluator\n",
      "Drift evaluation: {'should_alert': True, 'message': 'Drift detected:\\n- 🆕 1 addition\\n- ♻️ 1 modification\\n- ~~🗑️ 0 deletion~~'}\n",
      "Commit: Drift: path/to/metric_name_06-07-23.csv\n",
      "https://github.com/Samox/data-history/commit/7f0e93ad978b945892e79c96d2b21aaf882d4f2f\n",
      "https://github.com/Samox/data-history/commit/914f6faaa1c9bca964a3da4db309e897b6b3c830\n",
      "Drift pushed\n",
      "Creating pull request\n",
      "Pull request created: https://github.com/Samox/data-history/pull/108\n",
      "Assignee Sammy does not exist\n"
     ]
    }
   ],
   "source": [
    "# ## No new data. Adds a drift for Philipe, and remove all other drifts\n",
    "dataMonth3And2Day = {\"name\": [\"Alice\", \"Alixe\", \"Bob\", \"Charlie\", \"Didier\", \"Philipe\", \"Antoine\", \"Clement\", \"Cyril\", \"Victor\"], \"date\": [\"2022-12\",\"2022-12\",\"2023-01\",\"2023-01\",\"2023-02\",\"2023-02\",\"2023-02\",\"2023-03\",\"2023-03\",\"2023-03\"], \"age\": [25, 25, 30, 35, 40, 42, 40, 45, 45, 46]}\n",
    "store_metric(gh_client,  formatDF(dataMonth3And2Day), file_path, assignees=[\"Sammy\"])\n"
   ]
  },
  {
   "cell_type": "code",
   "execution_count": 6,
   "metadata": {},
   "outputs": [
    {
     "name": "stdout",
     "output_type": "stream",
     "text": [
      "                                  unique_key        date  metric_value\n",
      "0       28504be7-0150-41a4-95c5-747c4617ae11  2005-07-24          9.18\n",
      "1       3a125331-e4c7-4087-bc5a-9982062f16ce  1993-11-01          8.61\n",
      "2       6bec0b38-321a-4d66-a197-743e29fbc9b5  2016-01-15          7.18\n",
      "3       f9b944c5-e212-4fcb-a348-f8420107d126  2010-06-21          7.79\n",
      "4       789f37cb-36ba-4986-ad7a-27a514cad7bd  2016-04-21          4.46\n",
      "...                                      ...         ...           ...\n",
      "599995  ee5ab8f6-148c-44db-8934-2e810f023d5e  2007-11-15          5.46\n",
      "599996  91742782-84cc-4222-abd5-7a87ba283317  2011-03-18          5.05\n",
      "599997  8e8f2f9b-333c-46bd-822e-26f3de30c7ac  2006-04-20          9.34\n",
      "599998  34fdf345-acbd-46aa-9b0f-9e35d2aa6af8  2014-03-18          7.97\n",
      "599999  db96be9a-773e-455e-8bda-82eccd29d017  2008-09-20          8.54\n",
      "\n",
      "[600000 rows x 3 columns]\n"
     ]
    }
   ],
   "source": [
    "import pandas as pd\n",
    "from faker import Faker\n",
    "import random\n",
    "\n",
    "# Initialize Faker to generate random data\n",
    "fake = Faker()\n",
    "\n",
    "# Set the number of rows for the dataframe\n",
    "num_rows = 600000\n",
    "\n",
    "# Generate random IDs and dates\n",
    "ids = [fake.uuid4() for _ in range(num_rows)]\n",
    "dates = [fake.date_between(start_date='-30y', end_date='today').strftime('%Y-%m-%d') for _ in range(num_rows)]\n",
    "\n",
    "# Generate random metric values between 0 and 10\n",
    "metric_values = [round(random.uniform(0, 10),2) for _ in range(num_rows)]\n",
    "\n",
    "# Create the dataframe\n",
    "ultra_large_df = pd.DataFrame({'unique_key': ids, 'date': dates, 'metric_value': metric_values})\n",
    "\n",
    "# Print the dataframe\n",
    "print(ultra_large_df)"
   ]
  },
  {
   "cell_type": "code",
   "execution_count": 7,
   "metadata": {},
   "outputs": [
    {
     "name": "stdout",
     "output_type": "stream",
     "text": [
      "Storing metric...\n",
      "Metric found, updating it on branch: reported\n",
      "Content https://raw.githubusercontent.com/Samox/data-history/reported/path/to/ultra_large_metric_name3.csv?token=ABUWFP2DUDMBUHXB27WCPJLEVPPIQ\n",
      "New data found\n",
      "Commit: New data: path/to/ultra_large_metric_name3.csv\n",
      "https://github.com/Samox/data-history/commit/176e28321049706248a4e3b7838bd777c15cdf98\n",
      "https://github.com/Samox/data-history/commit/8bde95c4196be6c2cb9b42ead5ec26ab97610cf0\n",
      "Drift detected\n",
      "Could not display drift\n",
      "Drift evaluator failed: 'dict' object has no attribute 'reported_dataframe'\n",
      "Using default drift evaluator\n",
      "Drift evaluation: {'should_alert': True, 'message': 'Drift detected:\\n- 🆕 599732 additions\\n- ~~♻️ 0 modification~~\\n- 🗑️ 600000 deletions'}\n",
      "Commit: Drift: path/to/ultra_large_metric_name3.csv\n",
      "https://github.com/Samox/data-history/commit/d91e6e0e803a0781496dc7da0ab633384baf7e72\n",
      "https://github.com/Samox/data-history/commit/70cfa8e100b4a55df39b87ce25986c32a1dd6a90\n",
      "Drift pushed\n",
      "Creating pull request\n",
      "Pull request created: https://github.com/Samox/data-history/pull/109\n",
      "Assignee Sammy does not exist\n"
     ]
    }
   ],
   "source": [
    "import sys\n",
    "sys.path.append('..')\n",
    "import importlib\n",
    "import datagit.github_connector\n",
    "importlib.reload(datagit.github_connector)\n",
    "from datagit.github_connector import store_metric\n",
    "import pandas as pd\n",
    "\n",
    "## Test with file already existing and splitting new data and historical data\n",
    "repo = os.getenv(\"REPO\") or \"gh_org/repo\"\n",
    "store_metric(gh_client,  ultra_large_df, repo+\"/path/to/ultra_large_metric_name3.csv\", assignees=[\"Sammy\"])"
   ]
  },
  {
   "cell_type": "code",
   "execution_count": 20,
   "metadata": {},
   "outputs": [],
   "source": [
    "ultra_large_df = ultra_large_df.iloc[:-1]\n"
   ]
  }
 ],
 "metadata": {
  "kernelspec": {
   "display_name": "base",
   "language": "python",
   "name": "python3"
  },
  "language_info": {
   "codemirror_mode": {
    "name": "ipython",
    "version": 3
   },
   "file_extension": ".py",
   "mimetype": "text/x-python",
   "name": "python",
   "nbconvert_exporter": "python",
   "pygments_lexer": "ipython3",
   "version": "3.11.3"
  },
  "orig_nbformat": 4
 },
 "nbformat": 4,
 "nbformat_minor": 2
}
