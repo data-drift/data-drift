{
 "cells": [
  {
   "cell_type": "code",
   "execution_count": 1,
   "metadata": {},
   "outputs": [],
   "source": [
    "import sys\n",
    "\n",
    "from datagit.connectors.local_connector import LocalConnector\n",
    "from datagit.connectors.workflow import snapshot_table\n",
    "sys.path.append('..')\n",
    "import importlib\n",
    "\n",
    "sys.path.append('.')\n",
    "from dataset import generate_dataframe, insert_drift\n",
    "\n",
    "dataframe = generate_dataframe(10000)\n",
    "local_connector = LocalConnector()\n",
    "metric_name = \"mrr_light_1\"\n",
    "\n"
   ]
  },
  {
   "cell_type": "code",
   "execution_count": 2,
   "metadata": {},
   "outputs": [
    {
     "name": "stdout",
     "output_type": "stream",
     "text": [
      "Table found, updating it\n",
      "Change detected\n"
     ]
    }
   ],
   "source": [
    "import datagit.connectors.local_connector\n",
    "importlib.reload(datagit.connectors.local_connector)\n",
    "snapshot_table(table_name=metric_name,table_dataframe=dataframe,connector=local_connector)\n"
   ]
  },
  {
   "cell_type": "code",
   "execution_count": 3,
   "metadata": {},
   "outputs": [],
   "source": [
    "dataframe_with_drift = insert_drift(dataframe, 10)"
   ]
  },
  {
   "cell_type": "code",
   "execution_count": 4,
   "metadata": {},
   "outputs": [
    {
     "name": "stdout",
     "output_type": "stream",
     "text": [
      "Table found, updating it\n",
      "changed_rows Index(['0002fc6b-bef0-4290-8af5-f13887b08da4',\n",
      "       '0003a933-17cb-4a85-b8e0-06cc728414be',\n",
      "       '00092b86-a6ef-4cb4-aa0a-896214ec3c08',\n",
      "       '00107672-11a8-4e27-97d5-b9242b0c9e9e',\n",
      "       '001d8978-3891-43ec-bce4-8d1f66781213',\n",
      "       '002328cd-00c3-473c-884a-e11c8df845e6',\n",
      "       '0027e554-5f4a-4f97-af24-bafb85dca25c',\n",
      "       '00298a48-645b-4612-aa5e-4a8d32f4370d',\n",
      "       '002dc210-7fbe-4458-9290-48e06b60b8a9',\n",
      "       '002e1720-e436-4e2e-9a07-4a627eaa2bd1',\n",
      "       ...\n",
      "       'ffbdb848-92e6-4891-890e-b34daa182c68',\n",
      "       'ffc458be-200a-4c70-93a5-671513a15174',\n",
      "       'ffd12731-bd30-4ddb-87d6-5d662aab1c12',\n",
      "       'ffd3ffa4-e0d4-48ae-b488-c8eaee68247e',\n",
      "       'ffd8022d-b598-403d-a17c-0cac9f1b64cc',\n",
      "       'ffda9ef5-6843-40c6-bbbe-b54bb07ad2ec',\n",
      "       'ffe0f75e-ec3f-4d8a-a7ab-3e0960718fa9',\n",
      "       'ffe687aa-7866-4730-91a1-86a62f7fb4d4',\n",
      "       'fff055cf-65b4-47b2-80f5-a3dbf171ddae',\n",
      "       'fffe7cea-9ee9-469f-9f65-6abd26b920af'],\n",
      "      dtype='object', name='unique_key', length=10000)\n",
      "Change detected\n"
     ]
    }
   ],
   "source": [
    "snapshot_table(table_name=metric_name,table_dataframe=dataframe_with_drift,connector=local_connector)\n"
   ]
  },
  {
   "cell_type": "code",
   "execution_count": 5,
   "metadata": {},
   "outputs": [
    {
     "name": "stdout",
     "output_type": "stream",
     "text": [
      "0       13.00\n",
      "1        2.38\n",
      "2        1.61\n",
      "3        5.49\n",
      "4        8.18\n",
      "        ...  \n",
      "9995    10.08\n",
      "9996    10.35\n",
      "9997     9.20\n",
      "9998     8.13\n",
      "9999     9.13\n",
      "Name: metric_value3, Length: 10000, dtype: float64\n",
      "Table found, updating it\n",
      "changed_rows Index(['0002fc6b-bef0-4290-8af5-f13887b08da4',\n",
      "       '0003a933-17cb-4a85-b8e0-06cc728414be',\n",
      "       '00092b86-a6ef-4cb4-aa0a-896214ec3c08',\n",
      "       '00107672-11a8-4e27-97d5-b9242b0c9e9e',\n",
      "       '001d8978-3891-43ec-bce4-8d1f66781213',\n",
      "       '002328cd-00c3-473c-884a-e11c8df845e6',\n",
      "       '0027e554-5f4a-4f97-af24-bafb85dca25c',\n",
      "       '00298a48-645b-4612-aa5e-4a8d32f4370d',\n",
      "       '002dc210-7fbe-4458-9290-48e06b60b8a9',\n",
      "       '002e1720-e436-4e2e-9a07-4a627eaa2bd1',\n",
      "       ...\n",
      "       'ffbdb848-92e6-4891-890e-b34daa182c68',\n",
      "       'ffc458be-200a-4c70-93a5-671513a15174',\n",
      "       'ffd12731-bd30-4ddb-87d6-5d662aab1c12',\n",
      "       'ffd3ffa4-e0d4-48ae-b488-c8eaee68247e',\n",
      "       'ffd8022d-b598-403d-a17c-0cac9f1b64cc',\n",
      "       'ffda9ef5-6843-40c6-bbbe-b54bb07ad2ec',\n",
      "       'ffe0f75e-ec3f-4d8a-a7ab-3e0960718fa9',\n",
      "       'ffe687aa-7866-4730-91a1-86a62f7fb4d4',\n",
      "       'fff055cf-65b4-47b2-80f5-a3dbf171ddae',\n",
      "       'fffe7cea-9ee9-469f-9f65-6abd26b920af'],\n",
      "      dtype='object', name='unique_key', length=10000)\n",
      "Change detected\n"
     ]
    }
   ],
   "source": [
    "dataframe_with_drift['metric_value2'] = dataframe_with_drift['metric_value'] + 1\n",
    "dataframe_with_drift.loc[0, \"metric_value\"] = 12\n",
    "dataframe_with_drift['metric_value3'] = (dataframe_with_drift['metric_value'] + 1).round(2)\n",
    "dataframe_with_drift.drop(columns=['metric_value2'], inplace=True)\n",
    "print(dataframe_with_drift['metric_value3'])\n",
    "\n",
    "snapshot_table(table_name=metric_name,table_dataframe=dataframe_with_drift,connector=local_connector)\n",
    "\n"
   ]
  }
 ],
 "metadata": {
  "kernelspec": {
   "display_name": "base",
   "language": "python",
   "name": "python3"
  },
  "language_info": {
   "codemirror_mode": {
    "name": "ipython",
    "version": 3
   },
   "file_extension": ".py",
   "mimetype": "text/x-python",
   "name": "python",
   "nbconvert_exporter": "python",
   "pygments_lexer": "ipython3",
   "version": "3.11.5"
  }
 },
 "nbformat": 4,
 "nbformat_minor": 2
}
