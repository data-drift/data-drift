{
 "cells": [
  {
   "cell_type": "code",
   "execution_count": 1,
   "metadata": {},
   "outputs": [],
   "source": [
    "import sys\n",
    "sys.path.append('..')\n",
    "import importlib\n",
    "\n",
    "sys.path.append('.')\n",
    "from dataset import generate_dataframe\n",
    "\n",
    "dataframe = generate_dataframe()\n",
    "metric_name = \"mrr_4\"\n",
    "\n"
   ]
  },
  {
   "cell_type": "code",
   "execution_count": 2,
   "metadata": {},
   "outputs": [
    {
     "name": "stdout",
     "output_type": "stream",
     "text": [
      "Storing metric mrr4 in db /Users/sammyteillet/.datadrift/default\n"
     ]
    }
   ],
   "source": [
    "import datagit.local_connector\n",
    "importlib.reload(datagit.local_connector)\n",
    "from datagit.local_connector import store_metric\n",
    "store_metric(metric_name=metric_name,metric_value=dataframe)\n"
   ]
  },
  {
   "cell_type": "code",
   "execution_count": 3,
   "metadata": {},
   "outputs": [],
   "source": [
    "from dataset import insert_drift\n",
    "\n",
    "drifted_dataset = insert_drift(dataframe, 4)"
   ]
  },
  {
   "cell_type": "code",
   "execution_count": 4,
   "metadata": {},
   "outputs": [
    {
     "name": "stdout",
     "output_type": "stream",
     "text": [
      "Storing metric mrr4 in db /Users/sammyteillet/.datadrift/default\n",
      "\n",
      "step1_removed_columns\n",
      "                                            date  metric_value\n",
      "unique_key                                                    \n",
      "1e30b342-ac0b-4fbb-ad00-9237bb90ad37  2023-02-25          1.51\n",
      "90cd9489-ce79-4df3-9909-b820a83ca721  2023-03-18          2.48\n",
      "59ee7b03-a779-4a7a-aeeb-97064b7fc20f  2023-05-24          4.55\n",
      "0b8b82b2-6b4d-4528-9bd1-e62291d522e6  2022-12-11          5.16\n",
      "fdf8d436-667a-40b1-8264-c694fa43567e  2022-11-18          2.72\n",
      "...                                          ...           ...\n",
      "2c5dbaab-e65d-469f-a5a5-29e387b64c43  2023-06-01          6.18\n",
      "e355b727-fbf9-4491-abe9-a165d666ed41  2022-11-17          3.53\n",
      "756b19a3-ad9a-4894-a9b8-be1b19c80b62  2023-09-29          2.01\n",
      "1ac7fc88-8d94-44fd-a5ec-a16b4e53d55e  2023-06-28          9.95\n",
      "189a2c1f-8307-43c4-b3db-d51a2bfee3b7  2022-11-03          8.76\n",
      "\n",
      "[100 rows x 2 columns]\n",
      "No changes to commit.\n",
      "\n",
      "step2_new_data_added\n",
      "                                            date  metric_value\n",
      "unique_key                                                    \n",
      "1e30b342-ac0b-4fbb-ad00-9237bb90ad37  2023-02-25          1.51\n",
      "90cd9489-ce79-4df3-9909-b820a83ca721  2023-03-18          2.48\n",
      "59ee7b03-a779-4a7a-aeeb-97064b7fc20f  2023-05-24          4.55\n",
      "0b8b82b2-6b4d-4528-9bd1-e62291d522e6  2022-12-11          5.16\n",
      "fdf8d436-667a-40b1-8264-c694fa43567e  2022-11-18          2.72\n",
      "...                                          ...           ...\n",
      "2c5dbaab-e65d-469f-a5a5-29e387b64c43  2023-06-01          6.18\n",
      "e355b727-fbf9-4491-abe9-a165d666ed41  2022-11-17          3.53\n",
      "756b19a3-ad9a-4894-a9b8-be1b19c80b62  2023-09-29          2.01\n",
      "1ac7fc88-8d94-44fd-a5ec-a16b4e53d55e  2023-06-28          9.95\n",
      "189a2c1f-8307-43c4-b3db-d51a2bfee3b7  2022-11-03          8.76\n",
      "\n",
      "[100 rows x 2 columns]\n",
      "No changes to commit.\n",
      "\n",
      "step3_data_updated\n",
      "                                            date  metric_value\n",
      "unique_key                                                    \n",
      "1e30b342-ac0b-4fbb-ad00-9237bb90ad37  2023-02-25          7.00\n",
      "90cd9489-ce79-4df3-9909-b820a83ca721  2023-03-18          2.48\n",
      "59ee7b03-a779-4a7a-aeeb-97064b7fc20f  2023-05-24          4.55\n",
      "0b8b82b2-6b4d-4528-9bd1-e62291d522e6  2022-12-11          5.16\n",
      "fdf8d436-667a-40b1-8264-c694fa43567e  2022-11-18          2.72\n",
      "...                                          ...           ...\n",
      "2c5dbaab-e65d-469f-a5a5-29e387b64c43  2023-06-01          6.18\n",
      "e355b727-fbf9-4491-abe9-a165d666ed41  2022-11-17          3.53\n",
      "756b19a3-ad9a-4894-a9b8-be1b19c80b62  2023-09-29          2.01\n",
      "1ac7fc88-8d94-44fd-a5ec-a16b4e53d55e  2023-06-28          9.95\n",
      "189a2c1f-8307-43c4-b3db-d51a2bfee3b7  2022-11-03          8.76\n",
      "\n",
      "[100 rows x 2 columns]\n",
      "\n",
      "step4_new_columns_added\n",
      "                                            date  metric_value\n",
      "unique_key                                                    \n",
      "1e30b342-ac0b-4fbb-ad00-9237bb90ad37  2023-02-25          7.00\n",
      "90cd9489-ce79-4df3-9909-b820a83ca721  2023-03-18          2.48\n",
      "59ee7b03-a779-4a7a-aeeb-97064b7fc20f  2023-05-24          4.55\n",
      "0b8b82b2-6b4d-4528-9bd1-e62291d522e6  2022-12-11          5.16\n",
      "fdf8d436-667a-40b1-8264-c694fa43567e  2022-11-18          2.72\n",
      "...                                          ...           ...\n",
      "2c5dbaab-e65d-469f-a5a5-29e387b64c43  2023-06-01          6.18\n",
      "e355b727-fbf9-4491-abe9-a165d666ed41  2022-11-17          3.53\n",
      "756b19a3-ad9a-4894-a9b8-be1b19c80b62  2023-09-29          2.01\n",
      "1ac7fc88-8d94-44fd-a5ec-a16b4e53d55e  2023-06-28          9.95\n",
      "189a2c1f-8307-43c4-b3db-d51a2bfee3b7  2022-11-03          8.76\n",
      "\n",
      "[100 rows x 2 columns]\n",
      "No changes to commit.\n"
     ]
    },
    {
     "name": "stderr",
     "output_type": "stream",
     "text": [
      "/Users/sammyteillet/Documents/Projects/DataDrift/data-drift/tools/datagit/datagit/dataframe_update_breakdown.py:34: FutureWarning: Passing a set as an indexer is deprecated and will raise in a future version. Use a list instead.\n",
      "  step4 = pd.concat([step3, final_dataframe[columns_added]], axis=1)\n"
     ]
    }
   ],
   "source": [
    "drifted_dataset.loc[0, \"metric_value\"] = 7\n",
    "store_metric(metric_name=metric_name,metric_value=drifted_dataset)\n"
   ]
  },
  {
   "cell_type": "code",
   "execution_count": 7,
   "metadata": {},
   "outputs": [
    {
     "name": "stdout",
     "output_type": "stream",
     "text": [
      "Storing metric mrr4 in db /Users/sammyteillet/.datadrift/default\n",
      "\n",
      "step1_removed_columns\n",
      "                                            date  metric_value\n",
      "unique_key                                                    \n",
      "1e30b342-ac0b-4fbb-ad00-9237bb90ad37  2023-02-25          7.00\n",
      "90cd9489-ce79-4df3-9909-b820a83ca721  2023-03-18          2.48\n",
      "59ee7b03-a779-4a7a-aeeb-97064b7fc20f  2023-05-24          4.55\n",
      "0b8b82b2-6b4d-4528-9bd1-e62291d522e6  2022-12-11          5.16\n",
      "fdf8d436-667a-40b1-8264-c694fa43567e  2022-11-18          2.72\n",
      "...                                          ...           ...\n",
      "2c5dbaab-e65d-469f-a5a5-29e387b64c43  2023-06-01          6.18\n",
      "e355b727-fbf9-4491-abe9-a165d666ed41  2022-11-17          3.53\n",
      "756b19a3-ad9a-4894-a9b8-be1b19c80b62  2023-09-29          2.01\n",
      "1ac7fc88-8d94-44fd-a5ec-a16b4e53d55e  2023-06-28          9.95\n",
      "189a2c1f-8307-43c4-b3db-d51a2bfee3b7  2022-11-03          8.76\n",
      "\n",
      "[100 rows x 2 columns]\n",
      "\n",
      "step2_new_data_added\n",
      "                                            date  metric_value\n",
      "unique_key                                                    \n",
      "1e30b342-ac0b-4fbb-ad00-9237bb90ad37  2023-02-25          7.00\n",
      "90cd9489-ce79-4df3-9909-b820a83ca721  2023-03-18          2.48\n",
      "59ee7b03-a779-4a7a-aeeb-97064b7fc20f  2023-05-24          4.55\n",
      "0b8b82b2-6b4d-4528-9bd1-e62291d522e6  2022-12-11          5.16\n",
      "fdf8d436-667a-40b1-8264-c694fa43567e  2022-11-18          2.72\n",
      "...                                          ...           ...\n",
      "2c5dbaab-e65d-469f-a5a5-29e387b64c43  2023-06-01          6.18\n",
      "e355b727-fbf9-4491-abe9-a165d666ed41  2022-11-17          3.53\n",
      "756b19a3-ad9a-4894-a9b8-be1b19c80b62  2023-09-29          2.01\n",
      "1ac7fc88-8d94-44fd-a5ec-a16b4e53d55e  2023-06-28          9.95\n",
      "189a2c1f-8307-43c4-b3db-d51a2bfee3b7  2022-11-03          8.76\n",
      "\n",
      "[100 rows x 2 columns]\n",
      "No changes to commit.\n",
      "\n",
      "step3_data_updated\n",
      "                                            date  metric_value\n",
      "unique_key                                                    \n",
      "1e30b342-ac0b-4fbb-ad00-9237bb90ad37  2023-02-25         12.00\n",
      "90cd9489-ce79-4df3-9909-b820a83ca721  2023-03-18          2.48\n",
      "59ee7b03-a779-4a7a-aeeb-97064b7fc20f  2023-05-24          4.55\n",
      "0b8b82b2-6b4d-4528-9bd1-e62291d522e6  2022-12-11          5.16\n",
      "fdf8d436-667a-40b1-8264-c694fa43567e  2022-11-18          2.72\n",
      "...                                          ...           ...\n",
      "2c5dbaab-e65d-469f-a5a5-29e387b64c43  2023-06-01          6.18\n",
      "e355b727-fbf9-4491-abe9-a165d666ed41  2022-11-17          3.53\n",
      "756b19a3-ad9a-4894-a9b8-be1b19c80b62  2023-09-29          2.01\n",
      "1ac7fc88-8d94-44fd-a5ec-a16b4e53d55e  2023-06-28          9.95\n",
      "189a2c1f-8307-43c4-b3db-d51a2bfee3b7  2022-11-03          8.76\n",
      "\n",
      "[100 rows x 2 columns]\n",
      "\n",
      "step4_new_columns_added\n",
      "                                            date  metric_value  metric_value3\n",
      "unique_key                                                                   \n",
      "1e30b342-ac0b-4fbb-ad00-9237bb90ad37  2023-02-25         12.00          13.00\n",
      "90cd9489-ce79-4df3-9909-b820a83ca721  2023-03-18          2.48           3.48\n",
      "59ee7b03-a779-4a7a-aeeb-97064b7fc20f  2023-05-24          4.55           5.55\n",
      "0b8b82b2-6b4d-4528-9bd1-e62291d522e6  2022-12-11          5.16           6.16\n",
      "fdf8d436-667a-40b1-8264-c694fa43567e  2022-11-18          2.72           3.72\n",
      "...                                          ...           ...            ...\n",
      "2c5dbaab-e65d-469f-a5a5-29e387b64c43  2023-06-01          6.18           7.18\n",
      "e355b727-fbf9-4491-abe9-a165d666ed41  2022-11-17          3.53           4.53\n",
      "756b19a3-ad9a-4894-a9b8-be1b19c80b62  2023-09-29          2.01           3.01\n",
      "1ac7fc88-8d94-44fd-a5ec-a16b4e53d55e  2023-06-28          9.95          10.95\n",
      "189a2c1f-8307-43c4-b3db-d51a2bfee3b7  2022-11-03          8.76           9.76\n",
      "\n",
      "[100 rows x 3 columns]\n"
     ]
    },
    {
     "name": "stderr",
     "output_type": "stream",
     "text": [
      "/Users/sammyteillet/Documents/Projects/DataDrift/data-drift/tools/datagit/datagit/dataframe_update_breakdown.py:34: FutureWarning: Passing a set as an indexer is deprecated and will raise in a future version. Use a list instead.\n",
      "  step4 = pd.concat([step3, final_dataframe[columns_added]], axis=1)\n"
     ]
    }
   ],
   "source": [
    "drifted_dataset['metric_value2'] = drifted_dataset['metric_value'] + 1\n",
    "drifted_dataset.loc[0, \"metric_value\"] = 12\n",
    "drifted_dataset['metric_value3'] = drifted_dataset['metric_value'] + 1\n",
    "drifted_dataset.drop(columns=['metric_value2'], inplace=True)\n",
    "store_metric(metric_name=\"mrr4\",metric_value=drifted_dataset)\n"
   ]
  }
 ],
 "metadata": {
  "kernelspec": {
   "display_name": "base",
   "language": "python",
   "name": "python3"
  },
  "language_info": {
   "codemirror_mode": {
    "name": "ipython",
    "version": 3
   },
   "file_extension": ".py",
   "mimetype": "text/x-python",
   "name": "python",
   "nbconvert_exporter": "python",
   "pygments_lexer": "ipython3",
   "version": "3.11.3"
  }
 },
 "nbformat": 4,
 "nbformat_minor": 2
}
