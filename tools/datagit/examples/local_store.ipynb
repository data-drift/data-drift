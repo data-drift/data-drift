{
 "cells": [
  {
   "cell_type": "code",
   "execution_count": 1,
   "metadata": {},
   "outputs": [],
   "source": [
    "import sys\n",
    "sys.path.append('..')\n",
    "import importlib\n",
    "\n",
    "sys.path.append('.')\n",
    "from dataset import generate_dataframe\n",
    "\n",
    "dataframe = generate_dataframe(1000000)\n",
    "metric_name = \"mrr_large_1\"\n",
    "\n"
   ]
  },
  {
   "cell_type": "code",
   "execution_count": 2,
   "metadata": {},
   "outputs": [
    {
     "name": "stdout",
     "output_type": "stream",
     "text": [
      "Storing metric mrr_large_1 in db /Users/sammyteillet/.datadrift/default\n"
     ]
    }
   ],
   "source": [
    "import datagit.local_connector\n",
    "importlib.reload(datagit.local_connector)\n",
    "from datagit.local_connector import store_metric\n",
    "store_metric(metric_name=metric_name,metric_value=dataframe)\n"
   ]
  },
  {
   "cell_type": "code",
   "execution_count": 3,
   "metadata": {},
   "outputs": [],
   "source": [
    "from dataset import insert_drift\n",
    "\n",
    "drifted_dataset = insert_drift(dataframe, 10)"
   ]
  },
  {
   "cell_type": "code",
   "execution_count": 4,
   "metadata": {},
   "outputs": [
    {
     "name": "stdout",
     "output_type": "stream",
     "text": [
      "Storing metric mrr_large_1 in db /Users/sammyteillet/.datadrift/default\n"
     ]
    }
   ],
   "source": [
    "store_metric(metric_name=metric_name,metric_value=drifted_dataset)\n"
   ]
  },
  {
   "cell_type": "code",
   "execution_count": null,
   "metadata": {},
   "outputs": [
    {
     "name": "stdout",
     "output_type": "stream",
     "text": [
      "0      13.00\n",
      "1       4.01\n",
      "2       3.20\n",
      "3       5.12\n",
      "4       9.59\n",
      "       ...  \n",
      "995    10.14\n",
      "996     9.50\n",
      "997     1.18\n",
      "998     8.94\n",
      "999     4.35\n",
      "Name: metric_value3, Length: 1000, dtype: float64\n",
      "Storing metric mrr_12 in db /Users/sammyteillet/.datadrift/default\n"
     ]
    }
   ],
   "source": [
    "drifted_dataset['metric_value2'] = drifted_dataset['metric_value'] + 1\n",
    "drifted_dataset.loc[0, \"metric_value\"] = 12\n",
    "drifted_dataset['metric_value3'] = (drifted_dataset['metric_value'] + 1).round(2)\n",
    "drifted_dataset.drop(columns=['metric_value2'], inplace=True)\n",
    "print(drifted_dataset['metric_value3'])\n",
    "\n",
    "store_metric(metric_name=metric_name,metric_value=drifted_dataset)\n"
   ]
  }
 ],
 "metadata": {
  "kernelspec": {
   "display_name": "base",
   "language": "python",
   "name": "python3"
  },
  "language_info": {
   "codemirror_mode": {
    "name": "ipython",
    "version": 3
   },
   "file_extension": ".py",
   "mimetype": "text/x-python",
   "name": "python",
   "nbconvert_exporter": "python",
   "pygments_lexer": "ipython3",
   "version": "3.11.5"
  }
 },
 "nbformat": 4,
 "nbformat_minor": 2
}
