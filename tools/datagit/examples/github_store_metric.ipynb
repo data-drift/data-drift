{
 "cells": [
  {
   "cell_type": "code",
   "execution_count": 1,
   "metadata": {},
   "outputs": [],
   "source": [
    "import sys\n",
    "from datagit.connectors.github_connector import GithubConnector\n",
    "from dotenv import load_dotenv\n",
    "from github import Github\n",
    "import os\n",
    "\n",
    "load_dotenv(\"../.env\")\n",
    "\n",
    "gh_token = os.getenv(\"GH_TOKEN\")\n",
    "if gh_token is None:\n",
    "    print(\"GitHub token not found! Create a .env file a the root with a GH_TOKEN variable.\")\n",
    "    exit(1)\n",
    "github_client = Github(gh_token, timeout=60)\n",
    "repo_name = os.getenv(\"REPO\") or \"gh_org/repo\"\n",
    "github_connector = GithubConnector(github_client=github_client, github_repository_name=repo_name, assignees=[\"Sammy\"])\n"
   ]
  },
  {
   "cell_type": "code",
   "execution_count": 2,
   "metadata": {},
   "outputs": [
    {
     "name": "stdout",
     "output_type": "stream",
     "text": [
      "Table found, updating it\n",
      "common_rows_initial\n",
      "                    name        date age\n",
      "unique_key                              \n",
      "2022-12-Alice      Alice  2022-12-01  25\n",
      "2023-01-Bob          Bob  2023-01-01  30\n",
      "2023-01-Charlie  Charlie  2023-01-01  36\n",
      "common_rows_final\n",
      "                    name        date age\n",
      "unique_key                              \n",
      "2022-12-Alice      Alice  2022-12-01  25\n",
      "2023-01-Bob          Bob  2023-01-01  30\n",
      "2023-01-Charlie  Charlie  2023-01-01  35\n",
      "Change detected\n",
      "Update: DRIFT\n",
      "https://github.com/Samox/data-history/commit/5d713db09510815679643807d8d0ce9c3fa7aab1\n"
     ]
    }
   ],
   "source": [
    "import sys\n",
    "sys.path.append('..')\n",
    "import importlib\n",
    "import datagit.drift_evaluator.drift_evaluators\n",
    "importlib.reload(datagit.drift_evaluator.drift_evaluators)\n",
    "\n",
    "import datagit.connectors.github_connector\n",
    "importlib.reload(datagit.connectors.github_connector)\n",
    "from datagit.connectors.workflow import snapshot_table\n",
    "import pandas as pd\n",
    "\n",
    "## Test with file already existing and splitting new data and historical data\n",
    "\n",
    "def formatDF(dict):\n",
    "    df = pd.DataFrame(dict)\n",
    "    df['unique_key'] = df.apply(lambda row: row['date'] + '-' + row['name'], axis=1)\n",
    "    column_order = ['unique_key'] + [col for col in df.columns if col != 'unique_key']\n",
    "    df = df.reindex(columns=column_order)\n",
    "    return df\n",
    "\n",
    "\n",
    "table_name = \"path/to/metric_name_13.csv\"\n",
    "\n",
    "\n",
    "# Store metric for the first time\n",
    "dataMonth1 = {\"name\": [\"Alice\", \"Bob\", \"Charlie\"], \"date\": [\"2022-12\",\"2023-01\",\"2023-01\"], \"age\": [25, 30, 35]}\n",
    "snapshot_table(\n",
    "    connector=github_connector,\n",
    "    table_dataframe= formatDF(dataMonth1),\n",
    "    table_name= table_name,\n",
    ")"
   ]
  },
  {
   "cell_type": "code",
   "execution_count": 3,
   "metadata": {},
   "outputs": [
    {
     "name": "stdout",
     "output_type": "stream",
     "text": [
      "Table found, updating it\n",
      "Change detected\n",
      "Update: NEW DATA\n",
      "https://github.com/Samox/data-history/commit/5ace84b7bfc248ea0a1a00478909c4bd2db0f32a\n"
     ]
    }
   ],
   "source": [
    "# ## Introduce new data for 2023-02\n",
    "dataMonth2 = {\"name\": [\"Alice\", \"Bob\", \"Charlie\", \"Didier\", \"Philipe\", \"Antoine\"], \"date\": [\"2022-12\",\"2023-01\",\"2023-01\",\"2023-02\",\"2023-02\",\"2023-02\"], \"age\": [25, 30, 35, 40, 40, 40]}\n",
    "\n",
    "snapshot_table(\n",
    "    connector=github_connector,\n",
    "    table_dataframe= formatDF(dataMonth2),\n",
    "    table_name= table_name,\n",
    ")"
   ]
  },
  {
   "cell_type": "code",
   "execution_count": 4,
   "metadata": {},
   "outputs": [
    {
     "name": "stdout",
     "output_type": "stream",
     "text": [
      "Table found, updating it\n",
      "common_rows_initial\n",
      "                    name        date age\n",
      "unique_key                              \n",
      "2022-12-Alice      Alice  2022-12-01  25\n",
      "2023-01-Bob          Bob  2023-01-01  30\n",
      "2023-01-Charlie  Charlie  2023-01-01  35\n",
      "2023-02-Antoine  Antoine  2023-02-01  40\n",
      "2023-02-Didier    Didier  2023-02-01  40\n",
      "2023-02-Philipe  Philipe  2023-02-01  40\n",
      "2023-03-Clement  Clement  2023-03-01  45\n",
      "2023-03-Cyril      Cyril  2023-03-01  45\n",
      "2023-03-Victor    Victor  2023-03-01  46\n",
      "common_rows_final\n",
      "                    name        date age\n",
      "unique_key                              \n",
      "2022-12-Alice      Alice  2022-12-01  25\n",
      "2023-01-Bob          Bob  2023-01-01  30\n",
      "2023-01-Charlie  Charlie  2023-01-01  36\n",
      "2023-02-Antoine  Antoine  2023-02-01  40\n",
      "2023-02-Didier    Didier  2023-02-01  40\n",
      "2023-02-Philipe  Philipe  2023-02-01  42\n",
      "2023-03-Clement  Clement  2023-03-01  45\n",
      "2023-03-Cyril      Cyril  2023-03-01  45\n",
      "2023-03-Victor    Victor  2023-03-01  46\n",
      "Change detected\n",
      "Update: NEW DATA\n",
      "https://github.com/Samox/data-history/commit/b83649c8ab263d5b28ab9a86e6bb4c7754572558\n",
      "Update: DRIFT\n",
      "https://github.com/Samox/data-history/commit/8d2aee41518131e7fcb6aef6c8390b3d13138835\n"
     ]
    }
   ],
   "source": [
    "# ## Introduce new data for 2023-03 and a drift on 2020-02\n",
    "dataMonth3 = {\"name\": [\"Alice\", \"Bob\", \"Charlie\", \"Didier\", \"Philipe\", \"Antoine\", \"Clement\", \"Cyril\", \"Victor\"], \"date\": [\"2022-12\",\"2023-01\",\"2023-01\",\"2023-02\",\"2023-02\",\"2023-02\",\"2023-03\",\"2023-03\",\"2023-03\"], \"age\": [25, 30, 36, 40, 42, 40, 45, 45, 46]}\n",
    "\n",
    "snapshot_table(\n",
    "    connector=github_connector,\n",
    "    table_dataframe= formatDF(dataMonth3),\n",
    "    table_name= table_name,\n",
    ")"
   ]
  },
  {
   "cell_type": "code",
   "execution_count": 5,
   "metadata": {},
   "outputs": [
    {
     "name": "stdout",
     "output_type": "stream",
     "text": [
      "Table found, updating it\n",
      "common_rows_initial\n",
      "                    name        date age\n",
      "unique_key                              \n",
      "2022-12-Alice      Alice  2022-12-01  25\n",
      "2023-01-Bob          Bob  2023-01-01  30\n",
      "2023-01-Charlie  Charlie  2023-01-01  36\n",
      "2023-02-Antoine  Antoine  2023-02-01  40\n",
      "2023-02-Didier    Didier  2023-02-01  40\n",
      "2023-02-Philipe  Philipe  2023-02-01  42\n",
      "2023-03-Clement  Clement  2023-03-01  45\n",
      "2023-03-Cyril      Cyril  2023-03-01  45\n",
      "2023-03-Victor    Victor  2023-03-01  46\n",
      "common_rows_final\n",
      "                    name        date age\n",
      "unique_key                              \n",
      "2022-12-Alice      Alice  2022-12-01  25\n",
      "2023-01-Bob          Bob  2023-01-01  30\n",
      "2023-01-Charlie  Charlie  2023-01-01  35\n",
      "2023-02-Antoine  Antoine  2023-02-01  40\n",
      "2023-02-Didier    Didier  2023-02-01  40\n",
      "2023-02-Philipe  Philipe  2023-02-01  42\n",
      "2023-03-Clement  Clement  2023-03-01  45\n",
      "2023-03-Cyril      Cyril  2023-03-01  45\n",
      "2023-03-Victor    Victor  2023-03-01  46\n",
      "Change detected\n",
      "Update: DRIFT\n",
      "Branch drift/2023-11-17-14-29-53/path-to-metric-name-13-csv doesn't exist, creating it...\n",
      "Checkout branch: drift/2023-11-17-14-29-53/path-to-metric-name-13-csv  from branch:main\n",
      "https://github.com/Samox/data-history/commit/c90ce7bf4ea55898c9bfd7f7fbba2545214f24cc\n",
      "Pull request created: https://github.com/Samox/data-history/pull/191\n",
      "Assignee Sammy does not exist\n"
     ]
    }
   ],
   "source": [
    "# ## No new data. Adds a drift for Philipe, and remove all other drifts\n",
    "from datagit.drift_evaluator.drift_evaluators import AlertDriftEvaluator\n",
    "\n",
    "\n",
    "dataMonth3And1Day = {\"name\": [\"Alice\", \"Bob\", \"Charlie\", \"Didier\", \"Philipe\", \"Antoine\", \"Clement\", \"Cyril\", \"Victor\"], \"date\": [\"2022-12\",\"2023-01\",\"2023-01\",\"2023-02\",\"2023-02\",\"2023-02\",\"2023-03\",\"2023-03\",\"2023-03\"], \"age\": [25, 30, 35, 40, 42, 40, 45, 45, 46]}\n",
    "snapshot_table(\n",
    "    connector=github_connector,\n",
    "    table_dataframe= formatDF(dataMonth3And1Day),\n",
    "    table_name= table_name,\n",
    "    drift_evaluator=AlertDriftEvaluator()\n",
    ")"
   ]
  },
  {
   "cell_type": "code",
   "execution_count": 6,
   "metadata": {},
   "outputs": [
    {
     "name": "stdout",
     "output_type": "stream",
     "text": [
      "Table found, updating it\n",
      "common_rows_initial\n",
      "                    name        date age\n",
      "unique_key                              \n",
      "2022-12-Alice      Alice  2022-12-01  25\n",
      "2023-01-Bob          Bob  2023-01-01  30\n",
      "2023-01-Charlie  Charlie  2023-01-01  36\n",
      "2023-02-Antoine  Antoine  2023-02-01  40\n",
      "2023-02-Didier    Didier  2023-02-01  40\n",
      "2023-02-Philipe  Philipe  2023-02-01  42\n",
      "2023-03-Clement  Clement  2023-03-01  45\n",
      "2023-03-Cyril      Cyril  2023-03-01  45\n",
      "2023-03-Victor    Victor  2023-03-01  46\n",
      "common_rows_final\n",
      "                    name        date age\n",
      "unique_key                              \n",
      "2022-12-Alice      Alice  2022-12-01  25\n",
      "2023-01-Bob          Bob  2023-01-01  30\n",
      "2023-01-Charlie  Charlie  2023-01-01  35\n",
      "2023-02-Antoine  Antoine  2023-02-01  40\n",
      "2023-02-Didier    Didier  2023-02-01  40\n",
      "2023-02-Philipe  Philipe  2023-02-01  42\n",
      "2023-03-Clement  Clement  2023-03-01  45\n",
      "2023-03-Cyril      Cyril  2023-03-01  45\n",
      "2023-03-Victor    Victor  2023-03-01  46\n",
      "Change detected\n",
      "Update: DRIFT\n",
      "Branch drift/2023-11-17-14-30-01/path-to-metric-name-13-csv doesn't exist, creating it...\n",
      "Checkout branch: drift/2023-11-17-14-30-01/path-to-metric-name-13-csv  from branch:main\n",
      "https://github.com/Samox/data-history/commit/7f87aadaa5c11a1dd4309e49ca78d7ba14b9846f\n",
      "Pull request created: https://github.com/Samox/data-history/pull/192\n",
      "Assignee Sammy does not exist\n"
     ]
    }
   ],
   "source": [
    "# ## No new data. Adds a drift for Philipe, and remove all other drifts\n",
    "dataMonth3And2Day = {\"name\": [\"Alice\", \"Alixe\", \"Bob\", \"Charlie\", \"Didier\", \"Philipe\", \"Antoine\", \"Clement\", \"Cyril\", \"Victor\"], \"date\": [\"2022-12\",\"2022-12\",\"2023-01\",\"2023-01\",\"2023-02\",\"2023-02\",\"2023-02\",\"2023-03\",\"2023-03\",\"2023-03\"], \"age\": [25, 25, 30, 35, 40, 42, 40, 45, 45, 46]}\n",
    "\n",
    "snapshot_table(\n",
    "    connector=github_connector,\n",
    "    table_dataframe= formatDF(dataMonth3And2Day),\n",
    "    table_name= table_name,\n",
    "    drift_evaluator=AlertDriftEvaluator()\n",
    ")\n"
   ]
  }
 ],
 "metadata": {
  "kernelspec": {
   "display_name": "base",
   "language": "python",
   "name": "python3"
  },
  "language_info": {
   "codemirror_mode": {
    "name": "ipython",
    "version": 3
   },
   "file_extension": ".py",
   "mimetype": "text/x-python",
   "name": "python",
   "nbconvert_exporter": "python",
   "pygments_lexer": "ipython3",
   "version": "3.11.5"
  },
  "orig_nbformat": 4
 },
 "nbformat": 4,
 "nbformat_minor": 2
}
