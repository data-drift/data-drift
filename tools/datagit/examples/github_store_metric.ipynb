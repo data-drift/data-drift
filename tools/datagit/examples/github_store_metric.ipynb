{
 "cells": [
  {
   "cell_type": "code",
   "execution_count": 1,
   "metadata": {},
   "outputs": [],
   "source": [
    "import sys\n",
    "from dotenv import load_dotenv\n",
    "from github import Github\n",
    "import os\n",
    "\n",
    "# Create a .env with the following content:\n",
    "# GH_TOKEN=your_github_token\n",
    "# REPON=$gh_org/$repo\n",
    "\n",
    "# Load environment variables from .env file\n",
    "load_dotenv(\"../.env\")\n",
    "\n",
    "\n",
    "# Get GitHub token from environment variable\n",
    "gh_token = os.getenv(\"GH_TOKEN\")\n",
    "if gh_token is None:\n",
    "    print(\"GitHub token not found! Create a .env file a the root with a GH_TOKEN variable.\")\n",
    "    exit(1)\n",
    "gh_client = Github(gh_token, timeout=60)\n",
    "repo = os.getenv(\"REPO\") or \"gh_org/repo\"\n",
    "repo = gh_client.get_repo(repo)"
   ]
  },
  {
   "cell_type": "code",
   "execution_count": 2,
   "metadata": {},
   "outputs": [
    {
     "name": "stdout",
     "output_type": "stream",
     "text": [
      "Storing metric...\n",
      "Metric found, updating it on branch: main\n",
      "Content https://raw.githubusercontent.com/Samox/data-history/main/path/to/metric_name_13.csv?token=ABUWFP6VI6D2TIZQRBV6FZ3FKOHSW\n",
      "Dataframe dtypes {'name': string[python], 'date': string[python], 'age': string[python]}\n",
      "Old Dataframe dtypes {'unique_key': string[python], 'name': string[python], 'date': string[python], 'age': string[python]}\n",
      "Change detected\n",
      "Update: DRIFT\n",
      "https://github.com/Samox/data-history/commit/e033011d4294d823cceca58dda6cd704cdf29885\n"
     ]
    }
   ],
   "source": [
    "import sys\n",
    "sys.path.append('..')\n",
    "import importlib\n",
    "import datagit.drift_evaluators\n",
    "importlib.reload(datagit.drift_evaluators)\n",
    "\n",
    "import datagit.github_connector\n",
    "importlib.reload(datagit.github_connector)\n",
    "from datagit.github_connector import store_metric\n",
    "import pandas as pd\n",
    "\n",
    "## Test with file already existing and splitting new data and historical data\n",
    "repo = os.getenv(\"REPO\") or \"gh_org/repo\"\n",
    "\n",
    "def formatDF(dict):\n",
    "    df = pd.DataFrame(dict)\n",
    "    df['unique_key'] = df.apply(lambda row: row['date'] + '-' + row['name'], axis=1)\n",
    "    column_order = ['unique_key'] + [col for col in df.columns if col != 'unique_key']\n",
    "    df = df.reindex(columns=column_order)\n",
    "    return df\n",
    "\n",
    "\n",
    "file_path = repo+\"/path/to/metric_name_13.csv\"\n",
    "\n",
    "# Store metric for the first time\n",
    "dataMonth1 = {\"name\": [\"Alice\", \"Bob\", \"Charlie\"], \"date\": [\"2022-12\",\"2023-01\",\"2023-01\"], \"age\": [25, 30, 35]}\n",
    "store_metric(ghClient=gh_client, dataframe= formatDF(dataMonth1),filepath= file_path, assignees=[\"Sammy\"])\n",
    "\n",
    "\n"
   ]
  },
  {
   "cell_type": "code",
   "execution_count": 3,
   "metadata": {},
   "outputs": [
    {
     "name": "stdout",
     "output_type": "stream",
     "text": [
      "Storing metric...\n",
      "Metric found, updating it on branch: main\n",
      "Content https://raw.githubusercontent.com/Samox/data-history/main/path/to/metric_name_13.csv?token=ABUWFPZ2EE3DAEG4YCVZKITFKOHS2\n",
      "Dataframe dtypes {'name': string[python], 'date': string[python], 'age': string[python]}\n",
      "Old Dataframe dtypes {'unique_key': string[python], 'name': string[python], 'date': string[python], 'age': string[python]}\n",
      "Change detected\n",
      "Update: NEW DATA\n",
      "https://github.com/Samox/data-history/commit/ed2b561758cd990ea793a09cc8110a454ee1d2aa\n"
     ]
    }
   ],
   "source": [
    "# ## Introduce new data for 2023-02\n",
    "dataMonth2 = {\"name\": [\"Alice\", \"Bob\", \"Charlie\", \"Didier\", \"Philipe\", \"Antoine\"], \"date\": [\"2022-12\",\"2023-01\",\"2023-01\",\"2023-02\",\"2023-02\",\"2023-02\"], \"age\": [25, 30, 35, 40, 40, 40]}\n",
    "store_metric(ghClient=gh_client,dataframe=  formatDF(dataMonth2),filepath= file_path, assignees=[\"Sammy\"])\n",
    "\n"
   ]
  },
  {
   "cell_type": "code",
   "execution_count": 4,
   "metadata": {},
   "outputs": [
    {
     "name": "stdout",
     "output_type": "stream",
     "text": [
      "Storing metric...\n",
      "Metric found, updating it on branch: main\n",
      "Content https://raw.githubusercontent.com/Samox/data-history/main/path/to/metric_name_13.csv?token=ABUWFP7P2YPOOT6IKQIWQX3FKOHS6\n",
      "Dataframe dtypes {'name': string[python], 'date': string[python], 'age': string[python]}\n",
      "Old Dataframe dtypes {'unique_key': string[python], 'name': string[python], 'date': string[python], 'age': string[python]}\n",
      "Change detected\n",
      "Update: NEW DATA\n",
      "https://github.com/Samox/data-history/commit/fa9f3a3c79835ac85b76459c9475829ec31bd52f\n",
      "Update: DRIFT\n",
      "https://github.com/Samox/data-history/commit/a30ba48f4b22761ee89382362c265c69058c8362\n"
     ]
    }
   ],
   "source": [
    "import sys\n",
    "sys.path.append('..')\n",
    "import importlib\n",
    "import datagit.github_connector\n",
    "importlib.reload(datagit.github_connector)\n",
    "from datagit.github_connector import store_metric\n",
    "import pandas as pd\n",
    "\n",
    "# ## Introduce new data for 2023-03 and a drift on 2020-02\n",
    "dataMonth3 = {\"name\": [\"Alice\", \"Bob\", \"Charlie\", \"Didier\", \"Philipe\", \"Antoine\", \"Clement\", \"Cyril\", \"Victor\"], \"date\": [\"2022-12\",\"2023-01\",\"2023-01\",\"2023-02\",\"2023-02\",\"2023-02\",\"2023-03\",\"2023-03\",\"2023-03\"], \"age\": [25, 30, 36, 40, 42, 40, 45, 45, 46]}\n",
    "store_metric(ghClient=gh_client,dataframe=  formatDF(dataMonth3),filepath= file_path, assignees=[\"Sammy\"])\n",
    "\n"
   ]
  },
  {
   "cell_type": "code",
   "execution_count": 5,
   "metadata": {},
   "outputs": [
    {
     "data": {
      "text/plain": [
       "{'MIGRATION Column Deleted': {'df':                     name     date  age\n",
       "  unique_key                            \n",
       "  2022-12-Alice      Alice  2022-12   25\n",
       "  2023-01-Bob          Bob  2023-01   30\n",
       "  2023-01-Charlie  Charlie  2023-01   35\n",
       "  2023-02-Didier    Didier  2023-02   40\n",
       "  2023-02-Philipe  Philipe  2023-02   40\n",
       "  2023-02-Antoine  Antoine  2023-02   40,\n",
       "  'has_update': False,\n",
       "  'type': <UpdateType.OTHER: 'other'>,\n",
       "  'drift_context': None,\n",
       "  'drift_evaluation': None,\n",
       "  'drift_summary': None},\n",
       " 'NEW DATA': {'df':                     name     date  age\n",
       "  unique_key                            \n",
       "  2022-12-Alice      Alice  2022-12   25\n",
       "  2023-01-Bob          Bob  2023-01   30\n",
       "  2023-01-Charlie  Charlie  2023-01   35\n",
       "  2023-02-Didier    Didier  2023-02   40\n",
       "  2023-02-Philipe  Philipe  2023-02   40\n",
       "  2023-02-Antoine  Antoine  2023-02   40\n",
       "  2023-03-Clement  Clement  2023-03   45\n",
       "  2023-03-Cyril      Cyril  2023-03   45\n",
       "  2023-03-Victor    Victor  2023-03   46,\n",
       "  'has_update': True,\n",
       "  'type': <UpdateType.OTHER: 'other'>,\n",
       "  'drift_context': None,\n",
       "  'drift_evaluation': None,\n",
       "  'drift_summary': None},\n",
       " 'DRIFT': {'df':                     name     date  age\n",
       "  unique_key                            \n",
       "  2022-12-Alice      Alice  2022-12   25\n",
       "  2023-01-Bob          Bob  2023-01   30\n",
       "  2023-01-Charlie  Charlie  2023-01   36\n",
       "  2023-02-Didier    Didier  2023-02   40\n",
       "  2023-02-Philipe  Philipe  2023-02   42\n",
       "  2023-02-Antoine  Antoine  2023-02   40\n",
       "  2023-03-Clement  Clement  2023-03   45\n",
       "  2023-03-Cyril      Cyril  2023-03   45\n",
       "  2023-03-Victor    Victor  2023-03   46,\n",
       "  'has_update': True,\n",
       "  'type': <UpdateType.DRIFT: 'drift'>,\n",
       "  'drift_context': {'before':                     name     date  age\n",
       "   unique_key                            \n",
       "   2022-12-Alice      Alice  2022-12   25\n",
       "   2023-01-Bob          Bob  2023-01   30\n",
       "   2023-01-Charlie  Charlie  2023-01   35\n",
       "   2023-02-Didier    Didier  2023-02   40\n",
       "   2023-02-Philipe  Philipe  2023-02   40\n",
       "   2023-02-Antoine  Antoine  2023-02   40\n",
       "   2023-03-Clement  Clement  2023-03   45\n",
       "   2023-03-Cyril      Cyril  2023-03   45\n",
       "   2023-03-Victor    Victor  2023-03   46,\n",
       "   'after':                     name     date  age\n",
       "   unique_key                            \n",
       "   2022-12-Alice      Alice  2022-12   25\n",
       "   2023-01-Bob          Bob  2023-01   30\n",
       "   2023-01-Charlie  Charlie  2023-01   36\n",
       "   2023-02-Didier    Didier  2023-02   40\n",
       "   2023-02-Philipe  Philipe  2023-02   42\n",
       "   2023-02-Antoine  Antoine  2023-02   40\n",
       "   2023-03-Clement  Clement  2023-03   45\n",
       "   2023-03-Cyril      Cyril  2023-03   45\n",
       "   2023-03-Victor    Victor  2023-03   46},\n",
       "  'drift_evaluation': {'should_alert': False,\n",
       "   'message': 'Drift detected:\\n- 🆕 0 addition\\n- ♻️ 2 modifications\\n- 🗑️ 0 deletion'},\n",
       "  'drift_summary': {'added_rows': Empty DataFrame\n",
       "   Columns: [name, date, age]\n",
       "   Index: [],\n",
       "   'deleted_rows': Empty DataFrame\n",
       "   Columns: [name, date, age]\n",
       "   Index: [],\n",
       "   'modified_rows_unique_keys': Index(['2023-01-Charlie', '2023-02-Philipe'], dtype='object', name='unique_key'),\n",
       "   'modified_patterns':          unique_keys column  old_value  new_value           pattern_id\n",
       "   0  [2023-01-Charlie]    age         35         36 -6966103895148311391\n",
       "   1  [2023-02-Philipe]    age         40         42  4552908576136231560}},\n",
       " 'MIGRATION Column Added': {'df':                     name     date  age\n",
       "  unique_key                            \n",
       "  2022-12-Alice      Alice  2022-12   25\n",
       "  2023-01-Bob          Bob  2023-01   30\n",
       "  2023-01-Charlie  Charlie  2023-01   36\n",
       "  2023-02-Didier    Didier  2023-02   40\n",
       "  2023-02-Philipe  Philipe  2023-02   42\n",
       "  2023-02-Antoine  Antoine  2023-02   40\n",
       "  2023-03-Clement  Clement  2023-03   45\n",
       "  2023-03-Cyril      Cyril  2023-03   45\n",
       "  2023-03-Victor    Victor  2023-03   46,\n",
       "  'has_update': False,\n",
       "  'type': <UpdateType.OTHER: 'other'>,\n",
       "  'drift_context': None,\n",
       "  'drift_evaluation': None,\n",
       "  'drift_summary': None}}"
      ]
     },
     "execution_count": 5,
     "metadata": {},
     "output_type": "execute_result"
    }
   ],
   "source": [
    "\n",
    "from datagit.dataframe_update_breakdown import dataframe_update_breakdown\n",
    "\n",
    "\n",
    "dataframe_update_breakdown(initial_dataframe=formatDF(dataMonth2), final_dataframe=formatDF(dataMonth3))"
   ]
  },
  {
   "cell_type": "code",
   "execution_count": 6,
   "metadata": {},
   "outputs": [
    {
     "name": "stdout",
     "output_type": "stream",
     "text": [
      "Storing metric...\n",
      "Metric found, updating it on branch: main\n",
      "Content https://raw.githubusercontent.com/Samox/data-history/main/path/to/metric_name_13.csv?token=ABUWFP2WHXH7HDVRNBU72XDFKOHTG\n",
      "Dataframe dtypes {'name': string[python], 'date': string[python], 'age': string[python]}\n",
      "Old Dataframe dtypes {'unique_key': string[python], 'name': string[python], 'date': string[python], 'age': string[python]}\n",
      "Change detected\n",
      "Update: DRIFT\n",
      "Branch drift/2023-11-14-16-15-02/path-to-metric-name-13-csv doesn't exist, creating it...\n",
      "Checkout branch: drift/2023-11-14-16-15-02/path-to-metric-name-13-csv  from default branch:main\n",
      "https://github.com/Samox/data-history/commit/244a9fda0b9bb735435fa1925ab14a4bc589bb8f\n",
      "Pull request created: https://github.com/Samox/data-history/pull/176\n",
      "Assignee Sammy does not exist\n"
     ]
    }
   ],
   "source": [
    "# ## No new data. Adds a drift for Philipe, and remove all other drifts\n",
    "from datagit.drift_evaluators import alert_drift\n",
    "\n",
    "\n",
    "dataMonth3And1Day = {\"name\": [\"Alice\", \"Bob\", \"Charlie\", \"Didier\", \"Philipe\", \"Antoine\", \"Clement\", \"Cyril\", \"Victor\"], \"date\": [\"2022-12\",\"2023-01\",\"2023-01\",\"2023-02\",\"2023-02\",\"2023-02\",\"2023-03\",\"2023-03\",\"2023-03\"], \"age\": [25, 30, 35, 40, 42, 40, 45, 45, 46]}\n",
    "store_metric(ghClient=gh_client, dataframe= formatDF(dataMonth3And1Day),filepath= file_path, assignees=[\"Sammy\"], drift_evaluator=alert_drift)\n"
   ]
  },
  {
   "cell_type": "code",
   "execution_count": 7,
   "metadata": {},
   "outputs": [
    {
     "name": "stdout",
     "output_type": "stream",
     "text": [
      "Storing metric...\n",
      "Metric found, updating it on branch: main\n",
      "Content https://raw.githubusercontent.com/Samox/data-history/main/path/to/metric_name_13.csv?token=ABUWFPZ5QPZVUNQS2Z4UWRTFKOHTW\n",
      "Dataframe dtypes {'name': string[python], 'date': string[python], 'age': string[python]}\n",
      "Old Dataframe dtypes {'unique_key': string[python], 'name': string[python], 'date': string[python], 'age': string[python]}\n",
      "Change detected\n",
      "Update: DRIFT\n",
      "Branch drift/2023-11-14-16-15-10/path-to-metric-name-13-csv doesn't exist, creating it...\n"
     ]
    }
   ],
   "source": [
    "# ## No new data. Adds a drift for Philipe, and remove all other drifts\n",
    "dataMonth3And2Day = {\"name\": [\"Alice\", \"Alixe\", \"Bob\", \"Charlie\", \"Didier\", \"Philipe\", \"Antoine\", \"Clement\", \"Cyril\", \"Victor\"], \"date\": [\"2022-12\",\"2022-12\",\"2023-01\",\"2023-01\",\"2023-02\",\"2023-02\",\"2023-02\",\"2023-03\",\"2023-03\",\"2023-03\"], \"age\": [25, 25, 30, 35, 40, 42, 40, 45, 45, 46]}\n",
    "store_metric(ghClient=gh_client, dataframe= formatDF(dataMonth3And2Day), filepath=file_path, assignees=[\"Sammy\"], drift_evaluator=alert_drift)\n"
   ]
  },
  {
   "cell_type": "code",
   "execution_count": null,
   "metadata": {},
   "outputs": [
    {
     "name": "stdout",
     "output_type": "stream",
     "text": [
      "                                  unique_key        date  metric_value\n",
      "0       4a145858-84af-4451-a065-4e15455c6dd5  2008-07-16          3.79\n",
      "1       842b637b-93b2-4341-a679-bf2c88105290  2014-01-20          7.92\n",
      "2       e62492f5-ddfe-4237-a8b8-122cd4b49941  2000-10-23          5.86\n",
      "3       eb43b6df-de49-47ef-a0c4-19ad05ab81e2  2010-11-06          7.64\n",
      "4       0b390565-6c0f-46c4-822c-7cd1741a844f  1995-08-13          1.53\n",
      "...                                      ...         ...           ...\n",
      "599995  0d9f05b7-ddda-4f4f-bd4b-7e4b2f48f3e3  2019-11-07          5.68\n",
      "599996  68a574c7-20d8-4e24-ad03-45b1e6b86e3a  2015-02-11          3.65\n",
      "599997  c053adcb-badf-4569-9a20-7d5dca51681a  1996-08-02          0.18\n",
      "599998  8d9ae907-6d61-41d1-90a5-461b1ba5dff8  2003-01-12          9.54\n",
      "599999  876bca12-d852-4295-8b8e-afaa5be5c52c  2023-06-02          6.53\n",
      "\n",
      "[600000 rows x 3 columns]\n"
     ]
    }
   ],
   "source": [
    "import pandas as pd\n",
    "from faker import Faker\n",
    "import random\n",
    "\n",
    "# Initialize Faker to generate random data\n",
    "fake = Faker()\n",
    "\n",
    "# Set the number of rows for the dataframe\n",
    "num_rows = 600000\n",
    "\n",
    "# Generate random IDs and dates\n",
    "ids = [fake.uuid4() for _ in range(num_rows)]\n",
    "dates = [fake.date_between(start_date='-30y', end_date='today').strftime('%Y-%m-%d') for _ in range(num_rows)]\n",
    "\n",
    "# Generate random metric values between 0 and 10\n",
    "metric_values = [round(random.uniform(0, 10),2) for _ in range(num_rows)]\n",
    "\n",
    "# Create the dataframe\n",
    "ultra_large_df = pd.DataFrame({'unique_key': ids, 'date': dates, 'metric_value': metric_values})\n",
    "\n",
    "# Print the dataframe\n",
    "print(ultra_large_df)"
   ]
  },
  {
   "cell_type": "code",
   "execution_count": null,
   "metadata": {},
   "outputs": [
    {
     "name": "stdout",
     "output_type": "stream",
     "text": [
      "Storing metric...\n",
      "Metric found, updating it on branch: main\n",
      "Content https://raw.githubusercontent.com/Samox/data-history/main/path/to/ultra_large_metric_name3.csv?token=ABUWFP53PGSBFD5ZNKU45PTFKOHA2\n",
      "Dataframe dtypes {'date': string[python], 'metric_value': string[python]}\n",
      "Old Dataframe dtypes {'unique_key': string[python], 'date': string[python], 'metric_value': string[python]}\n",
      "Change detected\n",
      "Update: NEW DATA\n",
      "https://github.com/Samox/data-history/commit/eaba558ad07f5f43d5931825816baa2a618c7c5f\n",
      "Update: DRIFT\n",
      "https://github.com/Samox/data-history/commit/78fe1770998890ebf8657bb3b6c6188423ac5027\n"
     ]
    }
   ],
   "source": [
    "import sys\n",
    "sys.path.append('..')\n",
    "import importlib\n",
    "import datagit.github_connector\n",
    "importlib.reload(datagit.github_connector)\n",
    "from datagit.github_connector import store_metric\n",
    "import pandas as pd\n",
    "\n",
    "## Test with file already existing and splitting new data and historical data\n",
    "repo = os.getenv(\"REPO\") or \"gh_org/repo\"\n",
    "store_metric(ghClient=gh_client,  dataframe=ultra_large_df, filepath=repo+\"/path/to/ultra_large_metric_name3.csv\", assignees=[\"Sammy\"])"
   ]
  },
  {
   "cell_type": "code",
   "execution_count": null,
   "metadata": {},
   "outputs": [],
   "source": [
    "ultra_large_df = ultra_large_df.iloc[:-1]\n"
   ]
  }
 ],
 "metadata": {
  "kernelspec": {
   "display_name": "base",
   "language": "python",
   "name": "python3"
  },
  "language_info": {
   "codemirror_mode": {
    "name": "ipython",
    "version": 3
   },
   "file_extension": ".py",
   "mimetype": "text/x-python",
   "name": "python",
   "nbconvert_exporter": "python",
   "pygments_lexer": "ipython3",
   "version": "3.11.5"
  },
  "orig_nbformat": 4
 },
 "nbformat": 4,
 "nbformat_minor": 2
}
