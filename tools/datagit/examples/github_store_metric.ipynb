{
 "cells": [
  {
   "cell_type": "code",
   "execution_count": 1,
   "metadata": {},
   "outputs": [],
   "source": [
    "import sys\n",
    "from dotenv import load_dotenv\n",
    "from github import Github\n",
    "import os\n",
    "\n",
    "# Create a .env with the following content:\n",
    "# GH_TOKEN=your_github_token\n",
    "# REPON=$gh_org/$repo\n",
    "\n",
    "# Load environment variables from .env file\n",
    "load_dotenv(\"../.env\")\n",
    "\n",
    "\n",
    "# Get GitHub token from environment variable\n",
    "gh_token = os.getenv(\"GH_TOKEN\")\n",
    "if gh_token is None:\n",
    "    print(\"GitHub token not found! Create a .env file a the root with a GH_TOKEN variable.\")\n",
    "    exit(1)\n",
    "gh_client = Github(gh_token, timeout=60)\n",
    "repo = os.getenv(\"REPO\") or \"gh_org/repo\"\n",
    "repo = gh_client.get_repo(repo)"
   ]
  },
  {
   "cell_type": "code",
   "execution_count": 3,
   "metadata": {},
   "outputs": [
    {
     "name": "stdout",
     "output_type": "stream",
     "text": [
      "Storing table...\n",
      "Table found, updating it on branch: main\n",
      "Dataframe dtypes {'name': string[python], 'date': string[python], 'age': string[python]}\n",
      "Old Dataframe dtypes {'unique_key': string[python], 'name': string[python], 'date': string[python], 'age': string[python]}\n",
      "Nothing to update\n"
     ]
    }
   ],
   "source": [
    "import sys\n",
    "sys.path.append('..')\n",
    "import importlib\n",
    "import datagit.drift_evaluator.drift_evaluators\n",
    "importlib.reload(datagit.drift_evaluator.drift_evaluators)\n",
    "\n",
    "import datagit.connectors.github_connector\n",
    "importlib.reload(datagit.connectors.github_connector)\n",
    "from datagit.connectors.common import store_table\n",
    "import pandas as pd\n",
    "\n",
    "## Test with file already existing and splitting new data and historical data\n",
    "repo = os.getenv(\"REPO\") or \"gh_org/repo\"\n",
    "\n",
    "def formatDF(dict):\n",
    "    df = pd.DataFrame(dict)\n",
    "    df['unique_key'] = df.apply(lambda row: row['date'] + '-' + row['name'], axis=1)\n",
    "    column_order = ['unique_key'] + [col for col in df.columns if col != 'unique_key']\n",
    "    df = df.reindex(columns=column_order)\n",
    "    return df\n",
    "\n",
    "\n",
    "file_path = \"path/to/metric_name_13.csv\"\n",
    "\n",
    "# Store metric for the first time\n",
    "dataMonth1 = {\"name\": [\"Alice\", \"Bob\", \"Charlie\"], \"date\": [\"2022-12\",\"2023-01\",\"2023-01\"], \"age\": [25, 30, 35]}\n",
    "store_table(\n",
    "    github_client=gh_client,\n",
    "    github_repository_name= repo,\n",
    "    table_dataframe= formatDF(dataMonth1),\n",
    "    table_name= file_path,\n",
    "    assignees=[\"Sammy\"]\n",
    ")\n",
    "\n",
    "\n"
   ]
  },
  {
   "cell_type": "code",
   "execution_count": 3,
   "metadata": {},
   "outputs": [
    {
     "name": "stdout",
     "output_type": "stream",
     "text": [
      "Storing metric...\n",
      "Metric found, updating it on branch: main\n",
      "Content https://raw.githubusercontent.com/Samox/data-history/main/path/to/metric_name_13.csv?token=ABUWFP54CD43BDTBMCRWRV3FKXVUM\n",
      "Dataframe dtypes {'name': string[python], 'date': string[python], 'age': string[python]}\n",
      "Old Dataframe dtypes {'unique_key': string[python], 'name': string[python], 'date': string[python], 'age': string[python]}\n",
      "Change detected\n",
      "Update: DRIFT\n",
      "https://github.com/Samox/data-history/commit/58e726f5c132f95ea1676e23cec82e13b7330fe9\n"
     ]
    }
   ],
   "source": [
    "# ## Introduce new data for 2023-02\n",
    "dataMonth2 = {\"name\": [\"Alice\", \"Bob\", \"Charlie\", \"Didier\", \"Philipe\", \"Antoine\"], \"date\": [\"2022-12\",\"2023-01\",\"2023-01\",\"2023-02\",\"2023-02\",\"2023-02\"], \"age\": [25, 30, 35, 40, 40, 40]}\n",
    "store_table(github_client=gh_client,table_dataframe=  formatDF(dataMonth2) ,   github_repository_name= repo,table_name= file_path, assignees=[\"Sammy\"])\n",
    "\n"
   ]
  },
  {
   "cell_type": "code",
   "execution_count": 4,
   "metadata": {},
   "outputs": [
    {
     "name": "stdout",
     "output_type": "stream",
     "text": [
      "Storing metric...\n",
      "Metric found, updating it on branch: main\n",
      "Content https://raw.githubusercontent.com/Samox/data-history/main/path/to/metric_name_13.csv?token=ABUWFPYZKDRYBHYWT6V4O3LFKXVUS\n",
      "Dataframe dtypes {'name': string[python], 'date': string[python], 'age': string[python]}\n",
      "Old Dataframe dtypes {'unique_key': string[python], 'name': string[python], 'date': string[python], 'age': string[python]}\n",
      "Change detected\n",
      "Update: NEW DATA\n",
      "https://github.com/Samox/data-history/commit/42c80eb60b7a8930398c21480d49832cbd51144f\n",
      "Update: DRIFT\n",
      "https://github.com/Samox/data-history/commit/9cb75389b6acfd5beb463254ae4549751c09eb60\n"
     ]
    }
   ],
   "source": [
    "import sys\n",
    "sys.path.append('..')\n",
    "import importlib\n",
    "import datagit.github_connector\n",
    "importlib.reload(datagit.github_connector)\n",
    "from datagit.github_connector import store_table\n",
    "import pandas as pd\n",
    "\n",
    "# ## Introduce new data for 2023-03 and a drift on 2020-02\n",
    "dataMonth3 = {\"name\": [\"Alice\", \"Bob\", \"Charlie\", \"Didier\", \"Philipe\", \"Antoine\", \"Clement\", \"Cyril\", \"Victor\"], \"date\": [\"2022-12\",\"2023-01\",\"2023-01\",\"2023-02\",\"2023-02\",\"2023-02\",\"2023-03\",\"2023-03\",\"2023-03\"], \"age\": [25, 30, 36, 40, 42, 40, 45, 45, 46]}\n",
    "store_table(github_client=gh_client,table_dataframe=  formatDF(dataMonth3) ,   github_repository_name= repo,table_name= file_path, assignees=[\"Sammy\"])\n",
    "\n"
   ]
  },
  {
   "cell_type": "code",
   "execution_count": 5,
   "metadata": {},
   "outputs": [
    {
     "data": {
      "text/plain": [
       "{'MIGRATION Column Deleted': {'df':                     name     date  age\n",
       "  unique_key                            \n",
       "  2022-12-Alice      Alice  2022-12   25\n",
       "  2023-01-Bob          Bob  2023-01   30\n",
       "  2023-01-Charlie  Charlie  2023-01   35\n",
       "  2023-02-Didier    Didier  2023-02   40\n",
       "  2023-02-Philipe  Philipe  2023-02   40\n",
       "  2023-02-Antoine  Antoine  2023-02   40,\n",
       "  'has_update': False,\n",
       "  'type': <UpdateType.OTHER: 'other'>,\n",
       "  'drift_context': None,\n",
       "  'drift_evaluation': None,\n",
       "  'drift_summary': None},\n",
       " 'NEW DATA': {'df':                     name     date  age\n",
       "  unique_key                            \n",
       "  2022-12-Alice      Alice  2022-12   25\n",
       "  2023-01-Bob          Bob  2023-01   30\n",
       "  2023-01-Charlie  Charlie  2023-01   35\n",
       "  2023-02-Didier    Didier  2023-02   40\n",
       "  2023-02-Philipe  Philipe  2023-02   40\n",
       "  2023-02-Antoine  Antoine  2023-02   40\n",
       "  2023-03-Clement  Clement  2023-03   45\n",
       "  2023-03-Cyril      Cyril  2023-03   45\n",
       "  2023-03-Victor    Victor  2023-03   46,\n",
       "  'has_update': True,\n",
       "  'type': <UpdateType.OTHER: 'other'>,\n",
       "  'drift_context': None,\n",
       "  'drift_evaluation': None,\n",
       "  'drift_summary': None},\n",
       " 'DRIFT': {'df':                     name     date  age\n",
       "  unique_key                            \n",
       "  2022-12-Alice      Alice  2022-12   25\n",
       "  2023-01-Bob          Bob  2023-01   30\n",
       "  2023-01-Charlie  Charlie  2023-01   36\n",
       "  2023-02-Didier    Didier  2023-02   40\n",
       "  2023-02-Philipe  Philipe  2023-02   42\n",
       "  2023-02-Antoine  Antoine  2023-02   40\n",
       "  2023-03-Clement  Clement  2023-03   45\n",
       "  2023-03-Cyril      Cyril  2023-03   45\n",
       "  2023-03-Victor    Victor  2023-03   46,\n",
       "  'has_update': True,\n",
       "  'type': <UpdateType.DRIFT: 'drift'>,\n",
       "  'drift_context': {'before':                     name     date  age\n",
       "   unique_key                            \n",
       "   2022-12-Alice      Alice  2022-12   25\n",
       "   2023-01-Bob          Bob  2023-01   30\n",
       "   2023-01-Charlie  Charlie  2023-01   35\n",
       "   2023-02-Didier    Didier  2023-02   40\n",
       "   2023-02-Philipe  Philipe  2023-02   40\n",
       "   2023-02-Antoine  Antoine  2023-02   40\n",
       "   2023-03-Clement  Clement  2023-03   45\n",
       "   2023-03-Cyril      Cyril  2023-03   45\n",
       "   2023-03-Victor    Victor  2023-03   46,\n",
       "   'after':                     name     date  age\n",
       "   unique_key                            \n",
       "   2022-12-Alice      Alice  2022-12   25\n",
       "   2023-01-Bob          Bob  2023-01   30\n",
       "   2023-01-Charlie  Charlie  2023-01   36\n",
       "   2023-02-Didier    Didier  2023-02   40\n",
       "   2023-02-Philipe  Philipe  2023-02   42\n",
       "   2023-02-Antoine  Antoine  2023-02   40\n",
       "   2023-03-Clement  Clement  2023-03   45\n",
       "   2023-03-Cyril      Cyril  2023-03   45\n",
       "   2023-03-Victor    Victor  2023-03   46,\n",
       "   'summary': {'added_rows': Empty DataFrame\n",
       "    Columns: [name, date, age]\n",
       "    Index: [],\n",
       "    'deleted_rows': Empty DataFrame\n",
       "    Columns: [name, date, age]\n",
       "    Index: [],\n",
       "    'modified_rows_unique_keys': Index(['2023-01-Charlie', '2023-02-Philipe'], dtype='object', name='unique_key'),\n",
       "    'modified_patterns':          unique_keys column  old_value  new_value           pattern_id\n",
       "    0  [2023-01-Charlie]    age         35         36  -623253827825121558\n",
       "    1  [2023-02-Philipe]    age         40         42 -7550985430250130223}},\n",
       "  'drift_evaluation': {'should_alert': False,\n",
       "   'message': 'Drift detected:\\n- 🆕 0 addition\\n- ♻️ 2 modifications\\n- 🗑️ 0 deletion'},\n",
       "  'drift_summary': {'added_rows': Empty DataFrame\n",
       "   Columns: [name, date, age]\n",
       "   Index: [],\n",
       "   'deleted_rows': Empty DataFrame\n",
       "   Columns: [name, date, age]\n",
       "   Index: [],\n",
       "   'modified_rows_unique_keys': Index(['2023-01-Charlie', '2023-02-Philipe'], dtype='object', name='unique_key'),\n",
       "   'modified_patterns':          unique_keys column  old_value  new_value           pattern_id\n",
       "   0  [2023-01-Charlie]    age         35         36  -623253827825121558\n",
       "   1  [2023-02-Philipe]    age         40         42 -7550985430250130223}},\n",
       " 'MIGRATION Column Added': {'df':                     name     date  age\n",
       "  unique_key                            \n",
       "  2022-12-Alice      Alice  2022-12   25\n",
       "  2023-01-Bob          Bob  2023-01   30\n",
       "  2023-01-Charlie  Charlie  2023-01   36\n",
       "  2023-02-Didier    Didier  2023-02   40\n",
       "  2023-02-Philipe  Philipe  2023-02   42\n",
       "  2023-02-Antoine  Antoine  2023-02   40\n",
       "  2023-03-Clement  Clement  2023-03   45\n",
       "  2023-03-Cyril      Cyril  2023-03   45\n",
       "  2023-03-Victor    Victor  2023-03   46,\n",
       "  'has_update': False,\n",
       "  'type': <UpdateType.OTHER: 'other'>,\n",
       "  'drift_context': None,\n",
       "  'drift_evaluation': None,\n",
       "  'drift_summary': None}}"
      ]
     },
     "execution_count": 5,
     "metadata": {},
     "output_type": "execute_result"
    }
   ],
   "source": [
    "\n",
    "from datagit.dataframe_update_breakdown import dataframe_update_breakdown\n",
    "\n",
    "\n",
    "dataframe_update_breakdown(initial_dataframe=formatDF(dataMonth2), final_dataframe=formatDF(dataMonth3))"
   ]
  },
  {
   "cell_type": "code",
   "execution_count": 6,
   "metadata": {},
   "outputs": [
    {
     "name": "stdout",
     "output_type": "stream",
     "text": [
      "Storing metric...\n",
      "Metric found, updating it on branch: main\n",
      "Content https://raw.githubusercontent.com/Samox/data-history/main/path/to/metric_name_13.csv?token=ABUWFP7UDOQEJ276RAJHEZDFKXVU2\n",
      "Dataframe dtypes {'name': string[python], 'date': string[python], 'age': string[python]}\n",
      "Old Dataframe dtypes {'unique_key': string[python], 'name': string[python], 'date': string[python], 'age': string[python]}\n",
      "Change detected\n",
      "Update: DRIFT\n",
      "Branch drift/2023-11-16-11-12-31/path-to-metric-name-13-csv doesn't exist, creating it...\n",
      "Checkout branch: drift/2023-11-16-11-12-31/path-to-metric-name-13-csv  from branch:main\n",
      "https://github.com/Samox/data-history/commit/6c060a9c345484a3e77f64ca3186b4b805c8f2ad\n",
      "Pull request created: https://github.com/Samox/data-history/pull/180\n",
      "Assignee Sammy does not exist\n"
     ]
    }
   ],
   "source": [
    "# ## No new data. Adds a drift for Philipe, and remove all other drifts\n",
    "from datagit.drift_evaluators import AlertDriftEvaluator\n",
    "\n",
    "\n",
    "dataMonth3And1Day = {\"name\": [\"Alice\", \"Bob\", \"Charlie\", \"Didier\", \"Philipe\", \"Antoine\", \"Clement\", \"Cyril\", \"Victor\"], \"date\": [\"2022-12\",\"2023-01\",\"2023-01\",\"2023-02\",\"2023-02\",\"2023-02\",\"2023-03\",\"2023-03\",\"2023-03\"], \"age\": [25, 30, 35, 40, 42, 40, 45, 45, 46]}\n",
    "store_table(github_client=gh_client, table_dataframe= formatDF(dataMonth3And1Day), github_repository_name= repo,table_name= file_path, assignees=[\"Sammy\"], drift_evaluator=AlertDriftEvaluator())\n"
   ]
  },
  {
   "cell_type": "code",
   "execution_count": 7,
   "metadata": {},
   "outputs": [
    {
     "name": "stdout",
     "output_type": "stream",
     "text": [
      "Storing metric...\n",
      "Metric found, updating it on branch: main\n",
      "Content https://raw.githubusercontent.com/Samox/data-history/main/path/to/metric_name_13.csv?token=ABUWFP3F7AJFNNDR7NWTD7DFKXVVI\n",
      "Dataframe dtypes {'name': string[python], 'date': string[python], 'age': string[python]}\n",
      "Old Dataframe dtypes {'unique_key': string[python], 'name': string[python], 'date': string[python], 'age': string[python]}\n",
      "Change detected\n",
      "Update: DRIFT\n",
      "Branch drift/2023-11-16-11-12-39/path-to-metric-name-13-csv doesn't exist, creating it...\n",
      "Checkout branch: drift/2023-11-16-11-12-39/path-to-metric-name-13-csv  from branch:main\n",
      "https://github.com/Samox/data-history/commit/62652b5a3b60e6e6752a5a5acb0be91d4f4e9798\n",
      "Pull request created: https://github.com/Samox/data-history/pull/181\n",
      "Assignee Sammy does not exist\n"
     ]
    }
   ],
   "source": [
    "# ## No new data. Adds a drift for Philipe, and remove all other drifts\n",
    "dataMonth3And2Day = {\"name\": [\"Alice\", \"Alixe\", \"Bob\", \"Charlie\", \"Didier\", \"Philipe\", \"Antoine\", \"Clement\", \"Cyril\", \"Victor\"], \"date\": [\"2022-12\",\"2022-12\",\"2023-01\",\"2023-01\",\"2023-02\",\"2023-02\",\"2023-02\",\"2023-03\",\"2023-03\",\"2023-03\"], \"age\": [25, 25, 30, 35, 40, 42, 40, 45, 45, 46]}\n",
    "\n",
    "store_table(github_client=gh_client, table_dataframe= formatDF(dataMonth3And2Day), github_repository_name= repo,table_name= file_path, assignees=[\"Sammy\"], drift_evaluator=AlertDriftEvaluator())\n"
   ]
  },
  {
   "cell_type": "code",
   "execution_count": 8,
   "metadata": {},
   "outputs": [
    {
     "name": "stdout",
     "output_type": "stream",
     "text": [
      "                                  unique_key        date  metric_value\n",
      "0       03d1f3b5-81d4-48ba-a7b9-854c42321f6a  2004-02-06          2.87\n",
      "1       50667f8d-ba05-491d-8343-2cced0a8e9c5  2015-12-14          2.84\n",
      "2       30aff271-c00c-4eef-a544-d8f91285523f  2019-07-21          7.68\n",
      "3       4b8a7e22-ba3a-453d-92dc-e4d2dc06411e  2003-04-19          8.29\n",
      "4       da70e52d-0579-4ab5-ba61-0b5929d7dacd  2022-03-17          6.50\n",
      "...                                      ...         ...           ...\n",
      "599995  acb89dbd-ac1c-4471-924e-1b1136ee49be  2008-09-04          1.38\n",
      "599996  5b120793-e534-425d-8450-c255fd770771  2015-04-28          8.86\n",
      "599997  228a5b5b-416b-4c96-9ebb-1638f92678a8  2014-03-07          2.77\n",
      "599998  aff2bba0-5935-49dc-bcc5-9fe830e15140  1995-07-31          9.70\n",
      "599999  9aaf1ebe-5073-46a1-88e6-9e690acbf6ad  2018-03-25          8.33\n",
      "\n",
      "[600000 rows x 3 columns]\n"
     ]
    }
   ],
   "source": [
    "import pandas as pd\n",
    "from faker import Faker\n",
    "import random\n",
    "\n",
    "# Initialize Faker to generate random data\n",
    "fake = Faker()\n",
    "\n",
    "# Set the number of rows for the dataframe\n",
    "num_rows = 600000\n",
    "\n",
    "# Generate random IDs and dates\n",
    "ids = [fake.uuid4() for _ in range(num_rows)]\n",
    "dates = [fake.date_between(start_date='-30y', end_date='today').strftime('%Y-%m-%d') for _ in range(num_rows)]\n",
    "\n",
    "# Generate random metric values between 0 and 10\n",
    "metric_values = [round(random.uniform(0, 10),2) for _ in range(num_rows)]\n",
    "\n",
    "# Create the dataframe\n",
    "ultra_large_df = pd.DataFrame({'unique_key': ids, 'date': dates, 'metric_value': metric_values})\n",
    "\n",
    "# Print the dataframe\n",
    "print(ultra_large_df)"
   ]
  },
  {
   "cell_type": "code",
   "execution_count": 9,
   "metadata": {},
   "outputs": [
    {
     "ename": "ImportError",
     "evalue": "cannot import name 'store_metric' from 'datagit.github_connector' (/Users/sammyteillet/Documents/Projects/DataDrift/data-drift/tools/datagit/datagit/github_connector.py)",
     "output_type": "error",
     "traceback": [
      "\u001b[0;31m---------------------------------------------------------------------------\u001b[0m",
      "\u001b[0;31mImportError\u001b[0m                               Traceback (most recent call last)",
      "\u001b[1;32m/Users/sammyteillet/Documents/Projects/DataDrift/data-drift/tools/datagit/examples/github_store_metric.ipynb Cell 9\u001b[0m line \u001b[0;36m6\n\u001b[1;32m      <a href='vscode-notebook-cell:/Users/sammyteillet/Documents/Projects/DataDrift/data-drift/tools/datagit/examples/github_store_metric.ipynb#X11sZmlsZQ%3D%3D?line=3'>4</a>\u001b[0m \u001b[39mimport\u001b[39;00m \u001b[39mdatagit\u001b[39;00m\u001b[39m.\u001b[39;00m\u001b[39mgithub_connector\u001b[39;00m\n\u001b[1;32m      <a href='vscode-notebook-cell:/Users/sammyteillet/Documents/Projects/DataDrift/data-drift/tools/datagit/examples/github_store_metric.ipynb#X11sZmlsZQ%3D%3D?line=4'>5</a>\u001b[0m importlib\u001b[39m.\u001b[39mreload(datagit\u001b[39m.\u001b[39mgithub_connector)\n\u001b[0;32m----> <a href='vscode-notebook-cell:/Users/sammyteillet/Documents/Projects/DataDrift/data-drift/tools/datagit/examples/github_store_metric.ipynb#X11sZmlsZQ%3D%3D?line=5'>6</a>\u001b[0m \u001b[39mfrom\u001b[39;00m \u001b[39mdatagit\u001b[39;00m\u001b[39m.\u001b[39;00m\u001b[39mgithub_connector\u001b[39;00m \u001b[39mimport\u001b[39;00m store_metric\n\u001b[1;32m      <a href='vscode-notebook-cell:/Users/sammyteillet/Documents/Projects/DataDrift/data-drift/tools/datagit/examples/github_store_metric.ipynb#X11sZmlsZQ%3D%3D?line=6'>7</a>\u001b[0m \u001b[39mimport\u001b[39;00m \u001b[39mpandas\u001b[39;00m \u001b[39mas\u001b[39;00m \u001b[39mpd\u001b[39;00m\n\u001b[1;32m      <a href='vscode-notebook-cell:/Users/sammyteillet/Documents/Projects/DataDrift/data-drift/tools/datagit/examples/github_store_metric.ipynb#X11sZmlsZQ%3D%3D?line=8'>9</a>\u001b[0m \u001b[39m## Test with file already existing and splitting new data and historical data\u001b[39;00m\n",
      "\u001b[0;31mImportError\u001b[0m: cannot import name 'store_metric' from 'datagit.github_connector' (/Users/sammyteillet/Documents/Projects/DataDrift/data-drift/tools/datagit/datagit/github_connector.py)"
     ]
    }
   ],
   "source": [
    "import sys\n",
    "sys.path.append('..')\n",
    "import importlib\n",
    "import datagit.github_connector\n",
    "importlib.reload(datagit.github_connector)\n",
    "from datagit.github_connector import store_metric\n",
    "import pandas as pd\n",
    "\n",
    "## Test with file already existing and splitting new data and historical data\n",
    "repo = os.getenv(\"REPO\") or \"gh_org/repo\"\n",
    "store_metric(ghClient=gh_client,  dataframe=ultra_large_df, filepath=repo+\"/path/to/ultra_large_metric_name3.csv\", assignees=[\"Sammy\"])"
   ]
  },
  {
   "cell_type": "code",
   "execution_count": null,
   "metadata": {},
   "outputs": [],
   "source": [
    "ultra_large_df = ultra_large_df.iloc[:-1]\n"
   ]
  }
 ],
 "metadata": {
  "kernelspec": {
   "display_name": "base",
   "language": "python",
   "name": "python3"
  },
  "language_info": {
   "codemirror_mode": {
    "name": "ipython",
    "version": 3
   },
   "file_extension": ".py",
   "mimetype": "text/x-python",
   "name": "python",
   "nbconvert_exporter": "python",
   "pygments_lexer": "ipython3",
   "version": "3.11.5"
  },
  "orig_nbformat": 4
 },
 "nbformat": 4,
 "nbformat_minor": 2
}
