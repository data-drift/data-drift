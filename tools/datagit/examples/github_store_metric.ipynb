{
 "cells": [
  {
   "cell_type": "code",
   "execution_count": 1,
   "metadata": {},
   "outputs": [],
   "source": [
    "import sys\n",
    "from datagit.connectors.github_connector import GithubConnector\n",
    "from dotenv import load_dotenv\n",
    "from github import Github\n",
    "import os\n",
    "\n",
    "load_dotenv(\"../.env\")\n",
    "\n",
    "gh_token = os.getenv(\"GH_TOKEN\")\n",
    "if gh_token is None:\n",
    "    print(\"GitHub token not found! Create a .env file a the root with a GH_TOKEN variable.\")\n",
    "    exit(1)\n",
    "github_client = Github(gh_token, timeout=60)\n",
    "repo_name = os.getenv(\"REPO\") or \"gh_org/repo\"\n",
    "github_connector = GithubConnector(github_client=github_client, github_repository_name=repo_name, assignees=[\"Sammy\"])\n"
   ]
  },
  {
   "cell_type": "code",
   "execution_count": 2,
   "metadata": {},
   "outputs": [
    {
     "name": "stdout",
     "output_type": "stream",
     "text": [
      "Table found, updating it\n",
      "Change detected\n",
      "Update: DRIFT\n",
      "https://github.com/Samox/data-history/commit/8104d1a113672842ffc3164898f57104e6db852a\n"
     ]
    }
   ],
   "source": [
    "import sys\n",
    "sys.path.append('..')\n",
    "import importlib\n",
    "import datagit.drift_evaluator.drift_evaluators\n",
    "importlib.reload(datagit.drift_evaluator.drift_evaluators)\n",
    "\n",
    "import datagit.connectors.github_connector\n",
    "importlib.reload(datagit.connectors.github_connector)\n",
    "from datagit.connectors.workflow import snapshot_table\n",
    "import pandas as pd\n",
    "\n",
    "## Test with file already existing and splitting new data and historical data\n",
    "\n",
    "def formatDF(dict):\n",
    "    df = pd.DataFrame(dict)\n",
    "    df['unique_key'] = df.apply(lambda row: row['date'] + '-' + row['name'], axis=1)\n",
    "    column_order = ['unique_key'] + [col for col in df.columns if col != 'unique_key']\n",
    "    df = df.reindex(columns=column_order)\n",
    "    return df\n",
    "\n",
    "\n",
    "table_name = \"path/to/metric_name_13.csv\"\n",
    "\n",
    "# Store metric for the first time\n",
    "dataMonth1 = {\"name\": [\"Alice\", \"Bob\", \"Charlie\"], \"date\": [\"2022-12\",\"2023-01\",\"2023-01\"], \"age\": [25, 30, 35]}\n",
    "snapshot_table(\n",
    "    github_connector=github_connector,\n",
    "    table_dataframe= formatDF(dataMonth1),\n",
    "    table_name= table_name,\n",
    ")"
   ]
  },
  {
   "cell_type": "code",
   "execution_count": 3,
   "metadata": {},
   "outputs": [
    {
     "name": "stdout",
     "output_type": "stream",
     "text": [
      "Table found, updating it\n",
      "Change detected\n",
      "Update: NEW DATA\n",
      "https://github.com/Samox/data-history/commit/2a4908fbb939bbf802770280a0af7afb91518a40\n"
     ]
    }
   ],
   "source": [
    "# ## Introduce new data for 2023-02\n",
    "dataMonth2 = {\"name\": [\"Alice\", \"Bob\", \"Charlie\", \"Didier\", \"Philipe\", \"Antoine\"], \"date\": [\"2022-12\",\"2023-01\",\"2023-01\",\"2023-02\",\"2023-02\",\"2023-02\"], \"age\": [25, 30, 35, 40, 40, 40]}\n",
    "\n",
    "snapshot_table(\n",
    "    github_connector=github_connector,\n",
    "    table_dataframe= formatDF(dataMonth2),\n",
    "    table_name= table_name,\n",
    ")"
   ]
  },
  {
   "cell_type": "code",
   "execution_count": 4,
   "metadata": {},
   "outputs": [
    {
     "name": "stdout",
     "output_type": "stream",
     "text": [
      "Table found, updating it\n",
      "Change detected\n",
      "Update: NEW DATA\n",
      "https://github.com/Samox/data-history/commit/c6ce40140dd8e203ccc70bab32bdef6bd1ebef49\n",
      "Update: DRIFT\n",
      "https://github.com/Samox/data-history/commit/33dfdea1c8b8ef05d12bf35844ff12e9e094b10e\n"
     ]
    }
   ],
   "source": [
    "# ## Introduce new data for 2023-03 and a drift on 2020-02\n",
    "dataMonth3 = {\"name\": [\"Alice\", \"Bob\", \"Charlie\", \"Didier\", \"Philipe\", \"Antoine\", \"Clement\", \"Cyril\", \"Victor\"], \"date\": [\"2022-12\",\"2023-01\",\"2023-01\",\"2023-02\",\"2023-02\",\"2023-02\",\"2023-03\",\"2023-03\",\"2023-03\"], \"age\": [25, 30, 36, 40, 42, 40, 45, 45, 46]}\n",
    "\n",
    "snapshot_table(\n",
    "    github_connector=github_connector,\n",
    "    table_dataframe= formatDF(dataMonth3),\n",
    "    table_name= table_name,\n",
    ")"
   ]
  },
  {
   "cell_type": "code",
   "execution_count": 5,
   "metadata": {},
   "outputs": [
    {
     "name": "stdout",
     "output_type": "stream",
     "text": [
      "Table found, updating it\n",
      "Change detected\n",
      "Update: DRIFT\n",
      "Branch drift/2023-11-16-15-31-45/path-to-metric-name-13-csv doesn't exist, creating it...\n",
      "Checkout branch: drift/2023-11-16-15-31-45/path-to-metric-name-13-csv  from branch:main\n",
      "https://github.com/Samox/data-history/commit/d78881c8b7c7e79c5a2c334f0cc12221be0dd839\n",
      "Pull request created: https://github.com/Samox/data-history/pull/183\n",
      "Assignee Sammy does not exist\n"
     ]
    }
   ],
   "source": [
    "# ## No new data. Adds a drift for Philipe, and remove all other drifts\n",
    "from datagit.drift_evaluator.drift_evaluators import AlertDriftEvaluator\n",
    "\n",
    "\n",
    "dataMonth3And1Day = {\"name\": [\"Alice\", \"Bob\", \"Charlie\", \"Didier\", \"Philipe\", \"Antoine\", \"Clement\", \"Cyril\", \"Victor\"], \"date\": [\"2022-12\",\"2023-01\",\"2023-01\",\"2023-02\",\"2023-02\",\"2023-02\",\"2023-03\",\"2023-03\",\"2023-03\"], \"age\": [25, 30, 35, 40, 42, 40, 45, 45, 46]}\n",
    "snapshot_table(\n",
    "    github_connector=github_connector,\n",
    "    table_dataframe= formatDF(dataMonth3And1Day),\n",
    "    table_name= table_name,\n",
    "    drift_evaluator=AlertDriftEvaluator()\n",
    ")"
   ]
  },
  {
   "cell_type": "code",
   "execution_count": 6,
   "metadata": {},
   "outputs": [
    {
     "name": "stdout",
     "output_type": "stream",
     "text": [
      "Table found, updating it\n",
      "Change detected\n",
      "Update: DRIFT\n",
      "Branch drift/2023-11-16-15-31-52/path-to-metric-name-13-csv doesn't exist, creating it...\n",
      "Checkout branch: drift/2023-11-16-15-31-52/path-to-metric-name-13-csv  from branch:main\n",
      "https://github.com/Samox/data-history/commit/57212034a51435db40e28558db19c7769c4542ad\n",
      "Pull request created: https://github.com/Samox/data-history/pull/184\n",
      "Assignee Sammy does not exist\n"
     ]
    }
   ],
   "source": [
    "# ## No new data. Adds a drift for Philipe, and remove all other drifts\n",
    "dataMonth3And2Day = {\"name\": [\"Alice\", \"Alixe\", \"Bob\", \"Charlie\", \"Didier\", \"Philipe\", \"Antoine\", \"Clement\", \"Cyril\", \"Victor\"], \"date\": [\"2022-12\",\"2022-12\",\"2023-01\",\"2023-01\",\"2023-02\",\"2023-02\",\"2023-02\",\"2023-03\",\"2023-03\",\"2023-03\"], \"age\": [25, 25, 30, 35, 40, 42, 40, 45, 45, 46]}\n",
    "\n",
    "snapshot_table(\n",
    "    github_connector=github_connector,\n",
    "    table_dataframe= formatDF(dataMonth3And2Day),\n",
    "    table_name= table_name,\n",
    "    drift_evaluator=AlertDriftEvaluator()\n",
    ")\n"
   ]
  }
 ],
 "metadata": {
  "kernelspec": {
   "display_name": "base",
   "language": "python",
   "name": "python3"
  },
  "language_info": {
   "codemirror_mode": {
    "name": "ipython",
    "version": 3
   },
   "file_extension": ".py",
   "mimetype": "text/x-python",
   "name": "python",
   "nbconvert_exporter": "python",
   "pygments_lexer": "ipython3",
   "version": "3.11.5"
  },
  "orig_nbformat": 4
 },
 "nbformat": 4,
 "nbformat_minor": 2
}
