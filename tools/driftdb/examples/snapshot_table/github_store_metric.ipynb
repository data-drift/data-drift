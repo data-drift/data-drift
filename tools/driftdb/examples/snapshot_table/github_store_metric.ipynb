{
 "cells": [
  {
   "cell_type": "code",
   "execution_count": 2,
   "metadata": {},
   "outputs": [
    {
     "name": "stdout",
     "output_type": "stream",
     "text": [
      "0.0.5-a3\n"
     ]
    }
   ],
   "source": [
    "from driftdb.connectors import GithubConnector\n",
    "from driftdb.version import version\n",
    "print(version)\n",
    "from dotenv import load_dotenv\n",
    "from github import Github\n",
    "import os\n",
    "\n",
    "load_dotenv(\"../../.env\")\n",
    "\n",
    "gh_token = os.getenv(\"GH_TOKEN\")\n",
    "if gh_token is None:\n",
    "    print(\"GitHub token not found! Create a .env file a the root with a GH_TOKEN variable.\")\n",
    "    exit(1)\n",
    "github_client = Github(gh_token, timeout=60)\n",
    "repo_name = os.getenv(\"REPO\") or \"gh_org/repo\"\n",
    "github_connector = GithubConnector(github_client=github_client, github_repository_name=repo_name, assignees=[\"Samox\"])\n"
   ]
  },
  {
   "cell_type": "code",
   "execution_count": 3,
   "metadata": {},
   "outputs": [
    {
     "name": "stderr",
     "output_type": "stream",
     "text": [
      "driftdb.connectors.github_connector - INFO - Table found. Updating it\n",
      "driftdb.connectors.github_connector - INFO - Change detected\n",
      "driftdb.connectors.github_connector - INFO - Update: DRIFT\n",
      "driftdb.connectors.github_connector - INFO - https://github.com/Samox/data-history/commit/9dedc6b3bde719fec29abeb538b5ef6c0a652b84\n"
     ]
    }
   ],
   "source": [
    "\n",
    "import pandas as pd\n",
    "\n",
    "\n",
    "def formatDF(dict):\n",
    "    df = pd.DataFrame(dict)\n",
    "    df['unique_key'] = df.apply(lambda row: row['date'] + '-' + row['name'], axis=1)\n",
    "    column_order = ['unique_key'] + [col for col in df.columns if col != 'unique_key']\n",
    "    df = df.reindex(columns=column_order)\n",
    "    return df\n",
    "\n",
    "\n",
    "table_name = \"path/to/metric_name_15\"\n",
    "\n",
    "\n",
    "# Store metric for the first time\n",
    "dataMonth1 = {\"name\": [\"Alice\", \"Bob\", \"Charlie\"], \"date\": [\"2022-12\",\"2023-01\",\"2023-01\"], \"age\": [25, 30, 35]}\n",
    "github_connector.snapshot_table(\n",
    "    table_dataframe= formatDF(dataMonth1),\n",
    "    table_name= table_name,\n",
    ")"
   ]
  },
  {
   "cell_type": "code",
   "execution_count": 4,
   "metadata": {},
   "outputs": [
    {
     "name": "stderr",
     "output_type": "stream",
     "text": [
      "driftdb.connectors.github_connector - INFO - Table found. Updating it\n",
      "driftdb.connectors.github_connector - INFO - Change detected\n",
      "driftdb.connectors.github_connector - INFO - Update: NEW DATA\n",
      "driftdb.connectors.github_connector - INFO - https://github.com/Samox/data-history/commit/9ef8ff500188cf80421c04a8cbddaa5107dcd45b\n"
     ]
    }
   ],
   "source": [
    "# ## Introduce new data for 2023-02\n",
    "dataMonth2 = {\"name\": [\"Alice\", \"Bob\", \"Charlie\", \"Didier\", \"Philipe\", \"Antoine\"], \"date\": [\"2022-12\",\"2023-01\",\"2023-01\",\"2023-02\",\"2023-02\",\"2023-02\"], \"age\": [25, 30, 35, 40, 40, 40]}\n",
    "\n",
    "github_connector.snapshot_table(\n",
    "    table_dataframe= formatDF(dataMonth2),\n",
    "    table_name= table_name,\n",
    ")"
   ]
  },
  {
   "cell_type": "code",
   "execution_count": 5,
   "metadata": {},
   "outputs": [
    {
     "name": "stderr",
     "output_type": "stream",
     "text": [
      "driftdb.connectors.github_connector - INFO - Table found. Updating it\n",
      "driftdb.connectors.github_connector - INFO - Change detected\n",
      "driftdb.connectors.github_connector - INFO - Update: NEW DATA\n",
      "driftdb.connectors.github_connector - INFO - https://github.com/Samox/data-history/commit/d1475721c2ac980b9db8e2b05069cabeada98a00\n",
      "driftdb.connectors.github_connector - INFO - Update: DRIFT\n",
      "driftdb.connectors.github_connector - INFO - https://github.com/Samox/data-history/commit/6cb35036f07dd921d86e137ed6851a5432a17bd6\n"
     ]
    }
   ],
   "source": [
    "# ## Introduce new data for 2023-03 and a drift on 2020-02\n",
    "dataMonth3 = {\"name\": [\"Alice\", \"Bob\", \"Charlie\", \"Didier\", \"Philipe\", \"Antoine\", \"Clement\", \"Cyril\", \"Victor\"], \"date\": [\"2022-12\",\"2023-01\",\"2023-01\",\"2023-02\",\"2023-02\",\"2023-02\",\"2023-03\",\"2023-03\",\"2023-03\"], \"age\": [25, 30, 36, 40, 42, 40, 45, 45, 46]}\n",
    "\n",
    "github_connector.snapshot_table(\n",
    "    table_dataframe= formatDF(dataMonth3),\n",
    "    table_name= table_name,\n",
    ")"
   ]
  },
  {
   "cell_type": "code",
   "execution_count": 6,
   "metadata": {},
   "outputs": [
    {
     "name": "stderr",
     "output_type": "stream",
     "text": [
      "driftdb.connectors.github_connector - INFO - Table found. Updating it\n",
      "driftdb.connectors.github_connector - INFO - Change detected\n",
      "driftdb.connectors.github_connector - INFO - Update: DRIFT\n",
      "driftdb.connectors.github_connector - INFO - https://github.com/Samox/data-history/commit/03b345b8f209b39d5016bf0e59fd2fb42c0970cf\n",
      "driftdb.connectors.github_connector - INFO - Issue created: https://github.com/Samox/data-history/issues/241\n"
     ]
    }
   ],
   "source": [
    "# ## No new data. Adds a drift for Philipe, and remove all other drifts\n",
    "from driftdb.drift_evaluator.drift_evaluators import AlertDriftEvaluator\n",
    "\n",
    "\n",
    "dataMonth3And1Day = {\"name\": [\"Alice\", \"Bob\", \"Charlie\", \"Didier\", \"Philipe\", \"Antoine\", \"Clement\", \"Cyril\", \"Victor\"], \"date\": [\"2022-12\",\"2023-01\",\"2023-01\",\"2023-02\",\"2023-02\",\"2023-02\",\"2023-03\",\"2023-03\",\"2023-03\"], \"age\": [25, 30, 35, 40, 42, 40, 45, 45, 46]}\n",
    "github_connector.snapshot_table(\n",
    "    table_dataframe= formatDF(dataMonth3And1Day),\n",
    "    table_name= table_name,\n",
    "    drift_evaluator=AlertDriftEvaluator()\n",
    ")"
   ]
  },
  {
   "cell_type": "code",
   "execution_count": 7,
   "metadata": {},
   "outputs": [
    {
     "name": "stderr",
     "output_type": "stream",
     "text": [
      "driftdb.connectors.github_connector - INFO - Table found. Updating it\n",
      "driftdb.connectors.github_connector - INFO - Change detected\n",
      "driftdb.connectors.github_connector - INFO - Update: DRIFT\n",
      "driftdb.connectors.github_connector - INFO - https://github.com/Samox/data-history/commit/a38b0fe1aa646d6907b6154bd91cad0b4c050e26\n",
      "driftdb.connectors.github_connector - INFO - Issue created: https://github.com/Samox/data-history/issues/242\n"
     ]
    }
   ],
   "source": [
    "# ## No new data. Adds a drift for Philipe, and remove all other drifts\n",
    "dataMonth3And2Day = {\"name\": [\"Alice\", \"Alixe\", \"Bob\", \"Charlie\", \"Didier\", \"Philipe\", \"Antoine\", \"Clement\", \"Cyril\", \"Victor\"], \"date\": [\"2022-12\",\"2022-12\",\"2023-01\",\"2023-01\",\"2023-02\",\"2023-02\",\"2023-02\",\"2023-03\",\"2023-03\",\"2023-03\"], \"age\": [25, 25, 30, 35, 40, 42, 40, 45, 45, 46]}\n",
    "\n",
    "github_connector.snapshot_table(\n",
    "    table_dataframe= formatDF(dataMonth3And2Day),\n",
    "    table_name= table_name,\n",
    "    drift_evaluator=AlertDriftEvaluator()\n",
    ")\n"
   ]
  }
 ],
 "metadata": {
  "kernelspec": {
   "display_name": "base",
   "language": "python",
   "name": "python3"
  },
  "language_info": {
   "codemirror_mode": {
    "name": "ipython",
    "version": 3
   },
   "file_extension": ".py",
   "mimetype": "text/x-python",
   "name": "python",
   "nbconvert_exporter": "python",
   "pygments_lexer": "ipython3",
   "version": "3.11.5"
  },
  "orig_nbformat": 4
 },
 "nbformat": 4,
 "nbformat_minor": 2
}
