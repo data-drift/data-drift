{
 "cells": [
  {
   "cell_type": "code",
   "execution_count": 2,
   "metadata": {},
   "outputs": [
    {
     "name": "stdout",
     "output_type": "stream",
     "text": [
      "0.0.4-a1\n"
     ]
    }
   ],
   "source": [
    "from driftdb.connectors import GithubConnector\n",
    "from driftdb.version import version\n",
    "print(version)\n",
    "from dotenv import load_dotenv\n",
    "from github import Github\n",
    "import os\n",
    "\n",
    "load_dotenv(\"../../.env\")\n",
    "\n",
    "gh_token = os.getenv(\"GH_TOKEN\")\n",
    "if gh_token is None:\n",
    "    print(\"GitHub token not found! Create a .env file a the root with a GH_TOKEN variable.\")\n",
    "    exit(1)\n",
    "github_client = Github(gh_token, timeout=60)\n",
    "repo_name = os.getenv(\"REPO\") or \"gh_org/repo\"\n",
    "github_connector = GithubConnector(github_client=github_client, github_repository_name=repo_name, assignees=[\"Sammy\"])\n"
   ]
  },
  {
   "cell_type": "code",
   "execution_count": 3,
   "metadata": {},
   "outputs": [
    {
     "name": "stderr",
     "output_type": "stream",
     "text": [
      "driftdb.connectors.github_connector - INFO - Table found. Updating it\n",
      "driftdb.connectors.github_connector - INFO - Change detected\n",
      "driftdb.connectors.github_connector - INFO - Update: DRIFT\n",
      "driftdb.connectors.github_connector - INFO - https://github.com/Samox/data-history/commit/82534f2269da759d1fa882274768ba56eb3746a4\n"
     ]
    }
   ],
   "source": [
    "\n",
    "import pandas as pd\n",
    "\n",
    "\n",
    "def formatDF(dict):\n",
    "    df = pd.DataFrame(dict)\n",
    "    df['unique_key'] = df.apply(lambda row: row['date'] + '-' + row['name'], axis=1)\n",
    "    column_order = ['unique_key'] + [col for col in df.columns if col != 'unique_key']\n",
    "    df = df.reindex(columns=column_order)\n",
    "    return df\n",
    "\n",
    "\n",
    "table_name = \"path/to/metric_name_15.csv\"\n",
    "\n",
    "\n",
    "# Store metric for the first time\n",
    "dataMonth1 = {\"name\": [\"Alice\", \"Bob\", \"Charlie\"], \"date\": [\"2022-12\",\"2023-01\",\"2023-01\"], \"age\": [25, 30, 35]}\n",
    "github_connector.snapshot_table(\n",
    "    table_dataframe= formatDF(dataMonth1),\n",
    "    table_name= table_name,\n",
    ")"
   ]
  },
  {
   "cell_type": "code",
   "execution_count": 4,
   "metadata": {},
   "outputs": [
    {
     "name": "stderr",
     "output_type": "stream",
     "text": [
      "driftdb.connectors.github_connector - INFO - Table found. Updating it\n",
      "driftdb.connectors.github_connector - INFO - Change detected\n",
      "driftdb.connectors.github_connector - INFO - Update: NEW DATA\n",
      "driftdb.connectors.github_connector - INFO - https://github.com/Samox/data-history/commit/e7ed4b57cd600bf51843dc2379e6aecb6f136e6a\n"
     ]
    }
   ],
   "source": [
    "# ## Introduce new data for 2023-02\n",
    "dataMonth2 = {\"name\": [\"Alice\", \"Bob\", \"Charlie\", \"Didier\", \"Philipe\", \"Antoine\"], \"date\": [\"2022-12\",\"2023-01\",\"2023-01\",\"2023-02\",\"2023-02\",\"2023-02\"], \"age\": [25, 30, 35, 40, 40, 40]}\n",
    "\n",
    "github_connector.snapshot_table(\n",
    "    table_dataframe= formatDF(dataMonth2),\n",
    "    table_name= table_name,\n",
    ")"
   ]
  },
  {
   "cell_type": "code",
   "execution_count": 5,
   "metadata": {},
   "outputs": [
    {
     "name": "stderr",
     "output_type": "stream",
     "text": [
      "driftdb.connectors.github_connector - INFO - Table found. Updating it\n",
      "driftdb.connectors.github_connector - INFO - Change detected\n",
      "driftdb.connectors.github_connector - INFO - Update: NEW DATA\n",
      "driftdb.connectors.github_connector - INFO - https://github.com/Samox/data-history/commit/3c9b8d6408f24d6447e47fae008f2ebdf845b2da\n",
      "driftdb.connectors.github_connector - INFO - Update: DRIFT\n",
      "driftdb.connectors.github_connector - INFO - https://github.com/Samox/data-history/commit/f27eaf99815997e44f78c14408e428c15703b923\n"
     ]
    }
   ],
   "source": [
    "# ## Introduce new data for 2023-03 and a drift on 2020-02\n",
    "dataMonth3 = {\"name\": [\"Alice\", \"Bob\", \"Charlie\", \"Didier\", \"Philipe\", \"Antoine\", \"Clement\", \"Cyril\", \"Victor\"], \"date\": [\"2022-12\",\"2023-01\",\"2023-01\",\"2023-02\",\"2023-02\",\"2023-02\",\"2023-03\",\"2023-03\",\"2023-03\"], \"age\": [25, 30, 36, 40, 42, 40, 45, 45, 46]}\n",
    "\n",
    "github_connector.snapshot_table(\n",
    "    table_dataframe= formatDF(dataMonth3),\n",
    "    table_name= table_name,\n",
    ")"
   ]
  },
  {
   "cell_type": "code",
   "execution_count": 6,
   "metadata": {},
   "outputs": [
    {
     "name": "stderr",
     "output_type": "stream",
     "text": [
      "driftdb.connectors.github_connector - INFO - Table found. Updating it\n",
      "driftdb.connectors.github_connector - INFO - Change detected\n",
      "driftdb.connectors.github_connector - INFO - Update: DRIFT\n",
      "driftdb.connectors.github_connector - INFO - Branch drift/2023-11-21-11-59-14/path-to-metric-name-15-csv doesn't exist. Creating it...\n",
      "driftdb.connectors.github_connector - INFO - Checkout branch: drift/2023-11-21-11-59-14/path-to-metric-name-15-csv from branch: main\n",
      "driftdb.connectors.github_connector - INFO - https://github.com/Samox/data-history/commit/d80f2cda008f0c6ae1986a57abe016b764def9a9\n",
      "driftdb.connectors.github_connector - INFO - Pull request created: https://github.com/Samox/data-history/pull/217\n",
      "driftdb.connectors.github_connector - INFO - Assignee Sammy does not exist\n"
     ]
    }
   ],
   "source": [
    "# ## No new data. Adds a drift for Philipe, and remove all other drifts\n",
    "from driftdb.drift_evaluator.drift_evaluators import AlertDriftEvaluator\n",
    "\n",
    "\n",
    "dataMonth3And1Day = {\"name\": [\"Alice\", \"Bob\", \"Charlie\", \"Didier\", \"Philipe\", \"Antoine\", \"Clement\", \"Cyril\", \"Victor\"], \"date\": [\"2022-12\",\"2023-01\",\"2023-01\",\"2023-02\",\"2023-02\",\"2023-02\",\"2023-03\",\"2023-03\",\"2023-03\"], \"age\": [25, 30, 35, 40, 42, 40, 45, 45, 46]}\n",
    "github_connector.snapshot_table(\n",
    "    table_dataframe= formatDF(dataMonth3And1Day),\n",
    "    table_name= table_name,\n",
    "    drift_evaluator=AlertDriftEvaluator()\n",
    ")"
   ]
  },
  {
   "cell_type": "code",
   "execution_count": 7,
   "metadata": {},
   "outputs": [
    {
     "name": "stderr",
     "output_type": "stream",
     "text": [
      "driftdb.connectors.github_connector - INFO - Table found. Updating it\n",
      "driftdb.connectors.github_connector - INFO - Change detected\n",
      "driftdb.connectors.github_connector - INFO - Update: DRIFT\n",
      "driftdb.connectors.github_connector - INFO - Branch drift/2023-11-21-11-59-27/path-to-metric-name-15-csv doesn't exist. Creating it...\n",
      "driftdb.connectors.github_connector - INFO - Checkout branch: drift/2023-11-21-11-59-27/path-to-metric-name-15-csv from branch: main\n",
      "driftdb.connectors.github_connector - INFO - https://github.com/Samox/data-history/commit/0412c0ae5f5c489e4827fdfb4910ff5955ddea67\n",
      "driftdb.connectors.github_connector - INFO - Pull request created: https://github.com/Samox/data-history/pull/218\n",
      "driftdb.connectors.github_connector - INFO - Assignee Sammy does not exist\n"
     ]
    }
   ],
   "source": [
    "# ## No new data. Adds a drift for Philipe, and remove all other drifts\n",
    "dataMonth3And2Day = {\"name\": [\"Alice\", \"Alixe\", \"Bob\", \"Charlie\", \"Didier\", \"Philipe\", \"Antoine\", \"Clement\", \"Cyril\", \"Victor\"], \"date\": [\"2022-12\",\"2022-12\",\"2023-01\",\"2023-01\",\"2023-02\",\"2023-02\",\"2023-02\",\"2023-03\",\"2023-03\",\"2023-03\"], \"age\": [25, 25, 30, 35, 40, 42, 40, 45, 45, 46]}\n",
    "\n",
    "github_connector.snapshot_table(\n",
    "    table_dataframe= formatDF(dataMonth3And2Day),\n",
    "    table_name= table_name,\n",
    "    drift_evaluator=AlertDriftEvaluator()\n",
    ")\n"
   ]
  }
 ],
 "metadata": {
  "kernelspec": {
   "display_name": "base",
   "language": "python",
   "name": "python3"
  },
  "language_info": {
   "codemirror_mode": {
    "name": "ipython",
    "version": 3
   },
   "file_extension": ".py",
   "mimetype": "text/x-python",
   "name": "python",
   "nbconvert_exporter": "python",
   "pygments_lexer": "ipython3",
   "version": "3.11.5"
  },
  "orig_nbformat": 4
 },
 "nbformat": 4,
 "nbformat_minor": 2
}
