{
 "cells": [
  {
   "cell_type": "code",
   "execution_count": 1,
   "metadata": {},
   "outputs": [],
   "source": [
    "import sys\n",
    "from driftdb.connectors.github_connector import GithubConnector\n",
    "from dotenv import load_dotenv\n",
    "from github import Github\n",
    "import os\n",
    "\n",
    "load_dotenv(\"../.env\")\n",
    "\n",
    "gh_token = os.getenv(\"GH_TOKEN\")\n",
    "if gh_token is None:\n",
    "    print(\"GitHub token not found! Create a .env file a the root with a GH_TOKEN variable.\")\n",
    "    exit(1)\n",
    "github_client = Github(gh_token, timeout=60)\n",
    "repo_name = os.getenv(\"REPO\") or \"gh_org/repo\"\n",
    "github_connector = GithubConnector(github_client=github_client, github_repository_name=repo_name, assignees=[\"Sammy\"])\n"
   ]
  },
  {
   "cell_type": "code",
   "execution_count": 2,
   "metadata": {},
   "outputs": [
    {
     "name": "stderr",
     "output_type": "stream",
     "text": [
      "driftdb.connectors.github_connector - INFO - Table found. Updating it\n",
      "driftdb.connectors.github_connector - INFO - Change detected\n",
      "driftdb.connectors.github_connector - INFO - Update: DRIFT\n",
      "driftdb.connectors.github_connector - INFO - https://github.com/Samox/data-history/commit/31b800d2c8dd7ddcdfe6e40e968825a32224c2c4\n"
     ]
    }
   ],
   "source": [
    "import sys\n",
    "sys.path.append('..')\n",
    "import importlib\n",
    "import driftdb.drift_evaluator.drift_evaluators\n",
    "importlib.reload(driftdb.drift_evaluator.drift_evaluators)\n",
    "\n",
    "import driftdb.connectors.github_connector\n",
    "importlib.reload(driftdb.connectors.github_connector)\n",
    "from driftdb.connectors.workflow import snapshot_table\n",
    "import pandas as pd\n",
    "\n",
    "snapshot_table(connector=github_connector, table_name=\"croute\")\n",
    "\n",
    "## Test with file already existing and splitting new data and historical data\n",
    "\n",
    "def formatDF(dict):\n",
    "    df = pd.DataFrame(dict)\n",
    "    df['unique_key'] = df.apply(lambda row: row['date'] + '-' + row['name'], axis=1)\n",
    "    column_order = ['unique_key'] + [col for col in df.columns if col != 'unique_key']\n",
    "    df = df.reindex(columns=column_order)\n",
    "    return df\n",
    "\n",
    "\n",
    "table_name = \"path/to/metric_name_15.csv\"\n",
    "\n",
    "\n",
    "# Store metric for the first time\n",
    "dataMonth1 = {\"name\": [\"Alice\", \"Bob\", \"Charlie\"], \"date\": [\"2022-12\",\"2023-01\",\"2023-01\"], \"age\": [25, 30, 35]}\n",
    "github_connector.snapshot_table(\n",
    "    table_dataframe= formatDF(dataMonth1),\n",
    "    table_name= table_name,\n",
    "    dr\n",
    "\n",
    ")"
   ]
  },
  {
   "cell_type": "code",
   "execution_count": null,
   "metadata": {},
   "outputs": [
    {
     "name": "stderr",
     "output_type": "stream",
     "text": [
      "driftdb.connectors.workflow - INFO - Table found. Updating it\n",
      "driftdb.connectors.workflow - INFO - Change detected\n",
      "driftdb.connectors.github_connector - INFO - Update: NEW DATA\n",
      "driftdb.connectors.github_connector - INFO - Update: NEW DATA\n",
      "driftdb.connectors.github_connector - INFO - https://github.com/Samox/data-history/commit/a64820edac1e30625954f6896e0708f8d8ada350\n",
      "driftdb.connectors.github_connector - INFO - https://github.com/Samox/data-history/commit/a64820edac1e30625954f6896e0708f8d8ada350\n"
     ]
    }
   ],
   "source": [
    "# ## Introduce new data for 2023-02\n",
    "dataMonth2 = {\"name\": [\"Alice\", \"Bob\", \"Charlie\", \"Didier\", \"Philipe\", \"Antoine\"], \"date\": [\"2022-12\",\"2023-01\",\"2023-01\",\"2023-02\",\"2023-02\",\"2023-02\"], \"age\": [25, 30, 35, 40, 40, 40]}\n",
    "\n",
    "github_connector.snapshot_table(\n",
    "    connector=github_connector,\n",
    "    table_dataframe= formatDF(dataMonth2),\n",
    "    table_name= table_name,\n",
    ")"
   ]
  },
  {
   "cell_type": "code",
   "execution_count": null,
   "metadata": {},
   "outputs": [
    {
     "name": "stderr",
     "output_type": "stream",
     "text": [
      "driftdb.connectors.workflow - INFO - Table found. Updating it\n",
      "driftdb.connectors.workflow - INFO - Change detected\n",
      "driftdb.connectors.github_connector - INFO - Update: NEW DATA\n",
      "driftdb.connectors.github_connector - INFO - Update: NEW DATA\n",
      "driftdb.connectors.github_connector - INFO - https://github.com/Samox/data-history/commit/9aebfe5ff13730a3ed331aa73dadbdd3649ad28f\n",
      "driftdb.connectors.github_connector - INFO - https://github.com/Samox/data-history/commit/9aebfe5ff13730a3ed331aa73dadbdd3649ad28f\n",
      "driftdb.connectors.github_connector - INFO - Update: DRIFT\n",
      "driftdb.connectors.github_connector - INFO - Update: DRIFT\n",
      "driftdb.connectors.github_connector - INFO - https://github.com/Samox/data-history/commit/13c2ab1d1e4fb86a0d9f339c5ca9324b8696e4d0\n",
      "driftdb.connectors.github_connector - INFO - https://github.com/Samox/data-history/commit/13c2ab1d1e4fb86a0d9f339c5ca9324b8696e4d0\n"
     ]
    }
   ],
   "source": [
    "# ## Introduce new data for 2023-03 and a drift on 2020-02\n",
    "dataMonth3 = {\"name\": [\"Alice\", \"Bob\", \"Charlie\", \"Didier\", \"Philipe\", \"Antoine\", \"Clement\", \"Cyril\", \"Victor\"], \"date\": [\"2022-12\",\"2023-01\",\"2023-01\",\"2023-02\",\"2023-02\",\"2023-02\",\"2023-03\",\"2023-03\",\"2023-03\"], \"age\": [25, 30, 36, 40, 42, 40, 45, 45, 46]}\n",
    "\n",
    "github_connector.snapshot_table(\n",
    "    connector=github_connector,\n",
    "    table_dataframe= formatDF(dataMonth3),\n",
    "    table_name= table_name,\n",
    ")"
   ]
  },
  {
   "cell_type": "code",
   "execution_count": null,
   "metadata": {},
   "outputs": [
    {
     "name": "stderr",
     "output_type": "stream",
     "text": [
      "driftdb.connectors.workflow - INFO - Table found. Updating it\n",
      "driftdb.connectors.workflow - INFO - Change detected\n",
      "driftdb.connectors.github_connector - INFO - Update: DRIFT\n",
      "driftdb.connectors.github_connector - INFO - Update: DRIFT\n",
      "driftdb.connectors.github_connector - INFO - Branch drift/2023-11-20-12-02-31/path-to-metric-name-15-csv doesn't exist. Creating it...\n",
      "driftdb.connectors.github_connector - INFO - Branch drift/2023-11-20-12-02-31/path-to-metric-name-15-csv doesn't exist. Creating it...\n",
      "driftdb.connectors.github_connector - INFO - Checkout branch: drift/2023-11-20-12-02-31/path-to-metric-name-15-csv from branch: main\n",
      "driftdb.connectors.github_connector - INFO - Checkout branch: drift/2023-11-20-12-02-31/path-to-metric-name-15-csv from branch: main\n",
      "driftdb.connectors.github_connector - INFO - https://github.com/Samox/data-history/commit/ff0cec0073d6b8a25f4cf41985d05788fb2128e1\n",
      "driftdb.connectors.github_connector - INFO - https://github.com/Samox/data-history/commit/ff0cec0073d6b8a25f4cf41985d05788fb2128e1\n",
      "driftdb.connectors.github_connector - INFO - Pull request created: https://github.com/Samox/data-history/pull/203\n",
      "driftdb.connectors.github_connector - INFO - Pull request created: https://github.com/Samox/data-history/pull/203\n",
      "driftdb.connectors.github_connector - INFO - Assignee Sammy does not exist\n",
      "driftdb.connectors.github_connector - INFO - Assignee Sammy does not exist\n"
     ]
    }
   ],
   "source": [
    "# ## No new data. Adds a drift for Philipe, and remove all other drifts\n",
    "from driftdb.drift_evaluator.drift_evaluators import AlertDriftEvaluator\n",
    "\n",
    "\n",
    "dataMonth3And1Day = {\"name\": [\"Alice\", \"Bob\", \"Charlie\", \"Didier\", \"Philipe\", \"Antoine\", \"Clement\", \"Cyril\", \"Victor\"], \"date\": [\"2022-12\",\"2023-01\",\"2023-01\",\"2023-02\",\"2023-02\",\"2023-02\",\"2023-03\",\"2023-03\",\"2023-03\"], \"age\": [25, 30, 35, 40, 42, 40, 45, 45, 46]}\n",
    "github_connector.snapshot_table(\n",
    "    connector=github_connector,\n",
    "    table_dataframe= formatDF(dataMonth3And1Day),\n",
    "    table_name= table_name,\n",
    "    drift_evaluator=AlertDriftEvaluator()\n",
    ")"
   ]
  },
  {
   "cell_type": "code",
   "execution_count": null,
   "metadata": {},
   "outputs": [
    {
     "name": "stderr",
     "output_type": "stream",
     "text": [
      "driftdb.connectors.workflow - INFO - Table found. Updating it\n",
      "driftdb.connectors.workflow - INFO - Change detected\n",
      "driftdb.connectors.github_connector - INFO - Update: DRIFT\n",
      "driftdb.connectors.github_connector - INFO - Update: DRIFT\n",
      "driftdb.connectors.github_connector - INFO - Branch drift/2023-11-20-12-02-39/path-to-metric-name-15-csv doesn't exist. Creating it...\n",
      "driftdb.connectors.github_connector - INFO - Branch drift/2023-11-20-12-02-39/path-to-metric-name-15-csv doesn't exist. Creating it...\n",
      "driftdb.connectors.github_connector - INFO - Checkout branch: drift/2023-11-20-12-02-39/path-to-metric-name-15-csv from branch: main\n",
      "driftdb.connectors.github_connector - INFO - Checkout branch: drift/2023-11-20-12-02-39/path-to-metric-name-15-csv from branch: main\n",
      "driftdb.connectors.github_connector - INFO - https://github.com/Samox/data-history/commit/5e4004dbd8286a1e90b32e86d18b327248f73669\n",
      "driftdb.connectors.github_connector - INFO - https://github.com/Samox/data-history/commit/5e4004dbd8286a1e90b32e86d18b327248f73669\n",
      "driftdb.connectors.github_connector - INFO - Pull request created: https://github.com/Samox/data-history/pull/204\n",
      "driftdb.connectors.github_connector - INFO - Pull request created: https://github.com/Samox/data-history/pull/204\n",
      "driftdb.connectors.github_connector - INFO - Assignee Sammy does not exist\n",
      "driftdb.connectors.github_connector - INFO - Assignee Sammy does not exist\n"
     ]
    }
   ],
   "source": [
    "# ## No new data. Adds a drift for Philipe, and remove all other drifts\n",
    "dataMonth3And2Day = {\"name\": [\"Alice\", \"Alixe\", \"Bob\", \"Charlie\", \"Didier\", \"Philipe\", \"Antoine\", \"Clement\", \"Cyril\", \"Victor\"], \"date\": [\"2022-12\",\"2022-12\",\"2023-01\",\"2023-01\",\"2023-02\",\"2023-02\",\"2023-02\",\"2023-03\",\"2023-03\",\"2023-03\"], \"age\": [25, 25, 30, 35, 40, 42, 40, 45, 45, 46]}\n",
    "\n",
    "github_connector.snapshot_table(\n",
    "    connector=github_connector,\n",
    "    table_dataframe= formatDF(dataMonth3And2Day),\n",
    "    table_name= table_name,\n",
    "    drift_evaluator=AlertDriftEvaluator()\n",
    ")\n"
   ]
  }
 ],
 "metadata": {
  "kernelspec": {
   "display_name": "base",
   "language": "python",
   "name": "python3"
  },
  "language_info": {
   "codemirror_mode": {
    "name": "ipython",
    "version": 3
   },
   "file_extension": ".py",
   "mimetype": "text/x-python",
   "name": "python",
   "nbconvert_exporter": "python",
   "pygments_lexer": "ipython3",
   "version": "3.11.5"
  },
  "orig_nbformat": 4
 },
 "nbformat": 4,
 "nbformat_minor": 2
}
