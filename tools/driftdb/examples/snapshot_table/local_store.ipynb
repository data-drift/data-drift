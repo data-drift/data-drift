{
  "cells": [
    {
      "cell_type": "code",
      "execution_count": 1,
      "metadata": {},
      "outputs": [],
      "source": [
        "import sys\n",
        "\n",
        "from driftdb.connectors import LocalConnector\n",
        "sys.path.append('..')\n",
        "import importlib\n",
        "\n",
        "sys.path.append('.')\n",
        "from .dataset import generate_dataframe, insert_drift\n",
        "\n",
        "dataframe = generate_dataframe(10000)\n",
        "local_connector = LocalConnector()\n",
        "metric_name = \"mrr_light_1\"\n",
        "\n"
      ]
    },
    {
      "cell_type": "code",
      "execution_count": 2,
      "metadata": {},
      "outputs": [
        {
          "name": "stderr",
          "output_type": "stream",
          "text": [
            "driftdb.connectors.abstract_connector - INFO - Table found. Updating it\n",
            "driftdb.connectors.abstract_connector - INFO - Change detected\n",
            "driftdb.connectors.local_connector - INFO - Update: MIGRATION Column Deleted\n",
            "driftdb.connectors.local_connector - INFO - Update: NEW DATA\n",
            "driftdb.connectors.local_connector - INFO - Update: DRIFT\n"
          ]
        }
      ],
      "source": [
        "import driftdb.connectors.local_connector\n",
        "importlib.reload(driftdb.connectors.local_connector)\n",
        "local_connector.snapshot_table(table_name=metric_name,table_dataframe=dataframe)\n"
      ]
    },
    {
      "cell_type": "code",
      "execution_count": 3,
      "metadata": {},
      "outputs": [],
      "source": [
        "dataframe_with_drift = insert_drift(dataframe, 10)"
      ]
    },
    {
      "cell_type": "code",
      "execution_count": 4,
      "metadata": {},
      "outputs": [
        {
          "name": "stderr",
          "output_type": "stream",
          "text": [
            "driftdb.connectors.abstract_connector - INFO - Table found. Updating it\n",
            "driftdb.connectors.abstract_connector - INFO - Change detected\n",
            "driftdb.connectors.local_connector - INFO - Update: DRIFT\n"
          ]
        }
      ],
      "source": [
        "local_connector.snapshot_table(table_name=metric_name,table_dataframe=dataframe_with_drift)\n"
      ]
    },
    {
      "cell_type": "code",
      "execution_count": 5,
      "metadata": {},
      "outputs": [
        {
          "name": "stderr",
          "output_type": "stream",
          "text": [
            "driftdb.connectors.abstract_connector - INFO - Table found. Updating it\n",
            "driftdb.connectors.abstract_connector - INFO - Change detected\n",
            "driftdb.connectors.local_connector - INFO - Update: DRIFT\n",
            "driftdb.connectors.local_connector - INFO - Update: MIGRATION Column Added\n"
          ]
        },
        {
          "name": "stdout",
          "output_type": "stream",
          "text": [
            "0       13.00\n",
            "1        4.93\n",
            "2        4.64\n",
            "3        4.08\n",
            "4        7.68\n",
            "        ...  \n",
            "9995     2.39\n",
            "9996     5.61\n",
            "9997    10.67\n",
            "9998     9.38\n",
            "9999    10.41\n",
            "Name: metric_value3, Length: 10000, dtype: float64\n"
          ]
        }
      ],
      "source": [
        "dataframe_with_drift['metric_value2'] = dataframe_with_drift['metric_value'] + 1\n",
        "dataframe_with_drift.loc[0, \"metric_value\"] = 12\n",
        "dataframe_with_drift['metric_value3'] = (dataframe_with_drift['metric_value'] + 1).round(2)\n",
        "dataframe_with_drift.drop(columns=['metric_value2'], inplace=True)\n",
        "print(dataframe_with_drift['metric_value3'])\n",
        "\n",
        "local_connector.snapshot_table(table_name=metric_name,table_dataframe=dataframe_with_drift)\n",
        "\n"
      ]
    }
  ],
  "metadata": {
    "kernelspec": {
      "display_name": "base",
      "language": "python",
      "name": "python3"
    },
    "language_info": {
      "codemirror_mode": {
        "name": "ipython",
        "version": 3
      },
      "file_extension": ".py",
      "mimetype": "text/x-python",
      "name": "python",
      "nbconvert_exporter": "python",
      "pygments_lexer": "ipython3",
      "version": "3.11.5"
    }
  },
  "nbformat": 4,
  "nbformat_minor": 2
}
