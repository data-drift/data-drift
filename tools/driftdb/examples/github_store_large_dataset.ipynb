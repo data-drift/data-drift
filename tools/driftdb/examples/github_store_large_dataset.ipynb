{
  "cells": [
    {
      "cell_type": "code",
      "execution_count": 1,
      "metadata": {},
      "outputs": [],
      "source": [
        "import sys\n",
        "from driftdb.connectors.github_connector import GithubConnector\n",
        "from dotenv import load_dotenv\n",
        "from github import Github\n",
        "import os\n",
        "\n",
        "load_dotenv(\"../.env\")\n",
        "\n",
        "gh_token = os.getenv(\"GH_TOKEN\")\n",
        "if gh_token is None:\n",
        "    print(\"GitHub token not found! Create a .env file a the root with a GH_TOKEN variable.\")\n",
        "    exit(1)\n",
        "github_client = Github(gh_token, timeout=60)\n",
        "repo_name = os.getenv(\"REPO\") or \"gh_org/repo\"\n",
        "github_connector = GithubConnector(github_client=github_client, github_repository_name=repo_name, assignees=[\"Sammy\"])\n"
      ]
    },
    {
      "cell_type": "code",
      "execution_count": 2,
      "metadata": {},
      "outputs": [
        {
          "name": "stdout",
          "output_type": "stream",
          "text": [
            "                                   unique_key        date  metric_value  \\\n",
            "0        5b3066df-0739-4b4d-a339-fad9fa1df8b1  2023-10-05          3.51   \n",
            "1        51bed19b-124f-445e-b565-814c1a3e51ba  2023-07-13          3.45   \n",
            "2        de05c386-fedd-48aa-95aa-abbc5d584721  2022-12-13          6.57   \n",
            "3        f2a822db-4575-4899-a228-1e776ddb29a2  2022-12-19          6.40   \n",
            "4        81e08088-8567-41d7-a064-65027851ea47  2022-11-26          3.20   \n",
            "...                                       ...         ...           ...   \n",
            "5999995  48c27ae8-648c-4c90-bcc8-f7b45cf3b97e  2023-05-21          8.04   \n",
            "5999996  5e591138-76a6-4158-8547-9de2f2488d27  2023-02-24          0.67   \n",
            "5999997  a08e1e46-d0e3-41f6-b794-aa3455304fdc  2023-02-24          6.56   \n",
            "5999998  2e60d5e1-2cd9-43f7-8b13-0cb4a98b6ae4  2023-01-01          4.82   \n",
            "5999999  e27ce9f9-13f7-4915-b9b0-840fee0187d1  2022-11-19          3.84   \n",
            "\n",
            "        country_code    category  \n",
            "0                 UG  Category B  \n",
            "1                 PL  Category B  \n",
            "2                 AZ  Category A  \n",
            "3                 LK  Category A  \n",
            "4                 MX  Category A  \n",
            "...              ...         ...  \n",
            "5999995           KG  Category C  \n",
            "5999996           SZ  Category A  \n",
            "5999997           BW  Category A  \n",
            "5999998           TT  Category A  \n",
            "5999999           NO  Category B  \n",
            "\n",
            "[6000000 rows x 5 columns]\n"
          ]
        }
      ],
      "source": [
        "import pandas as pd\n",
        "from faker import Faker\n",
        "import random\n",
        "\n",
        "fake = Faker()\n",
        "\n",
        "num_rows = 6000000\n",
        "\n",
        "ids = [fake.uuid4() for _ in range(num_rows)]\n",
        "dates = [fake.date_between(start_date='-1y', end_date='-1m').strftime('%Y-%m-%d') for _ in range(num_rows)]\n",
        "\n",
        "metric_values = [round(random.uniform(0, 10),2) for _ in range(num_rows)]\n",
        "country_codes = [fake.country_code() for _ in range(num_rows)]\n",
        "categories = [random.choice(['Category A', 'Category B', 'Category C']) for _ in range(num_rows)]\n",
        "\n",
        "ultra_large_df = pd.DataFrame({'unique_key': ids, 'date': dates, 'metric_value': metric_values, 'country_code': country_codes, 'category': categories})\n",
        "\n",
        "print(ultra_large_df)\n",
        "\n"
      ]
    },
    {
      "cell_type": "code",
      "execution_count": 9,
      "metadata": {},
      "outputs": [
        {
          "name": "stdout",
          "output_type": "stream",
          "text": [
            "Partitionning metric...\n",
            "Storing metric for Month: 2022-09-30 00:00:00\n",
            "Storing metric...\n"
          ]
        },
        {
          "name": "stderr",
          "output_type": "stream",
          "text": [
            "/Users/sammyteillet/Documents/Projects/DataDrift/data-drift/tools/driftdb/examples/../driftdb/dataset_helpers.py:27: SettingWithCopyWarning: \n",
            "A value is trying to be set on a copy of a slice from a DataFrame.\n",
            "Try using .loc[row_indexer,col_indexer] = value instead\n",
            "\n",
            "See the caveats in the documentation: https://pandas.pydata.org/pandas-docs/stable/user_guide/indexing.html#returning-a-view-versus-a-copy\n",
            "  dataset[column] = formatted_dates\n"
          ]
        },
        {
          "name": "stdout",
          "output_type": "stream",
          "text": [
            "Metric not found, creating it on branch: main\n",
            "Commit: New data: path/to/ultra_large_metric_20/2022-09.csv\n",
            "Metric stored\n",
            "Storing metric for Month: 2022-10-31 00:00:00\n",
            "Storing metric...\n"
          ]
        },
        {
          "name": "stderr",
          "output_type": "stream",
          "text": [
            "/Users/sammyteillet/Documents/Projects/DataDrift/data-drift/tools/driftdb/examples/../driftdb/dataset_helpers.py:27: SettingWithCopyWarning: \n",
            "A value is trying to be set on a copy of a slice from a DataFrame.\n",
            "Try using .loc[row_indexer,col_indexer] = value instead\n",
            "\n",
            "See the caveats in the documentation: https://pandas.pydata.org/pandas-docs/stable/user_guide/indexing.html#returning-a-view-versus-a-copy\n",
            "  dataset[column] = formatted_dates\n"
          ]
        },
        {
          "name": "stdout",
          "output_type": "stream",
          "text": [
            "Metric not found, creating it on branch: main\n",
            "Commit: New data: path/to/ultra_large_metric_20/2022-10.csv\n",
            "Metric stored\n",
            "Storing metric for Month: 2022-11-30 00:00:00\n",
            "Storing metric...\n"
          ]
        },
        {
          "name": "stderr",
          "output_type": "stream",
          "text": [
            "/Users/sammyteillet/Documents/Projects/DataDrift/data-drift/tools/driftdb/examples/../driftdb/dataset_helpers.py:27: SettingWithCopyWarning: \n",
            "A value is trying to be set on a copy of a slice from a DataFrame.\n",
            "Try using .loc[row_indexer,col_indexer] = value instead\n",
            "\n",
            "See the caveats in the documentation: https://pandas.pydata.org/pandas-docs/stable/user_guide/indexing.html#returning-a-view-versus-a-copy\n",
            "  dataset[column] = formatted_dates\n"
          ]
        },
        {
          "name": "stdout",
          "output_type": "stream",
          "text": [
            "Metric not found, creating it on branch: main\n",
            "Commit: New data: path/to/ultra_large_metric_20/2022-11.csv\n",
            "Metric stored\n",
            "Storing metric for Month: 2022-12-31 00:00:00\n",
            "Storing metric...\n"
          ]
        },
        {
          "name": "stderr",
          "output_type": "stream",
          "text": [
            "/Users/sammyteillet/Documents/Projects/DataDrift/data-drift/tools/driftdb/examples/../driftdb/dataset_helpers.py:27: SettingWithCopyWarning: \n",
            "A value is trying to be set on a copy of a slice from a DataFrame.\n",
            "Try using .loc[row_indexer,col_indexer] = value instead\n",
            "\n",
            "See the caveats in the documentation: https://pandas.pydata.org/pandas-docs/stable/user_guide/indexing.html#returning-a-view-versus-a-copy\n",
            "  dataset[column] = formatted_dates\n"
          ]
        },
        {
          "name": "stdout",
          "output_type": "stream",
          "text": [
            "Metric not found, creating it on branch: main\n",
            "Commit: New data: path/to/ultra_large_metric_20/2022-12.csv\n",
            "Metric stored\n",
            "Storing metric for Month: 2023-01-31 00:00:00\n",
            "Storing metric...\n"
          ]
        },
        {
          "name": "stderr",
          "output_type": "stream",
          "text": [
            "/Users/sammyteillet/Documents/Projects/DataDrift/data-drift/tools/driftdb/examples/../driftdb/dataset_helpers.py:27: SettingWithCopyWarning: \n",
            "A value is trying to be set on a copy of a slice from a DataFrame.\n",
            "Try using .loc[row_indexer,col_indexer] = value instead\n",
            "\n",
            "See the caveats in the documentation: https://pandas.pydata.org/pandas-docs/stable/user_guide/indexing.html#returning-a-view-versus-a-copy\n",
            "  dataset[column] = formatted_dates\n"
          ]
        },
        {
          "name": "stdout",
          "output_type": "stream",
          "text": [
            "Metric not found, creating it on branch: main\n",
            "Commit: New data: path/to/ultra_large_metric_20/2023-01.csv\n",
            "Metric stored\n",
            "Storing metric for Month: 2023-02-28 00:00:00\n",
            "Storing metric...\n"
          ]
        },
        {
          "name": "stderr",
          "output_type": "stream",
          "text": [
            "/Users/sammyteillet/Documents/Projects/DataDrift/data-drift/tools/driftdb/examples/../driftdb/dataset_helpers.py:27: SettingWithCopyWarning: \n",
            "A value is trying to be set on a copy of a slice from a DataFrame.\n",
            "Try using .loc[row_indexer,col_indexer] = value instead\n",
            "\n",
            "See the caveats in the documentation: https://pandas.pydata.org/pandas-docs/stable/user_guide/indexing.html#returning-a-view-versus-a-copy\n",
            "  dataset[column] = formatted_dates\n"
          ]
        },
        {
          "name": "stdout",
          "output_type": "stream",
          "text": [
            "Metric not found, creating it on branch: main\n",
            "Commit: New data: path/to/ultra_large_metric_20/2023-02.csv\n",
            "Metric stored\n",
            "Storing metric for Month: 2023-03-31 00:00:00\n",
            "Storing metric...\n"
          ]
        },
        {
          "name": "stderr",
          "output_type": "stream",
          "text": [
            "/Users/sammyteillet/Documents/Projects/DataDrift/data-drift/tools/driftdb/examples/../driftdb/dataset_helpers.py:27: SettingWithCopyWarning: \n",
            "A value is trying to be set on a copy of a slice from a DataFrame.\n",
            "Try using .loc[row_indexer,col_indexer] = value instead\n",
            "\n",
            "See the caveats in the documentation: https://pandas.pydata.org/pandas-docs/stable/user_guide/indexing.html#returning-a-view-versus-a-copy\n",
            "  dataset[column] = formatted_dates\n"
          ]
        },
        {
          "name": "stdout",
          "output_type": "stream",
          "text": [
            "Metric not found, creating it on branch: main\n",
            "Commit: New data: path/to/ultra_large_metric_20/2023-03.csv\n",
            "Metric stored\n",
            "Storing metric for Month: 2023-04-30 00:00:00\n",
            "Storing metric...\n"
          ]
        },
        {
          "name": "stderr",
          "output_type": "stream",
          "text": [
            "/Users/sammyteillet/Documents/Projects/DataDrift/data-drift/tools/driftdb/examples/../driftdb/dataset_helpers.py:27: SettingWithCopyWarning: \n",
            "A value is trying to be set on a copy of a slice from a DataFrame.\n",
            "Try using .loc[row_indexer,col_indexer] = value instead\n",
            "\n",
            "See the caveats in the documentation: https://pandas.pydata.org/pandas-docs/stable/user_guide/indexing.html#returning-a-view-versus-a-copy\n",
            "  dataset[column] = formatted_dates\n"
          ]
        },
        {
          "name": "stdout",
          "output_type": "stream",
          "text": [
            "Metric not found, creating it on branch: main\n",
            "Commit: New data: path/to/ultra_large_metric_20/2023-04.csv\n",
            "Metric stored\n",
            "Storing metric for Month: 2023-05-31 00:00:00\n",
            "Storing metric...\n"
          ]
        },
        {
          "name": "stderr",
          "output_type": "stream",
          "text": [
            "/Users/sammyteillet/Documents/Projects/DataDrift/data-drift/tools/driftdb/examples/../driftdb/dataset_helpers.py:27: SettingWithCopyWarning: \n",
            "A value is trying to be set on a copy of a slice from a DataFrame.\n",
            "Try using .loc[row_indexer,col_indexer] = value instead\n",
            "\n",
            "See the caveats in the documentation: https://pandas.pydata.org/pandas-docs/stable/user_guide/indexing.html#returning-a-view-versus-a-copy\n",
            "  dataset[column] = formatted_dates\n"
          ]
        },
        {
          "name": "stdout",
          "output_type": "stream",
          "text": [
            "Metric not found, creating it on branch: main\n",
            "Commit: New data: path/to/ultra_large_metric_20/2023-05.csv\n",
            "Metric stored\n",
            "Storing metric for Month: 2023-06-30 00:00:00\n",
            "Storing metric...\n"
          ]
        },
        {
          "name": "stderr",
          "output_type": "stream",
          "text": [
            "/Users/sammyteillet/Documents/Projects/DataDrift/data-drift/tools/driftdb/examples/../driftdb/dataset_helpers.py:27: SettingWithCopyWarning: \n",
            "A value is trying to be set on a copy of a slice from a DataFrame.\n",
            "Try using .loc[row_indexer,col_indexer] = value instead\n",
            "\n",
            "See the caveats in the documentation: https://pandas.pydata.org/pandas-docs/stable/user_guide/indexing.html#returning-a-view-versus-a-copy\n",
            "  dataset[column] = formatted_dates\n"
          ]
        },
        {
          "name": "stdout",
          "output_type": "stream",
          "text": [
            "Metric not found, creating it on branch: main\n",
            "Commit: New data: path/to/ultra_large_metric_20/2023-06.csv\n",
            "Metric stored\n",
            "Storing metric for Month: 2023-07-31 00:00:00\n",
            "Storing metric...\n"
          ]
        },
        {
          "name": "stderr",
          "output_type": "stream",
          "text": [
            "/Users/sammyteillet/Documents/Projects/DataDrift/data-drift/tools/driftdb/examples/../driftdb/dataset_helpers.py:27: SettingWithCopyWarning: \n",
            "A value is trying to be set on a copy of a slice from a DataFrame.\n",
            "Try using .loc[row_indexer,col_indexer] = value instead\n",
            "\n",
            "See the caveats in the documentation: https://pandas.pydata.org/pandas-docs/stable/user_guide/indexing.html#returning-a-view-versus-a-copy\n",
            "  dataset[column] = formatted_dates\n"
          ]
        },
        {
          "name": "stdout",
          "output_type": "stream",
          "text": [
            "Metric not found, creating it on branch: main\n",
            "Commit: New data: path/to/ultra_large_metric_20/2023-07.csv\n",
            "Metric stored\n",
            "Storing metric for Month: 2023-08-31 00:00:00\n",
            "Storing metric...\n"
          ]
        },
        {
          "name": "stderr",
          "output_type": "stream",
          "text": [
            "/Users/sammyteillet/Documents/Projects/DataDrift/data-drift/tools/driftdb/examples/../driftdb/dataset_helpers.py:27: SettingWithCopyWarning: \n",
            "A value is trying to be set on a copy of a slice from a DataFrame.\n",
            "Try using .loc[row_indexer,col_indexer] = value instead\n",
            "\n",
            "See the caveats in the documentation: https://pandas.pydata.org/pandas-docs/stable/user_guide/indexing.html#returning-a-view-versus-a-copy\n",
            "  dataset[column] = formatted_dates\n"
          ]
        },
        {
          "name": "stdout",
          "output_type": "stream",
          "text": [
            "Metric not found, creating it on branch: main\n",
            "Commit: New data: path/to/ultra_large_metric_20/2023-08.csv\n",
            "Metric stored\n",
            "Storing metric for Month: 2023-09-30 00:00:00\n",
            "Storing metric...\n"
          ]
        },
        {
          "name": "stderr",
          "output_type": "stream",
          "text": [
            "/Users/sammyteillet/Documents/Projects/DataDrift/data-drift/tools/driftdb/examples/../driftdb/dataset_helpers.py:27: SettingWithCopyWarning: \n",
            "A value is trying to be set on a copy of a slice from a DataFrame.\n",
            "Try using .loc[row_indexer,col_indexer] = value instead\n",
            "\n",
            "See the caveats in the documentation: https://pandas.pydata.org/pandas-docs/stable/user_guide/indexing.html#returning-a-view-versus-a-copy\n",
            "  dataset[column] = formatted_dates\n"
          ]
        },
        {
          "name": "stdout",
          "output_type": "stream",
          "text": [
            "Metric not found, creating it on branch: main\n",
            "Commit: New data: path/to/ultra_large_metric_20/2023-09.csv\n",
            "Metric stored\n"
          ]
        }
      ],
      "source": [
        "import sys\n",
        "from driftdb.connectors.workflow import partition_and_snapshot_table\n",
        "\n",
        "## Test with file already existing and splitting new data and historical data\n",
        "table_name = \"/path/to/ultra_large_metric_20.csv\"\n",
        "partition_and_snapshot_table(\n",
        "    connector=github_connector,\n",
        "    table_dataframe= ultra_large_df,\n",
        "    table_name= table_name,\n",
        ")"
      ]
    },
    {
      "cell_type": "code",
      "execution_count": 10,
      "metadata": {},
      "outputs": [
        {
          "name": "stdout",
          "output_type": "stream",
          "text": [
            "[1324896 3566176 1109043 4286042 5395174 3176109 1318917  289256 2252263\n",
            " 3867988 2533137 3271565 1858030 4165603 3246840 1055632 5459583 3496928\n",
            " 2427607 4401858  150496 4660127 4430720 3628721 5788409  841925  808711\n",
            " 1710552 2692374 2738621 5803699 1612112 3364276 4247024 3312537 4986153\n",
            " 3937881 5240530 1682394 5068890  410273 4948697 4959718  602858 5577532\n",
            " 4896137  367499 1813348 4629636 3986491 1902091 1198609 3790712  696336\n",
            " 4260175 5391142  892546  516542 3176093 1491988 3538936 4421488 3539949\n",
            " 3246633 4010302 5686608 5955391 5900770 5604183 2233903 4392291 4348769\n",
            " 3391996 2950656 4219320 1553557  255181 4835460 3669644 4699249 1123974\n",
            "  155982 3997316 3698861 2266356 3304557 5910305 3067412  648984 5699520\n",
            " 2615926 3329565  609280 1007822 3808824 4628760 2059311 2429142 5847167\n",
            " 4352913]\n"
          ]
        }
      ],
      "source": [
        "import numpy as np\n",
        "\n",
        "# Set the seed for reproducibility\n",
        "np.random.seed(42)\n",
        "\n",
        "ultra_large_df2 = ultra_large_df.copy()\n",
        "\n",
        "# Select 10 random indices for metric value update\n",
        "random_indices_metric = np.random.choice(ultra_large_df2.index, size=100, replace=False)\n",
        "print(random_indices_metric)\n",
        "# Update metric value with random values between 0 and 10\n",
        "ultra_large_df2.loc[random_indices_metric, 'metric_value'] = [round(random.uniform(0, 10),2) for _ in range(100)]\n"
      ]
    },
    {
      "cell_type": "code",
      "execution_count": 25,
      "metadata": {},
      "outputs": [
        {
          "data": {
            "text/plain": [
              "unique_key       object\n",
              "date             object\n",
              "metric_value    float64\n",
              "country_code     object\n",
              "category         object\n",
              "dtype: object"
            ]
          },
          "execution_count": 25,
          "metadata": {},
          "output_type": "execute_result"
        }
      ],
      "source": [
        "ultra_large_df.dtypes"
      ]
    },
    {
      "cell_type": "code",
      "execution_count": 16,
      "metadata": {},
      "outputs": [
        {
          "name": "stdout",
          "output_type": "stream",
          "text": [
            "Partitionning metric...\n",
            "Storing metric for Month: 2022-09-30 00:00:00\n",
            "Storing metric...\n"
          ]
        },
        {
          "name": "stderr",
          "output_type": "stream",
          "text": [
            "/Users/sammyteillet/Documents/Projects/DataDrift/data-drift/tools/driftdb/examples/../driftdb/dataset_helpers.py:27: SettingWithCopyWarning: \n",
            "A value is trying to be set on a copy of a slice from a DataFrame.\n",
            "Try using .loc[row_indexer,col_indexer] = value instead\n",
            "\n",
            "See the caveats in the documentation: https://pandas.pydata.org/pandas-docs/stable/user_guide/indexing.html#returning-a-view-versus-a-copy\n",
            "  dataset[column] = formatted_dates\n"
          ]
        },
        {
          "name": "stdout",
          "output_type": "stream",
          "text": [
            "Metric found, updating it on branch: main\n",
            "Content https://raw.githubusercontent.com/Samox/data-history/main/path/to/ultra_large_metric_20/2022-09.csv?token=ABUWFP3E7WJHVSQ66YIDCFLFBLUS2\n",
            "Dataframe dtypes {'unique_key': string[python], 'date': string[python], 'metric_value': string[python], 'country_code': string[python], 'category': string[python]}\n",
            "Old Dataframe dtypes {'unique_key': string[python], 'date': string[python], 'metric_value': string[python], 'country_code': string[python], 'category': string[python]}\n",
            "Branch drift/2023-09-20-14-43-28/path-to-ultra-large-metric-20-2022-09 doesn't exist, creating it...\n",
            "Updating branch :drift/2023-09-20-14-43-28/path-to-ultra-large-metric-20-2022-09  to default branch: main\n",
            "could not delete ref 422 {\"message\": \"Reference already exists\", \"documentation_url\": \"https://docs.github.com/rest/git/refs#create-a-reference\"}\n",
            "comparison Empty DataFrame\n",
            "Columns: []\n",
            "Index: []\n",
            "No drift detected\n",
            "Storing metric for Month: 2022-10-31 00:00:00\n",
            "Storing metric...\n"
          ]
        },
        {
          "name": "stderr",
          "output_type": "stream",
          "text": [
            "/Users/sammyteillet/Documents/Projects/DataDrift/data-drift/tools/driftdb/examples/../driftdb/dataset_helpers.py:27: SettingWithCopyWarning: \n",
            "A value is trying to be set on a copy of a slice from a DataFrame.\n",
            "Try using .loc[row_indexer,col_indexer] = value instead\n",
            "\n",
            "See the caveats in the documentation: https://pandas.pydata.org/pandas-docs/stable/user_guide/indexing.html#returning-a-view-versus-a-copy\n",
            "  dataset[column] = formatted_dates\n"
          ]
        },
        {
          "name": "stdout",
          "output_type": "stream",
          "text": [
            "Metric found, updating it on branch: main\n",
            "Content https://raw.githubusercontent.com/Samox/data-history/main/path/to/ultra_large_metric_20/2022-10.csv?token=ABUWFPYPBJJ3CTT73G2BPTLFBLUTK\n",
            "Dataframe dtypes {'unique_key': string[python], 'date': string[python], 'metric_value': string[python], 'country_code': string[python], 'category': string[python]}\n",
            "Old Dataframe dtypes {'unique_key': string[python], 'date': string[python], 'metric_value': string[python], 'country_code': string[python], 'category': string[python]}\n",
            "Branch drift/2023-09-20-14-43-36/path-to-ultra-large-metric-20-2022-10 doesn't exist, creating it...\n",
            "Updating branch :drift/2023-09-20-14-43-36/path-to-ultra-large-metric-20-2022-10  to default branch: main\n",
            "could not delete ref 422 {\"message\": \"Reference already exists\", \"documentation_url\": \"https://docs.github.com/rest/git/refs#create-a-reference\"}\n",
            "comparison                                      metric_value      \n",
            "                                             self other\n",
            "unique_key                                             \n",
            "1a6f322c-67cf-48f1-aaeb-ebaac2b51ba7         8.09  2.42\n",
            "23a57e5d-15de-45d9-84fc-a8600c4baf51         3.05  2.67\n",
            "835c7ef7-6efd-406e-a077-7e99ecfbf04f         7.12  6.55\n",
            "c5d5951b-02d2-4e2e-a019-e6443972dad1         6.01  0.83\n",
            "c8ec8a92-d3cd-406c-abac-c6f35a626660         9.37  2.12\n",
            "fed0d805-4384-44ff-abe7-0de0ae4ced08         8.75   4.1\n",
            "Drift detected\n",
            "Drift evaluation: {'should_alert': False, 'message': 'Drift detected and automatically merged.'}\n",
            "No alert needed, pushing on reported branch\n",
            "Commit: Drift: path/to/ultra_large_metric_20/2022-10.csv\n",
            "https://github.com/Samox/data-history/commit/06b35cb1762378447d555b43686e2286b9774434\n",
            "Drift pushed on main branch\n",
            "Storing metric for Month: 2022-11-30 00:00:00\n",
            "Storing metric...\n"
          ]
        },
        {
          "name": "stderr",
          "output_type": "stream",
          "text": [
            "/Users/sammyteillet/Documents/Projects/DataDrift/data-drift/tools/driftdb/examples/../driftdb/dataset_helpers.py:27: SettingWithCopyWarning: \n",
            "A value is trying to be set on a copy of a slice from a DataFrame.\n",
            "Try using .loc[row_indexer,col_indexer] = value instead\n",
            "\n",
            "See the caveats in the documentation: https://pandas.pydata.org/pandas-docs/stable/user_guide/indexing.html#returning-a-view-versus-a-copy\n",
            "  dataset[column] = formatted_dates\n"
          ]
        },
        {
          "name": "stdout",
          "output_type": "stream",
          "text": [
            "Metric found, updating it on branch: main\n",
            "Content https://raw.githubusercontent.com/Samox/data-history/main/path/to/ultra_large_metric_20/2022-11.csv?token=ABUWFP2STJXCVVDHCVQUBBTFBLUUU\n",
            "Dataframe dtypes {'unique_key': string[python], 'date': string[python], 'metric_value': string[python], 'country_code': string[python], 'category': string[python]}\n",
            "Old Dataframe dtypes {'unique_key': string[python], 'date': string[python], 'metric_value': string[python], 'country_code': string[python], 'category': string[python]}\n",
            "Branch drift/2023-09-20-14-43-56/path-to-ultra-large-metric-20-2022-11 doesn't exist, creating it...\n",
            "Updating branch :drift/2023-09-20-14-43-56/path-to-ultra-large-metric-20-2022-11  to default branch: main\n",
            "could not delete ref 422 {\"message\": \"Reference already exists\", \"documentation_url\": \"https://docs.github.com/rest/git/refs#create-a-reference\"}\n",
            "comparison                                      metric_value      \n",
            "                                             self other\n",
            "unique_key                                             \n",
            "1277e867-a2fc-4141-b36c-b8252bd18043         5.54  2.18\n",
            "8f075330-06be-45af-9d08-5d01944337b0         9.29  4.19\n",
            "b4f15dcd-976e-4937-aaab-04bee7f2031d         2.39  0.46\n",
            "d39d34f1-6e87-444b-b61b-d303c491995d         6.85  3.42\n",
            "f4a22472-4597-4296-922b-75c9713827bd         1.33   1.0\n",
            "Drift detected\n",
            "Drift evaluation: {'should_alert': False, 'message': 'Drift detected and automatically merged.'}\n",
            "No alert needed, pushing on reported branch\n",
            "Commit: Drift: path/to/ultra_large_metric_20/2022-11.csv\n",
            "https://github.com/Samox/data-history/commit/212141eee2414a229cec0efac9caf6532283ca4d\n",
            "Drift pushed on main branch\n",
            "Storing metric for Month: 2022-12-31 00:00:00\n",
            "Storing metric...\n"
          ]
        },
        {
          "name": "stderr",
          "output_type": "stream",
          "text": [
            "/Users/sammyteillet/Documents/Projects/DataDrift/data-drift/tools/driftdb/examples/../driftdb/dataset_helpers.py:27: SettingWithCopyWarning: \n",
            "A value is trying to be set on a copy of a slice from a DataFrame.\n",
            "Try using .loc[row_indexer,col_indexer] = value instead\n",
            "\n",
            "See the caveats in the documentation: https://pandas.pydata.org/pandas-docs/stable/user_guide/indexing.html#returning-a-view-versus-a-copy\n",
            "  dataset[column] = formatted_dates\n"
          ]
        },
        {
          "name": "stdout",
          "output_type": "stream",
          "text": [
            "Metric found, updating it on branch: main\n",
            "Content https://raw.githubusercontent.com/Samox/data-history/main/path/to/ultra_large_metric_20/2022-12.csv?token=ABUWFPZAKFL5HVKKRRCLGRTFBLUVY\n",
            "Dataframe dtypes {'unique_key': string[python], 'date': string[python], 'metric_value': string[python], 'country_code': string[python], 'category': string[python]}\n",
            "Old Dataframe dtypes {'unique_key': string[python], 'date': string[python], 'metric_value': string[python], 'country_code': string[python], 'category': string[python]}\n",
            "Branch drift/2023-09-20-14-44-14/path-to-ultra-large-metric-20-2022-12 doesn't exist, creating it...\n",
            "Updating branch :drift/2023-09-20-14-44-14/path-to-ultra-large-metric-20-2022-12  to default branch: main\n",
            "could not delete ref 422 {\"message\": \"Reference already exists\", \"documentation_url\": \"https://docs.github.com/rest/git/refs#create-a-reference\"}\n",
            "comparison                                      metric_value      \n",
            "                                             self other\n",
            "unique_key                                             \n",
            "375fe8a0-3591-46d1-aa72-cd48bef60f16         2.02  5.36\n",
            "3f6be6ba-23bf-4fd5-94f9-42db51ffb2e5          3.5  6.62\n",
            "53a145bb-ed21-4746-8986-52c24371ea98         0.14  2.68\n",
            "82029412-6d72-4b3d-942f-dfab48dd52ee         6.99  2.44\n",
            "accc9b2f-fb0b-469f-8bb6-c9a1951ce0b8         2.14  8.07\n",
            "af907026-6ab7-42b2-897e-8b9a49ec0600         0.51  2.88\n",
            "f40666d6-f62d-4435-b07f-4e515c9a7117          3.5  6.94\n",
            "Drift detected\n",
            "Drift evaluation: {'should_alert': False, 'message': 'Drift detected and automatically merged.'}\n",
            "No alert needed, pushing on reported branch\n",
            "Commit: Drift: path/to/ultra_large_metric_20/2022-12.csv\n",
            "https://github.com/Samox/data-history/commit/4bda6c35dc89e9e20d72763fd2d416c8487c140b\n",
            "Drift pushed on main branch\n",
            "Storing metric for Month: 2023-01-31 00:00:00\n",
            "Storing metric...\n"
          ]
        },
        {
          "name": "stderr",
          "output_type": "stream",
          "text": [
            "/Users/sammyteillet/Documents/Projects/DataDrift/data-drift/tools/driftdb/examples/../driftdb/dataset_helpers.py:27: SettingWithCopyWarning: \n",
            "A value is trying to be set on a copy of a slice from a DataFrame.\n",
            "Try using .loc[row_indexer,col_indexer] = value instead\n",
            "\n",
            "See the caveats in the documentation: https://pandas.pydata.org/pandas-docs/stable/user_guide/indexing.html#returning-a-view-versus-a-copy\n",
            "  dataset[column] = formatted_dates\n"
          ]
        },
        {
          "name": "stdout",
          "output_type": "stream",
          "text": [
            "Metric found, updating it on branch: main\n",
            "Content https://raw.githubusercontent.com/Samox/data-history/main/path/to/ultra_large_metric_20/2023-01.csv?token=ABUWFP426VKQWSPJTBPRVKTFBLUW2\n",
            "Dataframe dtypes {'unique_key': string[python], 'date': string[python], 'metric_value': string[python], 'country_code': string[python], 'category': string[python]}\n",
            "Old Dataframe dtypes {'unique_key': string[python], 'date': string[python], 'metric_value': string[python], 'country_code': string[python], 'category': string[python]}\n",
            "Branch drift/2023-09-20-14-44-32/path-to-ultra-large-metric-20-2023-01 doesn't exist, creating it...\n",
            "Updating branch :drift/2023-09-20-14-44-32/path-to-ultra-large-metric-20-2023-01  to default branch: main\n",
            "could not delete ref 422 {\"message\": \"Reference already exists\", \"documentation_url\": \"https://docs.github.com/rest/git/refs#create-a-reference\"}\n",
            "comparison                                      metric_value      \n",
            "                                             self other\n",
            "unique_key                                             \n",
            "091c14a9-002e-420b-876e-ccca8f806e47         8.55  3.89\n",
            "3232af8b-837a-4bc5-9ebb-9e36f690eabd         8.19  9.08\n",
            "3bc86867-1142-49a0-8a8c-94c81b598552         4.82  8.29\n",
            "3c770708-100d-42cc-a6b4-0731df2b56f7         2.34  8.96\n",
            "5ea0ddc2-1ef9-4384-86d1-e01aefad910a         5.78  8.12\n",
            "7457062e-470c-4d5e-9007-dc71b33b17af         2.82  3.52\n",
            "8b452b7e-4c26-4084-9d3e-be1b0646bd71         0.59   8.3\n",
            "8d8984a3-0d4a-4223-95a7-9d03a08999d1         1.16   9.3\n",
            "93e8eeb9-216a-4bd9-a5a7-f4155e70559a         8.72  6.08\n",
            "b31f7784-7f60-45eb-b9f1-e942dfe29f4b         0.78  9.44\n",
            "b8a566f2-3557-442e-8d9a-ea9e6e8edab8         8.67  7.93\n",
            "c869deb3-f51d-47d3-a40a-e097bf275cf1         9.14  4.89\n",
            "e15bc224-524b-4dfd-aad9-f55970e4f3fd         6.05  3.85\n",
            "Drift detected\n",
            "Drift evaluation: {'should_alert': False, 'message': 'Drift detected and automatically merged.'}\n",
            "No alert needed, pushing on reported branch\n",
            "Commit: Drift: path/to/ultra_large_metric_20/2023-01.csv\n",
            "https://github.com/Samox/data-history/commit/990b539b1fdd8c346a804d089c6629a6aa900aee\n",
            "Drift pushed on main branch\n",
            "Storing metric for Month: 2023-02-28 00:00:00\n",
            "Storing metric...\n"
          ]
        },
        {
          "name": "stderr",
          "output_type": "stream",
          "text": [
            "/Users/sammyteillet/Documents/Projects/DataDrift/data-drift/tools/driftdb/examples/../driftdb/dataset_helpers.py:27: SettingWithCopyWarning: \n",
            "A value is trying to be set on a copy of a slice from a DataFrame.\n",
            "Try using .loc[row_indexer,col_indexer] = value instead\n",
            "\n",
            "See the caveats in the documentation: https://pandas.pydata.org/pandas-docs/stable/user_guide/indexing.html#returning-a-view-versus-a-copy\n",
            "  dataset[column] = formatted_dates\n"
          ]
        },
        {
          "name": "stdout",
          "output_type": "stream",
          "text": [
            "Metric found, updating it on branch: main\n",
            "Content https://raw.githubusercontent.com/Samox/data-history/main/path/to/ultra_large_metric_20/2023-02.csv?token=ABUWFP26EL2R24YOODHYLTTFBLUX2\n",
            "Dataframe dtypes {'unique_key': string[python], 'date': string[python], 'metric_value': string[python], 'country_code': string[python], 'category': string[python]}\n",
            "Old Dataframe dtypes {'unique_key': string[python], 'date': string[python], 'metric_value': string[python], 'country_code': string[python], 'category': string[python]}\n",
            "Branch drift/2023-09-20-14-44-47/path-to-ultra-large-metric-20-2023-02 doesn't exist, creating it...\n",
            "Updating branch :drift/2023-09-20-14-44-47/path-to-ultra-large-metric-20-2023-02  to default branch: main\n",
            "could not delete ref 422 {\"message\": \"Reference already exists\", \"documentation_url\": \"https://docs.github.com/rest/git/refs#create-a-reference\"}\n",
            "comparison                                      metric_value      \n",
            "                                             self other\n",
            "unique_key                                             \n",
            "0944c9fd-4518-4115-8883-9af390620799         3.95  6.49\n",
            "23847c9d-9a4a-41cc-9163-0cdbe706d306         2.69  5.05\n",
            "48ea7cfe-8ab9-47e3-8fed-fdf92b8ac78e         2.48  5.16\n",
            "5add9ad8-4ffa-454e-84ec-ecbf4dcb3b41         5.88  6.98\n",
            "8bf739be-4b06-4e1d-a8a6-a03432913ed7         2.39  9.13\n",
            "95e44ef5-a8ea-4326-b28c-2eec1b86c7a2         4.43  9.91\n",
            "ac03ff69-ce64-4cc3-a34c-b7076b298254         0.56  7.59\n",
            "Drift detected\n",
            "Drift evaluation: {'should_alert': False, 'message': 'Drift detected and automatically merged.'}\n",
            "No alert needed, pushing on reported branch\n",
            "Commit: Drift: path/to/ultra_large_metric_20/2023-02.csv\n",
            "https://github.com/Samox/data-history/commit/383ea6e9a5b22a2b28b02379052b124849b4ade3\n",
            "Drift pushed on main branch\n",
            "Storing metric for Month: 2023-03-31 00:00:00\n",
            "Storing metric...\n"
          ]
        },
        {
          "name": "stderr",
          "output_type": "stream",
          "text": [
            "/Users/sammyteillet/Documents/Projects/DataDrift/data-drift/tools/driftdb/examples/../driftdb/dataset_helpers.py:27: SettingWithCopyWarning: \n",
            "A value is trying to be set on a copy of a slice from a DataFrame.\n",
            "Try using .loc[row_indexer,col_indexer] = value instead\n",
            "\n",
            "See the caveats in the documentation: https://pandas.pydata.org/pandas-docs/stable/user_guide/indexing.html#returning-a-view-versus-a-copy\n",
            "  dataset[column] = formatted_dates\n"
          ]
        },
        {
          "name": "stdout",
          "output_type": "stream",
          "text": [
            "Metric found, updating it on branch: main\n",
            "Content https://raw.githubusercontent.com/Samox/data-history/main/path/to/ultra_large_metric_20/2023-03.csv?token=ABUWFP6UOGTAAW64PB5PU3DFBLUY4\n",
            "Dataframe dtypes {'unique_key': string[python], 'date': string[python], 'metric_value': string[python], 'country_code': string[python], 'category': string[python]}\n",
            "Old Dataframe dtypes {'unique_key': string[python], 'date': string[python], 'metric_value': string[python], 'country_code': string[python], 'category': string[python]}\n",
            "Branch drift/2023-09-20-14-45-04/path-to-ultra-large-metric-20-2023-03 doesn't exist, creating it...\n",
            "Updating branch :drift/2023-09-20-14-45-04/path-to-ultra-large-metric-20-2023-03  to default branch: main\n",
            "could not delete ref 422 {\"message\": \"Reference already exists\", \"documentation_url\": \"https://docs.github.com/rest/git/refs#create-a-reference\"}\n",
            "comparison                                      metric_value      \n",
            "                                             self other\n",
            "unique_key                                             \n",
            "055eca3a-dc6e-42f5-90c9-1a5e2f7b5fb6         6.38  5.98\n",
            "30284b64-d802-4833-91fa-5b90602b2b43         9.29  0.39\n",
            "4777b4cb-c16e-44b2-841e-0c8bda404c1a         2.81   2.0\n",
            "7bee1539-caff-4599-9679-2db0ab8e05d9          7.4  6.42\n",
            "860ebe1a-1f98-4bbd-88e0-f8532e6c4105         5.12  7.58\n",
            "8ea8c3e1-d6d0-414d-8f0c-bfce9965dd1b         5.81  8.84\n",
            "9360a4b4-ce31-456c-a607-8a6726edc03a         9.11  2.06\n",
            "baf8a9b3-5088-4fd4-8d1f-2cca589bb199         6.45  2.07\n",
            "d8b4fbb7-b1e2-4685-8688-533d21d7d735         3.89   7.8\n",
            "fbd5bb2b-2130-42f7-88b1-71b6da20af6c         0.91  2.42\n",
            "Drift detected\n",
            "Drift evaluation: {'should_alert': False, 'message': 'Drift detected and automatically merged.'}\n",
            "No alert needed, pushing on reported branch\n",
            "Commit: Drift: path/to/ultra_large_metric_20/2023-03.csv\n",
            "https://github.com/Samox/data-history/commit/dbcddf533ae92eb001104cb3d5fb07832a38ed35\n",
            "Drift pushed on main branch\n",
            "Storing metric for Month: 2023-04-30 00:00:00\n",
            "Storing metric...\n"
          ]
        },
        {
          "name": "stderr",
          "output_type": "stream",
          "text": [
            "/Users/sammyteillet/Documents/Projects/DataDrift/data-drift/tools/driftdb/examples/../driftdb/dataset_helpers.py:27: SettingWithCopyWarning: \n",
            "A value is trying to be set on a copy of a slice from a DataFrame.\n",
            "Try using .loc[row_indexer,col_indexer] = value instead\n",
            "\n",
            "See the caveats in the documentation: https://pandas.pydata.org/pandas-docs/stable/user_guide/indexing.html#returning-a-view-versus-a-copy\n",
            "  dataset[column] = formatted_dates\n"
          ]
        },
        {
          "name": "stdout",
          "output_type": "stream",
          "text": [
            "Metric found, updating it on branch: main\n",
            "Content https://raw.githubusercontent.com/Samox/data-history/main/path/to/ultra_large_metric_20/2023-04.csv?token=ABUWFPZYD3SV3YPYZK3GULTFBLU2I\n",
            "Dataframe dtypes {'unique_key': string[python], 'date': string[python], 'metric_value': string[python], 'country_code': string[python], 'category': string[python]}\n",
            "Old Dataframe dtypes {'unique_key': string[python], 'date': string[python], 'metric_value': string[python], 'country_code': string[python], 'category': string[python]}\n",
            "Branch drift/2023-09-20-14-45-26/path-to-ultra-large-metric-20-2023-04 doesn't exist, creating it...\n",
            "Updating branch :drift/2023-09-20-14-45-26/path-to-ultra-large-metric-20-2023-04  to default branch: main\n",
            "could not delete ref 422 {\"message\": \"Reference already exists\", \"documentation_url\": \"https://docs.github.com/rest/git/refs#create-a-reference\"}\n",
            "comparison                                      metric_value      \n",
            "                                             self other\n",
            "unique_key                                             \n",
            "0915b7ee-431e-4bce-ae07-01f20e0f1238         7.38  0.73\n",
            "2d6546ea-bee3-4f8d-8a6e-f906c2f954b2         0.33  5.22\n",
            "30b7aa18-5bbb-425a-b62c-73366bf82193         4.28  7.04\n",
            "832b0bd9-3591-4e50-893e-d9e2c4b78721          0.8  4.39\n",
            "8ef6b51a-7f90-41eb-bfc4-bab370f494fc         3.04  2.15\n",
            "a9b84cfd-cd0b-4f2c-9c3b-7a7f064d4149         3.44  0.76\n",
            "b874d398-64cb-40c6-9b10-cf914fb54852         6.79  1.06\n",
            "d73d28c8-83f0-41a4-90a0-96613e7d348c         7.51  6.57\n",
            "e3aad68d-8903-439a-b2a6-b9bcb5283378         7.51  5.97\n",
            "eb0cb8b6-2689-4a74-ab29-8cff6f2bf2ca          0.7  2.79\n",
            "fea6ab10-ef77-477f-a091-185d86aee1aa         6.68  0.45\n",
            "Drift detected\n",
            "Drift evaluation: {'should_alert': False, 'message': 'Drift detected and automatically merged.'}\n",
            "No alert needed, pushing on reported branch\n",
            "Commit: Drift: path/to/ultra_large_metric_20/2023-04.csv\n",
            "https://github.com/Samox/data-history/commit/b1956c2fee8947b0996057def9069ea564ddd682\n",
            "Drift pushed on main branch\n",
            "Storing metric for Month: 2023-05-31 00:00:00\n",
            "Storing metric...\n"
          ]
        },
        {
          "name": "stderr",
          "output_type": "stream",
          "text": [
            "/Users/sammyteillet/Documents/Projects/DataDrift/data-drift/tools/driftdb/examples/../driftdb/dataset_helpers.py:27: SettingWithCopyWarning: \n",
            "A value is trying to be set on a copy of a slice from a DataFrame.\n",
            "Try using .loc[row_indexer,col_indexer] = value instead\n",
            "\n",
            "See the caveats in the documentation: https://pandas.pydata.org/pandas-docs/stable/user_guide/indexing.html#returning-a-view-versus-a-copy\n",
            "  dataset[column] = formatted_dates\n"
          ]
        },
        {
          "name": "stdout",
          "output_type": "stream",
          "text": [
            "Metric found, updating it on branch: main\n",
            "Content https://raw.githubusercontent.com/Samox/data-history/main/path/to/ultra_large_metric_20/2023-05.csv?token=ABUWFP4BD7JLNJRW663OHSDFBLU3K\n",
            "Dataframe dtypes {'unique_key': string[python], 'date': string[python], 'metric_value': string[python], 'country_code': string[python], 'category': string[python]}\n",
            "Old Dataframe dtypes {'unique_key': string[python], 'date': string[python], 'metric_value': string[python], 'country_code': string[python], 'category': string[python]}\n",
            "Branch drift/2023-09-20-14-45-43/path-to-ultra-large-metric-20-2023-05 doesn't exist, creating it...\n",
            "Updating branch :drift/2023-09-20-14-45-43/path-to-ultra-large-metric-20-2023-05  to default branch: main\n",
            "could not delete ref 422 {\"message\": \"Reference already exists\", \"documentation_url\": \"https://docs.github.com/rest/git/refs#create-a-reference\"}\n",
            "comparison                                      metric_value      \n",
            "                                             self other\n",
            "unique_key                                             \n",
            "03a60031-4e39-4013-8833-fa770df5cf91         3.37  1.27\n",
            "102e516f-3885-4236-9f37-29b07e992437         3.88  8.95\n",
            "150ed773-e08e-434b-a94c-316d66771741         3.24  1.82\n",
            "d0647514-f9f7-4efd-817a-da9ff6df990c         3.36  8.34\n",
            "e534a54b-6a30-4903-a657-b3212abbe360         1.14  7.83\n",
            "fc78d40a-03a6-4221-b158-d2f4f9632163         3.05  1.16\n",
            "Drift detected\n",
            "Drift evaluation: {'should_alert': False, 'message': 'Drift detected and automatically merged.'}\n",
            "No alert needed, pushing on reported branch\n",
            "Commit: Drift: path/to/ultra_large_metric_20/2023-05.csv\n",
            "https://github.com/Samox/data-history/commit/51430b40c15b5b39269115a35ac700fe42bcc6da\n",
            "Drift pushed on main branch\n",
            "Storing metric for Month: 2023-06-30 00:00:00\n",
            "Storing metric...\n"
          ]
        },
        {
          "name": "stderr",
          "output_type": "stream",
          "text": [
            "/Users/sammyteillet/Documents/Projects/DataDrift/data-drift/tools/driftdb/examples/../driftdb/dataset_helpers.py:27: SettingWithCopyWarning: \n",
            "A value is trying to be set on a copy of a slice from a DataFrame.\n",
            "Try using .loc[row_indexer,col_indexer] = value instead\n",
            "\n",
            "See the caveats in the documentation: https://pandas.pydata.org/pandas-docs/stable/user_guide/indexing.html#returning-a-view-versus-a-copy\n",
            "  dataset[column] = formatted_dates\n"
          ]
        },
        {
          "name": "stdout",
          "output_type": "stream",
          "text": [
            "Metric found, updating it on branch: main\n",
            "Content https://raw.githubusercontent.com/Samox/data-history/main/path/to/ultra_large_metric_20/2023-06.csv?token=ABUWFPYN746LOE5LL54IIJDFBLU4S\n",
            "Dataframe dtypes {'unique_key': string[python], 'date': string[python], 'metric_value': string[python], 'country_code': string[python], 'category': string[python]}\n",
            "Old Dataframe dtypes {'unique_key': string[python], 'date': string[python], 'metric_value': string[python], 'country_code': string[python], 'category': string[python]}\n",
            "Branch drift/2023-09-20-14-46-04/path-to-ultra-large-metric-20-2023-06 doesn't exist, creating it...\n",
            "Updating branch :drift/2023-09-20-14-46-04/path-to-ultra-large-metric-20-2023-06  to default branch: main\n",
            "could not delete ref 422 {\"message\": \"Reference already exists\", \"documentation_url\": \"https://docs.github.com/rest/git/refs#create-a-reference\"}\n",
            "comparison                                      metric_value      \n",
            "                                             self other\n",
            "unique_key                                             \n",
            "0a6f214b-47c7-4f4a-a822-1fd4b12e0dfb         8.56  1.58\n",
            "364991ab-194d-43ba-bc0a-16c60ae22a83         1.65  8.69\n",
            "52237e15-ec64-4934-8c5e-49aeb193b287         7.28  4.68\n",
            "7a7d0c2d-c065-434f-b80e-d40a660ad21e         1.47  6.69\n",
            "a97f1064-911b-46ea-a4dc-9e8c2b9f72ad         5.73  8.36\n",
            "ce3fa36b-b6be-40d3-977c-2eabd6023f36          7.0  4.98\n",
            "e6f97e81-b2a7-4173-bc3d-42b61ec5582d         5.71  7.72\n",
            "fed24afd-e1dd-4651-b5d7-1915ab3c6c1b         0.24  2.72\n",
            "Drift detected\n",
            "Drift evaluation: {'should_alert': False, 'message': 'Drift detected and automatically merged.'}\n",
            "No alert needed, pushing on reported branch\n",
            "Commit: Drift: path/to/ultra_large_metric_20/2023-06.csv\n",
            "https://github.com/Samox/data-history/commit/ea0ae875085cb0df059ac58ed02184f7722a3f38\n",
            "Drift pushed on main branch\n",
            "Storing metric for Month: 2023-07-31 00:00:00\n",
            "Storing metric...\n"
          ]
        },
        {
          "name": "stderr",
          "output_type": "stream",
          "text": [
            "/Users/sammyteillet/Documents/Projects/DataDrift/data-drift/tools/driftdb/examples/../driftdb/dataset_helpers.py:27: SettingWithCopyWarning: \n",
            "A value is trying to be set on a copy of a slice from a DataFrame.\n",
            "Try using .loc[row_indexer,col_indexer] = value instead\n",
            "\n",
            "See the caveats in the documentation: https://pandas.pydata.org/pandas-docs/stable/user_guide/indexing.html#returning-a-view-versus-a-copy\n",
            "  dataset[column] = formatted_dates\n"
          ]
        },
        {
          "name": "stdout",
          "output_type": "stream",
          "text": [
            "Metric found, updating it on branch: main\n",
            "Content https://raw.githubusercontent.com/Samox/data-history/main/path/to/ultra_large_metric_20/2023-07.csv?token=ABUWFP7VTKFN55YD35JFTYTFBLU52\n",
            "Dataframe dtypes {'unique_key': string[python], 'date': string[python], 'metric_value': string[python], 'country_code': string[python], 'category': string[python]}\n",
            "Old Dataframe dtypes {'unique_key': string[python], 'date': string[python], 'metric_value': string[python], 'country_code': string[python], 'category': string[python]}\n",
            "Branch drift/2023-09-20-14-46-24/path-to-ultra-large-metric-20-2023-07 doesn't exist, creating it...\n",
            "Updating branch :drift/2023-09-20-14-46-24/path-to-ultra-large-metric-20-2023-07  to default branch: main\n",
            "could not delete ref 422 {\"message\": \"Reference already exists\", \"documentation_url\": \"https://docs.github.com/rest/git/refs#create-a-reference\"}\n",
            "comparison                                      metric_value      \n",
            "                                             self other\n",
            "unique_key                                             \n",
            "747fa1d5-8dec-46c9-8b61-ad7dcad05a9f         7.68  9.09\n",
            "8cd4ef3f-b272-42cd-813a-4122ca8a2fef         4.82   4.1\n",
            "abc5538b-c910-4337-8a08-183673cdd97b         6.25  0.43\n",
            "cd8ff26b-521f-4b57-9b3a-f89ce1f991ad         0.48  3.82\n",
            "e8f06bc5-875d-40c2-8ff6-5992a986436e         3.03  1.91\n",
            "ebcb6b4b-f9cc-4ef6-9aa2-09c0896ea484         6.95  8.62\n",
            "f7fc7cf8-cfd1-46b3-9e97-86ae6e6f0de4         9.03   0.6\n",
            "Drift detected\n",
            "Drift evaluation: {'should_alert': False, 'message': 'Drift detected and automatically merged.'}\n",
            "No alert needed, pushing on reported branch\n",
            "Commit: Drift: path/to/ultra_large_metric_20/2023-07.csv\n",
            "https://github.com/Samox/data-history/commit/22bfd3650b3306f29eb993a78644bc16931d7041\n",
            "Drift pushed on main branch\n",
            "Storing metric for Month: 2023-08-31 00:00:00\n",
            "Storing metric...\n"
          ]
        },
        {
          "name": "stderr",
          "output_type": "stream",
          "text": [
            "/Users/sammyteillet/Documents/Projects/DataDrift/data-drift/tools/driftdb/examples/../driftdb/dataset_helpers.py:27: SettingWithCopyWarning: \n",
            "A value is trying to be set on a copy of a slice from a DataFrame.\n",
            "Try using .loc[row_indexer,col_indexer] = value instead\n",
            "\n",
            "See the caveats in the documentation: https://pandas.pydata.org/pandas-docs/stable/user_guide/indexing.html#returning-a-view-versus-a-copy\n",
            "  dataset[column] = formatted_dates\n"
          ]
        },
        {
          "name": "stdout",
          "output_type": "stream",
          "text": [
            "Metric found, updating it on branch: main\n",
            "Content https://raw.githubusercontent.com/Samox/data-history/main/path/to/ultra_large_metric_20/2023-08.csv?token=ABUWFP3CTAEDTG6E2S6KLULFBLU66\n",
            "Dataframe dtypes {'unique_key': string[python], 'date': string[python], 'metric_value': string[python], 'country_code': string[python], 'category': string[python]}\n",
            "Old Dataframe dtypes {'unique_key': string[python], 'date': string[python], 'metric_value': string[python], 'country_code': string[python], 'category': string[python]}\n",
            "Branch drift/2023-09-20-14-46-42/path-to-ultra-large-metric-20-2023-08 doesn't exist, creating it...\n",
            "Updating branch :drift/2023-09-20-14-46-42/path-to-ultra-large-metric-20-2023-08  to default branch: main\n",
            "could not delete ref 422 {\"message\": \"Reference already exists\", \"documentation_url\": \"https://docs.github.com/rest/git/refs#create-a-reference\"}\n",
            "comparison                                      metric_value      \n",
            "                                             self other\n",
            "unique_key                                             \n",
            "2423db92-7ed3-4175-8b67-617978d0164d         3.89  1.34\n",
            "34b35252-548d-4dcc-8260-42d07da7191b         2.14  7.44\n",
            "5056f0a9-efc5-4f8f-93db-0e75e7d707d6          2.9   8.8\n",
            "5cc6d670-1600-4bc1-a512-7ee8503abd28         6.46  6.81\n",
            "5d24f980-0e90-4fec-8710-6be898b688a7         4.01  8.27\n",
            "a3d4b0b2-3dda-4497-bc4e-3fe16d8c9441         5.59  4.94\n",
            "a46c4187-17c0-4499-be85-98da8a755146         8.38  4.31\n",
            "b130cb9e-609f-45c4-9414-4c0ecef1577b         7.87  3.21\n",
            "ce4749d4-f429-4d8d-b52e-6464eb91ee20         5.57  8.61\n",
            "f84d8737-8cc2-45d4-aa05-d2d564248045         2.17  1.46\n",
            "Drift detected\n",
            "Drift evaluation: {'should_alert': False, 'message': 'Drift detected and automatically merged.'}\n",
            "No alert needed, pushing on reported branch\n",
            "Commit: Drift: path/to/ultra_large_metric_20/2023-08.csv\n",
            "https://github.com/Samox/data-history/commit/5076aea2f05fe120cad842326044eddf4aaf11c9\n",
            "Drift pushed on main branch\n",
            "Storing metric for Month: 2023-09-30 00:00:00\n",
            "Storing metric...\n"
          ]
        },
        {
          "name": "stderr",
          "output_type": "stream",
          "text": [
            "/Users/sammyteillet/Documents/Projects/DataDrift/data-drift/tools/driftdb/examples/../driftdb/dataset_helpers.py:27: SettingWithCopyWarning: \n",
            "A value is trying to be set on a copy of a slice from a DataFrame.\n",
            "Try using .loc[row_indexer,col_indexer] = value instead\n",
            "\n",
            "See the caveats in the documentation: https://pandas.pydata.org/pandas-docs/stable/user_guide/indexing.html#returning-a-view-versus-a-copy\n",
            "  dataset[column] = formatted_dates\n"
          ]
        },
        {
          "name": "stdout",
          "output_type": "stream",
          "text": [
            "Metric found, updating it on branch: main\n",
            "Content https://raw.githubusercontent.com/Samox/data-history/main/path/to/ultra_large_metric_20/2023-09.csv?token=ABUWFP3OC3GXDQTQDUENFVDFBLVAG\n",
            "Dataframe dtypes {'unique_key': string[python], 'date': string[python], 'metric_value': string[python], 'country_code': string[python], 'category': string[python]}\n",
            "Old Dataframe dtypes {'unique_key': string[python], 'date': string[python], 'metric_value': string[python], 'country_code': string[python], 'category': string[python]}\n",
            "Branch drift/2023-09-20-14-47-02/path-to-ultra-large-metric-20-2023-09 doesn't exist, creating it...\n",
            "Updating branch :drift/2023-09-20-14-47-02/path-to-ultra-large-metric-20-2023-09  to default branch: main\n",
            "could not delete ref 422 {\"message\": \"Reference already exists\", \"documentation_url\": \"https://docs.github.com/rest/git/refs#create-a-reference\"}\n",
            "comparison                                      metric_value      \n",
            "                                             self other\n",
            "unique_key                                             \n",
            "48fb2923-4b3d-4bb5-9c78-da2118b080e8         5.27  0.39\n",
            "4c746966-35ab-4750-b03b-76754d0c9cee         1.48  6.84\n",
            "7c1264d3-37e8-402e-a0e1-9dc1f71da5e5         0.09  3.54\n",
            "9d32aad8-c2be-4b99-a32f-9d043359a0b9         0.76  4.32\n",
            "ca8daee1-77e5-40d9-b0dd-2bfb53cc157f         7.43   6.0\n",
            "Drift detected\n",
            "Drift evaluation: {'should_alert': False, 'message': 'Drift detected and automatically merged.'}\n",
            "No alert needed, pushing on reported branch\n",
            "Commit: Drift: path/to/ultra_large_metric_20/2023-09.csv\n",
            "https://github.com/Samox/data-history/commit/3e04a216677804ec4789db430dfc51b80a31c085\n",
            "Drift pushed on main branch\n"
          ]
        }
      ],
      "source": [
        "import sys\n",
        "sys.path.append('..')\n",
        "import importlib\n",
        "\n",
        "import driftdb.drift_evaluators\n",
        "importlib.reload(driftdb.drift_evaluators)\n",
        "from driftdb.drift_evaluators import auto_merge_drift\n",
        "\n",
        "\n",
        "import driftdb.github_connector\n",
        "importlib.reload(driftdb.github_connector)\n",
        "from driftdb.github_connector import partition_and_store_table\n",
        "\n",
        "\n",
        "partition_and_store_table(gh_client,  ultra_large_df2, table_name)"
      ]
    },
    {
      "cell_type": "code",
      "execution_count": 6,
      "metadata": {},
      "outputs": [],
      "source": [
        "# Set the number of rows for the dataframe\n",
        "num_rows = 6000\n",
        "\n",
        "# Generate random IDs and dates\n",
        "ids = [fake.uuid4() for _ in range(num_rows)]\n",
        "dates = [fake.date_between(start_date='-1m', end_date='today').strftime('%Y-%m-%d') for _ in range(num_rows)]\n",
        "\n",
        "# Generate random metric values between 0 and 10\n",
        "metric_values = [round(random.uniform(0, 10),2) for _ in range(num_rows)]\n",
        "# Generate random country codes\n",
        "country_codes = [fake.country_code() for _ in range(num_rows)]\n",
        "\n",
        "# Generate random categories\n",
        "categories = [random.choice(['Category A', 'Category B', 'Category C']) for _ in range(num_rows)]\n",
        "\n",
        "# Create the dataframe\n",
        "new_lines = pd.DataFrame({'unique_key': ids, 'date': dates, 'metric_value': metric_values, 'country_code': country_codes, 'category': categories})\n",
        "\n",
        "ultra_large_df3 = pd.concat([ultra_large_df2, new_lines], ignore_index=True)"
      ]
    },
    {
      "cell_type": "code",
      "execution_count": 24,
      "metadata": {},
      "outputs": [
        {
          "name": "stdout",
          "output_type": "stream",
          "text": [
            "Storing metric...\n",
            "Metric found, updating it on branch: main\n",
            "Content https://raw.githubusercontent.com/Samox/data-history/main/path/to/ultra_large_metric_name18.csv?token=ABUWFP5KQIF72QPM6CKZ6VTEW2IZK\n",
            "Dataframe dtypes {'unique_key': string[python], 'date': string[python], 'metric_value': string[python], 'country_code': string[python], 'category': string[python]}\n",
            "Old Dataframe dtypes {'unique_key': string[python], 'date': string[python], 'metric_value': string[python], 'country_code': string[python], 'category': string[python]}\n",
            "New data found\n",
            "Commit: New data: path/to/ultra_large_metric_name18.csv\n",
            "https://github.com/Samox/data-history/commit/510cc1a3978ec68cc439c5f19088d9626eb0db2f\n",
            "Branch metric/path-to-ultra-large-metric-name18-csv doesn't exist, creating it...\n",
            "comparison                                      metric_value      \n",
            "                                             self other\n",
            "unique_key                                             \n",
            "03aeb072-4c9b-4900-a65f-0cb012459f50         5.28  2.02\n",
            "0500de9f-7c2c-4c7a-8f6e-7d2be08551a0         7.35  4.17\n",
            "0b1e939d-15d8-446f-82e0-0774a42b6e38         8.08  1.18\n",
            "0dbaf1fc-88be-4641-8d79-914939080efe         5.51  3.34\n",
            "0fe39883-35c3-45c9-bcff-e84caf85ff39         4.96  0.21\n",
            "...                                           ...   ...\n",
            "ea4f01d7-1c35-406f-830e-f72218d76617         2.99   6.7\n",
            "efa5f736-759e-477a-bc60-ee39a6acf360         5.99  1.34\n",
            "f096b302-e842-48b0-8d73-9eac7917c5fb         7.66  6.84\n",
            "f7a7d70b-f652-4503-acd6-df3fe7e1ab70          9.6  1.51\n",
            "fcdcf0f6-eeb6-43f7-82d7-512c27926639         5.15  8.64\n",
            "\n",
            "[100 rows x 2 columns]\n",
            "Drift detected\n",
            "Drift evaluation: {'should_alert': True, 'message': 'Drift detected:\\n- ~~🆕 0 addition~~\\n- ♻️ 605988 modifications\\n- ~~🗑️ 0 deletion~~'}\n",
            "Commit: Drift: path/to/ultra_large_metric_name18.csv\n",
            "https://github.com/Samox/data-history/commit/2acacfc24f637533b7a5f987a7d268d3c792a54b\n",
            "Drift pushed\n",
            "Creating pull request\n",
            "Pull request created: https://github.com/Samox/data-history/pull/155\n",
            "Assignee Sammy does not exist\n"
          ]
        }
      ],
      "source": [
        "import sys\n",
        "sys.path.append('..')\n",
        "import importlib\n",
        "\n",
        "import driftdb.drift_evaluators\n",
        "importlib.reload(driftdb.drift_evaluators)\n",
        "from driftdb.drift_evaluators import default_drift_evaluator\n",
        "\n",
        "\n",
        "import driftdb.github_connector\n",
        "importlib.reload(driftdb.github_connector)\n",
        "from driftdb.github_connector import store_metric\n",
        "\n",
        "store_metric(ghClient=gh_client,  dataframe=ultra_large_df3, filepath=table_name, assignees=[\"Sammy\"], store_json=False)"
      ]
    },
    {
      "cell_type": "code",
      "execution_count": 13,
      "metadata": {},
      "outputs": [],
      "source": [
        "ultra_large_df.to_json(local_file_path+'.json')\n"
      ]
    }
  ],
  "metadata": {
    "kernelspec": {
      "display_name": "base",
      "language": "python",
      "name": "python3"
    },
    "language_info": {
      "codemirror_mode": {
        "name": "ipython",
        "version": 3
      },
      "file_extension": ".py",
      "mimetype": "text/x-python",
      "name": "python",
      "nbconvert_exporter": "python",
      "pygments_lexer": "ipython3",
      "version": "3.11.5"
    },
    "orig_nbformat": 4
  },
  "nbformat": 4,
  "nbformat_minor": 2
}
