{
  "cells": [
    {
      "cell_type": "code",
      "execution_count": 3,
      "metadata": {},
      "outputs": [],
      "source": [
        "import sys\n",
        "sys.path.append('..')\n",
        "import importlib\n",
        "\n",
        "sys.path.append('.')\n",
        "from driftdb.dataframe.seed import generate_dataframe\n",
        "\n",
        "dataframe = generate_dataframe(10000)\n",
        "metric_name = \"mrr_light_3\""
      ]
    },
    {
      "cell_type": "code",
      "execution_count": 4,
      "metadata": {},
      "outputs": [
        {
          "name": "stderr",
          "output_type": "stream",
          "text": [
            "driftdb.connectors.abstract_connector - INFO - Table found. Updating it\n",
            "driftdb.connectors.abstract_connector - INFO - Change detected\n",
            "driftdb.connectors.local_connector - INFO - Update: NEW DATA\n",
            "driftdb.connectors.local_connector - INFO - Update: DRIFT\n"
          ]
        }
      ],
      "source": [
        "from driftdb.connectors import LocalConnector\n",
        "\n",
        "local_connector = LocalConnector()\n",
        "\n",
        "local_connector.snapshot_table(table_name=metric_name,table_dataframe=dataframe)\n"
      ]
    },
    {
      "cell_type": "code",
      "execution_count": 5,
      "metadata": {},
      "outputs": [],
      "source": [
        "from driftdb.dataframe.seed import insert_drift\n",
        "\n",
        "drifted_dataset = insert_drift(dataframe, 10)"
      ]
    },
    {
      "cell_type": "code",
      "execution_count": 6,
      "metadata": {},
      "outputs": [
        {
          "name": "stderr",
          "output_type": "stream",
          "text": [
            "driftdb.connectors.abstract_connector - INFO - Table found. Updating it\n"
          ]
        },
        {
          "name": "stderr",
          "output_type": "stream",
          "text": [
            "driftdb.drift_evaluator.drift_evaluators - WARNING - Drift evaluator failed: MyDriftEvaluator is not implemented\n",
            "Traceback (most recent call last):\n",
            "  File \"/Users/sammyteillet/Documents/Projects/DataDrift/data-drift/tools/driftdb/driftdb/drift_evaluator/drift_evaluators.py\", line 97, in safe_drift_evaluator\n",
            "    drift_evaluation = drift_evaluator(data_drift_context)\n",
            "                       ^^^^^^^^^^^^^^^^^^^^^^^^^^^^^^^^^^^\n",
            "  File \"/var/folders/9r/55k5q9b53676pnrpch95mjlc0000gn/T/ipykernel_89265/3009035715.py\", line 10, in compute_drift_evaluation\n",
            "    raise Exception(\"MyDriftEvaluator is not implemented\")\n",
            "Exception: MyDriftEvaluator is not implemented\n",
            "driftdb.drift_evaluator.drift_evaluators - WARNING - Using default drift evaluator\n",
            "driftdb.connectors.abstract_connector - INFO - Change detected\n",
            "driftdb.connectors.local_connector - INFO - Update: DRIFT\n"
          ]
        },
        {
          "name": "stdout",
          "output_type": "stream",
          "text": [
            "jfsdkjfhksdjhfk\n"
          ]
        }
      ],
      "source": [
        "from driftdb.drift_evaluator.drift_evaluators import DriftEvaluation, DriftEvaluatorAbstractClass, DriftEvaluatorContext\n",
        "\n",
        "\n",
        "class MyDriftEvaluator(DriftEvaluatorAbstractClass):\n",
        "    @staticmethod\n",
        "    def compute_drift_evaluation(\n",
        "        data_drift_context: DriftEvaluatorContext\n",
        "    ) -> DriftEvaluation:\n",
        "        print(\"jfsdkjfhksdjhfk\")\n",
        "        raise Exception(\"MyDriftEvaluator is not implemented\")\n",
        "\n",
        "\n",
        "local_connector.snapshot_table(table_name=metric_name,table_dataframe=drifted_dataset, drift_evaluator=MyDriftEvaluator())\n"
      ]
    },
    {
      "cell_type": "code",
      "execution_count": 8,
      "metadata": {},
      "outputs": [
        {
          "name": "stderr",
          "output_type": "stream",
          "text": [
            "driftdb.connectors.abstract_connector - INFO - Table found. Updating it\n",
            "driftdb.drift_evaluator.drift_evaluators - WARNING - Drift evaluator failed: MyDriftEvaluator is not implemented\n",
            "Traceback (most recent call last):\n",
            "  File \"/Users/sammyteillet/Documents/Projects/DataDrift/data-drift/tools/driftdb/driftdb/drift_evaluator/drift_evaluators.py\", line 97, in safe_drift_evaluator\n",
            "    drift_evaluation = drift_evaluator(data_drift_context)\n",
            "                       ^^^^^^^^^^^^^^^^^^^^^^^^^^^^^^^^^^^\n",
            "  File \"/var/folders/9r/55k5q9b53676pnrpch95mjlc0000gn/T/ipykernel_89265/3009035715.py\", line 10, in compute_drift_evaluation\n",
            "    raise Exception(\"MyDriftEvaluator is not implemented\")\n",
            "Exception: MyDriftEvaluator is not implemented\n",
            "driftdb.drift_evaluator.drift_evaluators - WARNING - Using default drift evaluator\n",
            "driftdb.connectors.abstract_connector - INFO - Change detected\n",
            "driftdb.connectors.local_connector - INFO - Update: DRIFT\n",
            "driftdb.connectors.local_connector - INFO - Update: MIGRATION Column Added\n"
          ]
        },
        {
          "name": "stdout",
          "output_type": "stream",
          "text": [
            "0       13.00\n",
            "1        1.24\n",
            "2       10.66\n",
            "3        9.91\n",
            "4        3.29\n",
            "        ...  \n",
            "9995     6.72\n",
            "9996     8.78\n",
            "9997     5.39\n",
            "9998     7.80\n",
            "9999     5.49\n",
            "Name: metric_value3, Length: 10000, dtype: float64\n",
            "jfsdkjfhksdjhfk\n"
          ]
        }
      ],
      "source": [
        "drifted_dataset['metric_value2'] = drifted_dataset['metric_value'] + 1\n",
        "drifted_dataset.loc[0, \"metric_value\"] = 12\n",
        "drifted_dataset['metric_value3'] = (drifted_dataset['metric_value'] + 1).round(2)\n",
        "drifted_dataset.drop(columns=['metric_value2'], inplace=True)\n",
        "print(drifted_dataset['metric_value3'])\n",
        "\n",
        "local_connector.snapshot_table(table_name=metric_name,table_dataframe=drifted_dataset, drift_evaluator=MyDriftEvaluator())"
      ]
    }
  ],
  "metadata": {
    "kernelspec": {
      "display_name": "base",
      "language": "python",
      "name": "python3"
    },
    "language_info": {
      "codemirror_mode": {
        "name": "ipython",
        "version": 3
      },
      "file_extension": ".py",
      "mimetype": "text/x-python",
      "name": "python",
      "nbconvert_exporter": "python",
      "pygments_lexer": "ipython3",
      "version": "3.11.5"
    }
  },
  "nbformat": 4,
  "nbformat_minor": 2
}
