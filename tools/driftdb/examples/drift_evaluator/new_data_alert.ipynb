{
 "cells": [
  {
   "cell_type": "code",
   "execution_count": 5,
   "metadata": {},
   "outputs": [
    {
     "name": "stdout",
     "output_type": "stream",
     "text": [
      "0.0.4-a1\n"
     ]
    }
   ],
   "source": [
    "from driftdb.connectors import GithubConnector\n",
    "from driftdb.version import version\n",
    "print(version)\n",
    "from dotenv import load_dotenv\n",
    "from github import Github\n",
    "import os\n",
    "import pandas as pd\n",
    "\n",
    "load_dotenv(\"../../.env\")\n",
    "\n",
    "gh_token = os.getenv(\"GH_TOKEN\")\n",
    "if gh_token is None:\n",
    "    print(\"GitHub token not found! Create a .env file a the root with a GH_TOKEN variable.\")\n",
    "    exit(1)\n",
    "github_client = Github(gh_token, timeout=60)\n",
    "repo_name = os.getenv(\"REPO\") or \"gh_org/repo\"\n",
    "github_connector = GithubConnector(github_client=github_client, github_repository_name=repo_name, assignees=[\"Sammy\"])\n"
   ]
  },
  {
   "cell_type": "code",
   "execution_count": 6,
   "metadata": {},
   "outputs": [
    {
     "name": "stderr",
     "output_type": "stream",
     "text": [
      "driftdb.connectors.github_connector - INFO - Table found. Updating it\n",
      "driftdb.connectors.github_connector - INFO - Nothing to update\n"
     ]
    }
   ],
   "source": [
    "table_name = \"test/alerts/new_data_alert\"\n",
    "\n",
    "dataMonth1 = pd.DataFrame({\"unique_key\": [\"Alice\", \"Bob\", \"Charlie\"], \"date\": [\"2022-12\",\"2023-01\",\"2023-01\"], \"age\": [25, 30, 35]})\n",
    "\n",
    "github_connector.snapshot_table(\n",
    "    table_dataframe= dataMonth1,\n",
    "    table_name= table_name,\n",
    ")"
   ]
  },
  {
   "cell_type": "code",
   "execution_count": 7,
   "metadata": {},
   "outputs": [
    {
     "name": "stderr",
     "output_type": "stream",
     "text": [
      "driftdb.connectors.github_connector - INFO - Table found. Updating it\n",
      "driftdb.connectors.github_connector - INFO - Change detected\n",
      "driftdb.connectors.github_connector - INFO - Update: NEW DATA\n"
     ]
    },
    {
     "name": "stdout",
     "output_type": "stream",
     "text": [
      "numerical_cols Index(['age'], dtype='object')\n",
      "numerical_cols Index(['age'], dtype='object')\n"
     ]
    },
    {
     "name": "stderr",
     "output_type": "stream",
     "text": [
      "driftdb.connectors.github_connector - INFO - Branch drift/2023-11-21-15-50-19/test-alerts-new-data-alert doesn't exist. Creating it...\n",
      "driftdb.connectors.github_connector - INFO - Checkout branch: drift/2023-11-21-15-50-19/test-alerts-new-data-alert from branch: main\n",
      "driftdb.connectors.github_connector - INFO - https://github.com/Samox/data-history/commit/c05c37bbd5b615062098c851f82ba2750ed55296\n",
      "driftdb.connectors.github_connector - INFO - Pull request created: https://github.com/Samox/data-history/pull/220\n",
      "driftdb.connectors.github_connector - INFO - Assignee Sammy does not exist\n"
     ]
    }
   ],
   "source": [
    "from driftdb.drift_evaluator import DefaultDriftEvaluator\n",
    "from driftdb.drift_evaluator.interface import DriftEvaluation, NewDataEvaluatorContext\n",
    "\n",
    "\n",
    "def detect_outliers(before: pd.DataFrame, after: pd.DataFrame, added_rows: pd.DataFrame):\n",
    "    old_df = before\n",
    "    new_lines = added_rows\n",
    "    outliers = pd.DataFrame()\n",
    "\n",
    "    numerical_cols = old_df.select_dtypes(include=['number']).columns\n",
    "    print(\"numerical_cols\", numerical_cols)\n",
    "    for col in numerical_cols:\n",
    "        Q1 = old_df[col].quantile(0.25)\n",
    "        Q3 = old_df[col].quantile(0.75)\n",
    "        IQR = Q3 - Q1\n",
    "\n",
    "        lower_bound = Q1 - 1.5 * IQR\n",
    "        upper_bound = Q3 + 1.5 * IQR\n",
    "\n",
    "        is_outlier = (new_lines[col] < lower_bound) | (new_lines[col] > upper_bound)\n",
    "        col_outliers = new_lines[is_outlier].copy()\n",
    "        col_outliers['Reason'] = f\"Column {col} out of boundaries\"\n",
    "        outliers = pd.concat([outliers, col_outliers])\n",
    "\n",
    "    categorical_cols = old_df.select_dtypes(include=['object', 'category']).columns\n",
    "    print(\"numerical_cols\", numerical_cols)\n",
    "    for col in categorical_cols:\n",
    "        if col == 'unique_key':\n",
    "            continue\n",
    "        if col == 'date':\n",
    "            continue\n",
    "        old_categories = set(old_df[col].unique())\n",
    "\n",
    "        new_categories = set(new_lines[col].unique()) - old_categories\n",
    "        is_new_category = new_lines[col].isin(new_categories)\n",
    "        cat_outliers = new_lines[is_new_category].copy()\n",
    "        cat_outliers['Reason'] = f\"Column {col} new unkown category\"\n",
    "\n",
    "        outliers = pd.concat([outliers, cat_outliers])\n",
    "\n",
    "\n",
    "    # Drop duplicate rows\n",
    "    outliers = outliers.drop_duplicates()\n",
    "\n",
    "    return outliers\n",
    "        \n",
    "\n",
    "class MyEvaluator(DefaultDriftEvaluator):\n",
    "    @staticmethod\n",
    "    def compute_new_data_evaluation(\n",
    "        new_data_context: NewDataEvaluatorContext,\n",
    "    ) -> DriftEvaluation:\n",
    "        outliers = detect_outliers(\n",
    "            before=new_data_context.before,\n",
    "            after=new_data_context.after,\n",
    "            added_rows=new_data_context.added_rows,)\n",
    "        if len(outliers) > 0:\n",
    "            return DriftEvaluation(should_alert=True, message=f\"Found {len(outliers)} outliers\\n {outliers.to_markdown()}\")\n",
    "        return DriftEvaluation(should_alert=False, message=\"\")\n",
    "\n",
    "dataMonth1 = pd.DataFrame({\"unique_key\": [\"Alice\", \"Bob\", \"Charlie\", \"Driss\"], \"date\": [\"2022-12\",\"2023-01\",\"2023-01\", \"2023-02\"], \"age\": [25, 30, 35, 99]})\n",
    "\n",
    "github_connector.snapshot_table(\n",
    "    table_dataframe= dataMonth1,\n",
    "    table_name= table_name,\n",
    "    drift_evaluator=MyEvaluator()\n",
    ")"
   ]
  },
  {
   "cell_type": "code",
   "execution_count": 15,
   "metadata": {},
   "outputs": [
    {
     "name": "stdout",
     "output_type": "stream",
     "text": [
      "numerical_cols Index(['age'], dtype='object')\n",
      "numerical_cols Index(['age'], dtype='object')\n"
     ]
    },
    {
     "data": {
      "text/html": [
       "<div>\n",
       "<style scoped>\n",
       "    .dataframe tbody tr th:only-of-type {\n",
       "        vertical-align: middle;\n",
       "    }\n",
       "\n",
       "    .dataframe tbody tr th {\n",
       "        vertical-align: top;\n",
       "    }\n",
       "\n",
       "    .dataframe thead th {\n",
       "        text-align: right;\n",
       "    }\n",
       "</style>\n",
       "<table border=\"1\" class=\"dataframe\">\n",
       "  <thead>\n",
       "    <tr style=\"text-align: right;\">\n",
       "      <th></th>\n",
       "      <th>unique_key</th>\n",
       "      <th>date</th>\n",
       "      <th>age</th>\n",
       "      <th>Reason</th>\n",
       "    </tr>\n",
       "  </thead>\n",
       "  <tbody>\n",
       "    <tr>\n",
       "      <th>0</th>\n",
       "      <td>Driss</td>\n",
       "      <td>2023-02-01</td>\n",
       "      <td>99</td>\n",
       "      <td>age out of boundaries</td>\n",
       "    </tr>\n",
       "  </tbody>\n",
       "</table>\n",
       "</div>"
      ],
      "text/plain": [
       "  unique_key       date  age                 Reason\n",
       "0      Driss 2023-02-01   99  age out of boundaries"
      ]
     },
     "execution_count": 15,
     "metadata": {},
     "output_type": "execute_result"
    }
   ],
   "source": [
    "before = pd.DataFrame(\n",
    "    {\"unique_key\": [\"Alice\", \"Bob\", \"Charlie\"], \"date\": [\"2022-12\", \"2023-01\", \"2023-01\"], \"age\": [25, 30, 35]}\n",
    ")\n",
    "after = pd.DataFrame(\n",
    "    {\n",
    "        \"unique_key\": [\"Alice\", \"Bob\", \"Charlie\", \"Driss\"],\n",
    "        \"date\": [\"2022-12\", \"2023-01\", \"2023-01\", \"2023-02\"],\n",
    "        \"age\": [25, 30, 35, 99],\n",
    "    }\n",
    ")\n",
    "added_row = pd.DataFrame({\"unique_key\": [\"Driss\"], \"date\": [\"2023-02\"], \"age\": [99]})\n",
    "outliers = detect_outliers(before=before, after=after, added_rows=added_row)\n",
    "outliers"
   ]
  }
 ],
 "metadata": {
  "kernelspec": {
   "display_name": "base",
   "language": "python",
   "name": "python3"
  },
  "language_info": {
   "codemirror_mode": {
    "name": "ipython",
    "version": 3
   },
   "file_extension": ".py",
   "mimetype": "text/x-python",
   "name": "python",
   "nbconvert_exporter": "python",
   "pygments_lexer": "ipython3",
   "version": "3.11.5"
  }
 },
 "nbformat": 4,
 "nbformat_minor": 2
}
