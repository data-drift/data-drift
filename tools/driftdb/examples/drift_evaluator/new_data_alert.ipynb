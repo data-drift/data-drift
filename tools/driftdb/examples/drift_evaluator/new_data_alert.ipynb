{
 "cells": [
  {
   "cell_type": "code",
   "execution_count": 3,
   "metadata": {},
   "outputs": [
    {
     "name": "stdout",
     "output_type": "stream",
     "text": [
      "0.0.4-a1\n"
     ]
    }
   ],
   "source": [
    "from driftdb.connectors import GithubConnector\n",
    "from driftdb.version import version\n",
    "print(version)\n",
    "from dotenv import load_dotenv\n",
    "from github import Github\n",
    "import os\n",
    "import pandas as pd\n",
    "\n",
    "load_dotenv(\"../../.env\")\n",
    "\n",
    "gh_token = os.getenv(\"GH_TOKEN\")\n",
    "if gh_token is None:\n",
    "    print(\"GitHub token not found! Create a .env file a the root with a GH_TOKEN variable.\")\n",
    "    exit(1)\n",
    "github_client = Github(gh_token, timeout=60)\n",
    "repo_name = os.getenv(\"REPO\") or \"gh_org/repo\"\n",
    "github_connector = GithubConnector(github_client=github_client, github_repository_name=repo_name, assignees=[\"Sammy\"])\n"
   ]
  },
  {
   "cell_type": "code",
   "execution_count": 6,
   "metadata": {},
   "outputs": [
    {
     "name": "stderr",
     "output_type": "stream",
     "text": [
      "driftdb.connectors.github_connector - INFO - Table found. Updating it\n",
      "driftdb.connectors.github_connector - INFO - Change detected\n",
      "driftdb.connectors.github_connector - INFO - Update: DRIFT\n",
      "driftdb.connectors.github_connector - INFO - https://github.com/Samox/data-history/commit/4ba55fc4c80508449feb17f1e61deef9419ad9f1\n"
     ]
    }
   ],
   "source": [
    "table_name = \"test/alerts/new_data_alert\"\n",
    "\n",
    "dataMonth1 = pd.DataFrame({\"unique_key\": [\"Alice\", \"Bob\", \"Charlie\"], \"date\": [\"2022-12\",\"2023-01\",\"2023-01\"], \"age\": [25, 30, 35]})\n",
    "\n",
    "github_connector.snapshot_table(\n",
    "    table_dataframe= dataMonth1,\n",
    "    table_name= table_name,\n",
    ")"
   ]
  },
  {
   "cell_type": "code",
   "execution_count": 7,
   "metadata": {},
   "outputs": [
    {
     "name": "stderr",
     "output_type": "stream",
     "text": [
      "driftdb.connectors.github_connector - INFO - Table found. Updating it\n",
      "driftdb.connectors.github_connector - INFO - Change detected\n",
      "driftdb.connectors.github_connector - INFO - Update: NEW DATA\n"
     ]
    },
    {
     "name": "stdout",
     "output_type": "stream",
     "text": [
      "<driftdb.drift_evaluator.interface.NewDataEvaluatorContext object at 0x106b0b150>\n"
     ]
    },
    {
     "name": "stderr",
     "output_type": "stream",
     "text": [
      "driftdb.connectors.github_connector - INFO - https://github.com/Samox/data-history/commit/f4820fa883f8252a1c867c52cc00353512411a75\n"
     ]
    }
   ],
   "source": [
    "from driftdb.drift_evaluator import DefaultDriftEvaluator\n",
    "from driftdb.drift_evaluator.interface import DriftEvaluation, NewDataEvaluatorContext\n",
    "\n",
    "class MyEvaluator(DefaultDriftEvaluator):\n",
    "    @staticmethod\n",
    "    def compute_new_data_evaluation(\n",
    "        new_data_context: NewDataEvaluatorContext,\n",
    "    ) -> DriftEvaluation:\n",
    "        print(new_data_context)\n",
    "        return DriftEvaluation(should_alert=False, message=\"\")\n",
    "\n",
    "dataMonth1 = pd.DataFrame({\"unique_key\": [\"Alice\", \"Bob\", \"Charlie\", \"Driss\"], \"date\": [\"2022-12\",\"2023-01\",\"2023-01\", \"2023-02\"], \"age\": [25, 30, 35, 24]})\n",
    "\n",
    "github_connector.snapshot_table(\n",
    "    table_dataframe= dataMonth1,\n",
    "    table_name= table_name,\n",
    "    drift_evaluator=MyEvaluator()\n",
    ")"
   ]
  }
 ],
 "metadata": {
  "kernelspec": {
   "display_name": "base",
   "language": "python",
   "name": "python3"
  },
  "language_info": {
   "codemirror_mode": {
    "name": "ipython",
    "version": 3
   },
   "file_extension": ".py",
   "mimetype": "text/x-python",
   "name": "python",
   "nbconvert_exporter": "python",
   "pygments_lexer": "ipython3",
   "version": "3.11.5"
  }
 },
 "nbformat": 4,
 "nbformat_minor": 2
}
