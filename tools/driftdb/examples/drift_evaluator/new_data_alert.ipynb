{
 "cells": [
  {
   "cell_type": "code",
   "execution_count": 1,
   "metadata": {},
   "outputs": [
    {
     "name": "stdout",
     "output_type": "stream",
     "text": [
      "0.0.10-a5\n"
     ]
    },
    {
     "name": "stderr",
     "output_type": "stream",
     "text": [
      "driftdb.connectors.github_connector - WARNING - Assignee Sammy does not exist\n"
     ]
    }
   ],
   "source": [
    "from driftdb.connectors import GithubConnector\n",
    "from driftdb.version import version\n",
    "print(version)\n",
    "from dotenv import load_dotenv\n",
    "from github import Github\n",
    "import os\n",
    "import pandas as pd\n",
    "\n",
    "load_dotenv(\"../../.env\")\n",
    "\n",
    "gh_token = os.getenv(\"GH_TOKEN\")\n",
    "if gh_token is None:\n",
    "    print(\"GitHub token not found! Create a .env file a the root with a GH_TOKEN variable.\")\n",
    "    exit(1)\n",
    "github_client = Github(gh_token, timeout=60)\n",
    "repo_name = os.getenv(\"REPO\") or \"gh_org/repo\"\n",
    "github_connector = GithubConnector(github_client=github_client, github_repository_name=repo_name, assignees=[\"Sammy\"])\n"
   ]
  },
  {
   "cell_type": "code",
   "execution_count": 2,
   "metadata": {},
   "outputs": [
    {
     "name": "stderr",
     "output_type": "stream",
     "text": [
      "driftdb.connectors.github_connector - INFO - Table found. Updating it\n",
      "driftdb.connectors.github_connector - INFO - Change detected\n",
      "driftdb.connectors.github_connector - INFO - Update: DRIFT\n",
      "driftdb.connectors.github_connector - INFO - https://github.com/Samox/data-history/commit/e67dd4516331c58dfd3a813487282c1595ceaea7\n"
     ]
    }
   ],
   "source": [
    "table_name = \"test/alerts/new_data_alert2\"\n",
    "\n",
    "dataMonth1 = pd.DataFrame({\"unique_key\": [\"Alice\", \"Bob\", \"Charlie\"], \"date\": [\"2022-12\",\"2023-01\",\"2023-01\"], \"age\": [25, 30, 35]})\n",
    "\n",
    "github_connector.snapshot_table(\n",
    "    table_dataframe= dataMonth1,\n",
    "    table_name= table_name,\n",
    ")"
   ]
  },
  {
   "cell_type": "code",
   "execution_count": 3,
   "metadata": {},
   "outputs": [
    {
     "name": "stderr",
     "output_type": "stream",
     "text": [
      "driftdb.connectors.github_connector - INFO - Table found. Updating it\n",
      "driftdb.connectors.github_connector - INFO - Change detected\n",
      "driftdb.connectors.github_connector - INFO - Update: NEW DATA\n",
      "driftdb.connectors.github_connector - INFO - https://github.com/Samox/data-history/commit/312bae2b66e5d9f9d3bc42814b63b2d33e0b71e5\n",
      "driftdb.connectors.github_connector - INFO - Issue created: https://github.com/Samox/data-history/issues/257\n"
     ]
    }
   ],
   "source": [
    "from driftdb.alerting import DetectOutlierHandlerFactory\n",
    "new_data_handler = DetectOutlierHandlerFactory(numerical_cols=[\"age\"], categorical_cols=[])\n",
    "\n",
    "dataMonth1 = pd.DataFrame({\"unique_key\": [\"Alice\", \"Bob\", \"Charlie\", \"Driss\"], \"date\": [\"2022-12\",\"2023-01\",\"2023-01\", \"2023-02\"], \"age\": [25, 30, 35, 99]})\n",
    "\n",
    "github_connector.snapshot_table(\n",
    "    table_dataframe= dataMonth1,\n",
    "    table_name= table_name,\n",
    "    new_data_handler=new_data_handler\n",
    ")"
   ]
  },
  {
   "cell_type": "code",
   "execution_count": 4,
   "metadata": {},
   "outputs": [
    {
     "ename": "NameError",
     "evalue": "name 'detect_outliers' is not defined",
     "output_type": "error",
     "traceback": [
      "\u001b[0;31m---------------------------------------------------------------------------\u001b[0m",
      "\u001b[0;31mNameError\u001b[0m                                 Traceback (most recent call last)",
      "Cell \u001b[0;32mIn[4], line 12\u001b[0m\n\u001b[1;32m      4\u001b[0m after \u001b[38;5;241m=\u001b[39m pd\u001b[38;5;241m.\u001b[39mDataFrame(\n\u001b[1;32m      5\u001b[0m     {\n\u001b[1;32m      6\u001b[0m         \u001b[38;5;124m\"\u001b[39m\u001b[38;5;124munique_key\u001b[39m\u001b[38;5;124m\"\u001b[39m: [\u001b[38;5;124m\"\u001b[39m\u001b[38;5;124mAlice\u001b[39m\u001b[38;5;124m\"\u001b[39m, \u001b[38;5;124m\"\u001b[39m\u001b[38;5;124mBob\u001b[39m\u001b[38;5;124m\"\u001b[39m, \u001b[38;5;124m\"\u001b[39m\u001b[38;5;124mCharlie\u001b[39m\u001b[38;5;124m\"\u001b[39m, \u001b[38;5;124m\"\u001b[39m\u001b[38;5;124mDriss\u001b[39m\u001b[38;5;124m\"\u001b[39m],\n\u001b[0;32m   (...)\u001b[0m\n\u001b[1;32m      9\u001b[0m     }\n\u001b[1;32m     10\u001b[0m )\n\u001b[1;32m     11\u001b[0m added_row \u001b[38;5;241m=\u001b[39m pd\u001b[38;5;241m.\u001b[39mDataFrame({\u001b[38;5;124m\"\u001b[39m\u001b[38;5;124munique_key\u001b[39m\u001b[38;5;124m\"\u001b[39m: [\u001b[38;5;124m\"\u001b[39m\u001b[38;5;124mDriss\u001b[39m\u001b[38;5;124m\"\u001b[39m], \u001b[38;5;124m\"\u001b[39m\u001b[38;5;124mdate\u001b[39m\u001b[38;5;124m\"\u001b[39m: [\u001b[38;5;124m\"\u001b[39m\u001b[38;5;124m2023-02\u001b[39m\u001b[38;5;124m\"\u001b[39m], \u001b[38;5;124m\"\u001b[39m\u001b[38;5;124mage\u001b[39m\u001b[38;5;124m\"\u001b[39m: [\u001b[38;5;241m99\u001b[39m]})\n\u001b[0;32m---> 12\u001b[0m outliers \u001b[38;5;241m=\u001b[39m detect_outliers(before\u001b[38;5;241m=\u001b[39mbefore, after\u001b[38;5;241m=\u001b[39mafter, added_rows\u001b[38;5;241m=\u001b[39madded_row)\n\u001b[1;32m     13\u001b[0m outliers\n",
      "\u001b[0;31mNameError\u001b[0m: name 'detect_outliers' is not defined"
     ]
    }
   ],
   "source": [
    "before = pd.DataFrame(\n",
    "    {\"unique_key\": [\"Alice\", \"Bob\", \"Charlie\"], \"date\": [\"2022-12\", \"2023-01\", \"2023-01\"], \"age\": [25, 30, 35]}\n",
    ")\n",
    "after = pd.DataFrame(\n",
    "    {\n",
    "        \"unique_key\": [\"Alice\", \"Bob\", \"Charlie\", \"Driss\"],\n",
    "        \"date\": [\"2022-12\", \"2023-01\", \"2023-01\", \"2023-02\"],\n",
    "        \"age\": [25, 30, 35, 99],\n",
    "    }\n",
    ")\n",
    "added_row = pd.DataFrame({\"unique_key\": [\"Driss\"], \"date\": [\"2023-02\"], \"age\": [99]})\n",
    "outliers = detect_outliers(before=before, after=after, added_rows=added_row)\n",
    "outliers"
   ]
  }
 ],
 "metadata": {
  "kernelspec": {
   "display_name": "base",
   "language": "python",
   "name": "python3"
  },
  "language_info": {
   "codemirror_mode": {
    "name": "ipython",
    "version": 3
   },
   "file_extension": ".py",
   "mimetype": "text/x-python",
   "name": "python",
   "nbconvert_exporter": "python",
   "pygments_lexer": "ipython3",
   "version": "3.11.5"
  }
 },
 "nbformat": 4,
 "nbformat_minor": 2
}
