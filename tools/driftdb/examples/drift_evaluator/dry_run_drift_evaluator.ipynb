{
  "cells": [
    {
      "cell_type": "code",
      "execution_count": 1,
      "metadata": {},
      "outputs": [],
      "source": [
        "from driftdb.alerting import run_new_data_evaluator, DetectOutlierHandlerFactory, run_drift_evaluator\n",
        "from dotenv import load_dotenv\n",
        "from github import Github\n",
        "import os\n",
        "\n",
        "load_dotenv(\"../../.env\")\n",
        "gh_token = os.getenv(\"GH_TOKEN\")\n",
        "gh_client = Github(gh_token)\n",
        "repo = os.getenv(\"REPO\") or \"gh_org/repo\"\n",
        "commit_sha = \"221dd8f4473ee14eb65958923cb74f2ff8d6463e\"\n",
        "new_data_handler = DetectOutlierHandlerFactory(numerical_cols=[\"age\"], categorical_cols=[])\n",
        "\n",
        "# drift = run_new_data_evaluator(gh_client=gh_client, repo_name=repo, commit_sha=commit_sha, new_data_handler=new_data_handler)\n",
        "# drift.message"
      ]
    },
    {
      "cell_type": "code",
      "execution_count": 5,
      "metadata": {},
      "outputs": [
        {
          "name": "stdout",
          "output_type": "stream",
          "text": [
            "summary {'added_rows':                     name        date age\n",
            "unique_key                              \n",
            "2023-03-Clement  Clement  2023-03-01  45\n",
            "2023-03-Cyril      Cyril  2023-03-01  45\n",
            "2023-03-Victor    Victor  2023-03-01  46, 'deleted_rows': Empty DataFrame\n",
            "Columns: [name, date, age]\n",
            "Index: [], 'modified_rows_unique_keys': Index([], dtype='string', name='unique_key'), 'modified_patterns': Empty DataFrame\n",
            "Columns: []\n",
            "Index: []}\n"
          ]
        },
        {
          "ename": "IndexError",
          "evalue": "index 0 is out of bounds for axis 0 with size 0",
          "output_type": "error",
          "traceback": [
            "\u001b[0;31m---------------------------------------------------------------------------\u001b[0m",
            "\u001b[0;31mIndexError\u001b[0m                                Traceback (most recent call last)",
            "Cell \u001b[0;32mIn[5], line 26\u001b[0m\n\u001b[1;32m     20\u001b[0m         \u001b[38;5;28;01mreturn\u001b[39;00m DriftEvaluation(should_alert\u001b[38;5;241m=\u001b[39m\u001b[38;5;28;01mTrue\u001b[39;00m, message\u001b[38;5;241m=\u001b[39m \u001b[38;5;124m\"\u001b[39m\u001b[38;5;124mThe monthly booking drift is too high\u001b[39m\u001b[38;5;124m\"\u001b[39m)\n\u001b[1;32m     21\u001b[0m     \u001b[38;5;28;01mreturn\u001b[39;00m DriftEvaluation(should_alert\u001b[38;5;241m=\u001b[39m \u001b[38;5;28;01mFalse\u001b[39;00m, message\u001b[38;5;241m=\u001b[39m \u001b[38;5;124m\"\u001b[39m\u001b[38;5;124mSmall drift\u001b[39m\u001b[38;5;124m\"\u001b[39m)\n\u001b[0;32m---> 26\u001b[0m drift \u001b[38;5;241m=\u001b[39m run_drift_evaluator(gh_client\u001b[38;5;241m=\u001b[39mgh_client, repo_name\u001b[38;5;241m=\u001b[39mrepo, commit_sha\u001b[38;5;241m=\u001b[39mcommit_sha, drift_handler\u001b[38;5;241m=\u001b[39mcompute_drift_evaluation)\n\u001b[1;32m     27\u001b[0m \u001b[38;5;28mprint\u001b[39m(\u001b[38;5;124m\"\u001b[39m\u001b[38;5;124mlarge_drift\u001b[39m\u001b[38;5;124m\"\u001b[39m, drift)\n",
            "File \u001b[0;32m~/Documents/Projects/DataDrift/data-drift/tools/driftdb/driftdb/drift_evaluator/drift_evaluators_dry_run.py:47\u001b[0m, in \u001b[0;36mrun_drift_evaluator\u001b[0;34m(drift_handler, gh_client, repo_name, commit_sha)\u001b[0m\n\u001b[1;32m     41\u001b[0m \u001b[38;5;66;03m#  run drift evaluator\u001b[39;00m\n\u001b[1;32m     42\u001b[0m data_drift_context \u001b[38;5;241m=\u001b[39m DriftEvaluatorContext(\n\u001b[1;32m     43\u001b[0m     before\u001b[38;5;241m=\u001b[39mold_dataframe,\n\u001b[1;32m     44\u001b[0m     after\u001b[38;5;241m=\u001b[39mnew_dataframe,\n\u001b[1;32m     45\u001b[0m     summary\u001b[38;5;241m=\u001b[39mdrift_summary,\n\u001b[1;32m     46\u001b[0m )\n\u001b[0;32m---> 47\u001b[0m drift_evaluation \u001b[38;5;241m=\u001b[39m drift_handler(data_drift_context)\n\u001b[1;32m     48\u001b[0m \u001b[38;5;28;01mreturn\u001b[39;00m drift_evaluation\n",
            "Cell \u001b[0;32mIn[5], line 13\u001b[0m, in \u001b[0;36mcompute_drift_evaluation\u001b[0;34m(data_drift_context)\u001b[0m\n\u001b[1;32m     11\u001b[0m deletions \u001b[38;5;241m=\u001b[39m data_drift_context\u001b[38;5;241m.\u001b[39msummary[\u001b[38;5;124m\"\u001b[39m\u001b[38;5;124mdeleted_rows\u001b[39m\u001b[38;5;124m\"\u001b[39m]\n\u001b[1;32m     12\u001b[0m diff \u001b[38;5;241m=\u001b[39m data_drift_context\u001b[38;5;241m.\u001b[39msummary[\u001b[38;5;124m\"\u001b[39m\u001b[38;5;124mmodified_patterns\u001b[39m\u001b[38;5;124m\"\u001b[39m]\n\u001b[0;32m---> 13\u001b[0m diff_column \u001b[38;5;241m=\u001b[39m diff\u001b[38;5;241m.\u001b[39mcolumns[\u001b[38;5;241m0\u001b[39m][\u001b[38;5;241m0\u001b[39m]\n\u001b[1;32m     14\u001b[0m diff \u001b[38;5;241m=\u001b[39m diff\u001b[38;5;241m.\u001b[39mapply(pd\u001b[38;5;241m.\u001b[39mto_numeric)  \u001b[38;5;66;03m# Convert the values in the diff dataframe to numeric values\u001b[39;00m\n\u001b[1;32m     16\u001b[0m \u001b[38;5;28mprint\u001b[39m(\u001b[38;5;124m\"\u001b[39m\u001b[38;5;124mcomputing the diff\u001b[39m\u001b[38;5;124m\"\u001b[39m)\n",
            "File \u001b[0;32m/opt/homebrew/Caskroom/miniconda/base/lib/python3.11/site-packages/pandas/core/indexes/base.py:5320\u001b[0m, in \u001b[0;36mIndex.__getitem__\u001b[0;34m(self, key)\u001b[0m\n\u001b[1;32m   5317\u001b[0m \u001b[38;5;28;01mif\u001b[39;00m is_integer(key) \u001b[38;5;129;01mor\u001b[39;00m is_float(key):\n\u001b[1;32m   5318\u001b[0m     \u001b[38;5;66;03m# GH#44051 exclude bool, which would return a 2d ndarray\u001b[39;00m\n\u001b[1;32m   5319\u001b[0m     key \u001b[38;5;241m=\u001b[39m com\u001b[38;5;241m.\u001b[39mcast_scalar_indexer(key, warn_float\u001b[38;5;241m=\u001b[39m\u001b[38;5;28;01mTrue\u001b[39;00m)\n\u001b[0;32m-> 5320\u001b[0m     \u001b[38;5;28;01mreturn\u001b[39;00m getitem(key)\n\u001b[1;32m   5322\u001b[0m \u001b[38;5;28;01mif\u001b[39;00m \u001b[38;5;28misinstance\u001b[39m(key, \u001b[38;5;28mslice\u001b[39m):\n\u001b[1;32m   5323\u001b[0m     \u001b[38;5;66;03m# This case is separated from the conditional above to avoid\u001b[39;00m\n\u001b[1;32m   5324\u001b[0m     \u001b[38;5;66;03m# pessimization com.is_bool_indexer and ndim checks.\u001b[39;00m\n\u001b[1;32m   5325\u001b[0m     result \u001b[38;5;241m=\u001b[39m getitem(key)\n",
            "\u001b[0;31mIndexError\u001b[0m: index 0 is out of bounds for axis 0 with size 0"
          ]
        }
      ],
      "source": [
        "from driftdb.alerting import DriftEvaluatorContext, DriftEvaluation\n",
        "import pandas as pd\n",
        "\n",
        "def compute_drift_evaluation(data_drift_context: DriftEvaluatorContext)-> DriftEvaluation:\n",
        "    new_dataframe =  data_drift_context.after\n",
        "    old_dataframe =  data_drift_context.before\n",
        "    print(\"summary\", data_drift_context.summary)\n",
        "    if data_drift_context.summary == None:\n",
        "        return DriftEvaluation(should_alert= False, message=\"No summary\")\n",
        "    additions = data_drift_context.summary[\"added_rows\"]\n",
        "    deletions = data_drift_context.summary[\"deleted_rows\"]\n",
        "    diff = data_drift_context.summary[\"modified_patterns\"]\n",
        "    diff_column = diff.columns[0][0]\n",
        "    diff = diff.apply(pd.to_numeric)  # Convert the values in the diff dataframe to numeric values\n",
        "    \n",
        "    print(\"computing the diff\")\n",
        "    monthly_booking_drift = diff[(diff_column, \"other\")] - diff[(diff_column, \"self\")]\n",
        "    print(\"monthly_booking_drift\", monthly_booking_drift)\n",
        "    if(monthly_booking_drift > 1000).any():\n",
        "        return DriftEvaluation(should_alert=True, message= \"The monthly booking drift is too high\")\n",
        "    return DriftEvaluation(should_alert= False, message= \"Small drift\")\n",
        "\n",
        "\n",
        "\n",
        "\n",
        "drift = run_drift_evaluator(gh_client=gh_client, repo_name=repo, commit_sha=commit_sha, drift_handler=compute_drift_evaluation)\n",
        "print(\"large_drift\", drift)"
      ]
    },
    {
      "cell_type": "code",
      "execution_count": 4,
      "metadata": {},
      "outputs": [
        {
          "data": {
            "text/plain": [
              "\"Found 2 outliers\\n |    | unique_keys         | column   |   old_value |   new_value |           pattern_id |\\n|---:|:--------------------|:---------|------------:|------------:|---------------------:|\\n|  0 | ['2023-01-Charlie'] | age      |          35 |          36 |  6067053025090607954 |\\n|  1 | ['2023-02-Philipe'] | age      |          40 |          42 | -1500446248922248707 |\""
            ]
          },
          "execution_count": 4,
          "metadata": {},
          "output_type": "execute_result"
        }
      ],
      "source": [
        "from driftdb.alerting import TresholdDriftHandlerFactory\n",
        "\n",
        "treshold_handler = TresholdDriftHandlerFactory(treshold=0.01, numerical_cols=[\"age\"])\n",
        "\n",
        "drift = run_drift_evaluator(gh_client=gh_client, repo_name=repo, commit_sha=commit_sha, drift_handler=treshold_handler)\n",
        "drift.message"
      ]
    }
  ],
  "metadata": {
    "kernelspec": {
      "display_name": "base",
      "language": "python",
      "name": "python3"
    },
    "language_info": {
      "codemirror_mode": {
        "name": "ipython",
        "version": 3
      },
      "file_extension": ".py",
      "mimetype": "text/x-python",
      "name": "python",
      "nbconvert_exporter": "python",
      "pygments_lexer": "ipython3",
      "version": "3.11.5"
    }
  },
  "nbformat": 4,
  "nbformat_minor": 2
}
