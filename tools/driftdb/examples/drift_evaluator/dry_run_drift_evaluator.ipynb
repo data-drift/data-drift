{
  "cells": [
    {
      "cell_type": "code",
      "execution_count": 1,
      "metadata": {},
      "outputs": [
        {
          "data": {
            "text/plain": [
              "<driftdb.drift_evaluator.interface.DriftEvaluation at 0x1169339d0>"
            ]
          },
          "execution_count": 1,
          "metadata": {},
          "output_type": "execute_result"
        }
      ],
      "source": [
        "from driftdb.drift_evaluator import run_new_data_evaluator, DetectOutlierNewDataEvaluator\n",
        "from dotenv import load_dotenv\n",
        "from github import Github\n",
        "import os\n",
        "\n",
        "\n",
        "\n",
        "\n",
        "load_dotenv(\"../../.env\")\n",
        "gh_token = os.getenv(\"GH_TOKEN\")\n",
        "gh_client = Github(gh_token)\n",
        "repo = os.getenv(\"REPO\") or \"gh_org/repo\"\n",
        "commit_sha = \"8e1edb9b7b518aed0529a973d14cc7f8e4532529\"\n",
        "drift_evaluator = DetectOutlierNewDataEvaluator(numerical_cols=[\"age\"], categorical_cols=[])\n",
        "\n",
        "drift = run_new_data_evaluator(gh_client=gh_client, repo_name=repo, commit_sha=commit_sha, drift_evaluator=drift_evaluator)\n",
        "drift"
      ]
    },
    {
      "cell_type": "code",
      "execution_count": null,
      "metadata": {},
      "outputs": [
        {
          "ename": "NameError",
          "evalue": "name 'DefaultDriftEvaluator' is not defined",
          "output_type": "error",
          "traceback": [
            "\u001b[0;31m---------------------------------------------------------------------------\u001b[0m",
            "\u001b[0;31mNameError\u001b[0m                                 Traceback (most recent call last)",
            "\u001b[1;32m/Users/sammyteillet/Documents/Projects/DataDrift/data-drift/tools/driftdb/examples/drift_evaluator/dry_run_drift_evaluator.ipynb Cell 2\u001b[0m line \u001b[0;36m5\n\u001b[1;32m      <a href='vscode-notebook-cell:/Users/sammyteillet/Documents/Projects/DataDrift/data-drift/tools/driftdb/examples/drift_evaluator/dry_run_drift_evaluator.ipynb#W1sZmlsZQ%3D%3D?line=1'>2</a>\u001b[0m \u001b[39mfrom\u001b[39;00m \u001b[39mdriftdb\u001b[39;00m\u001b[39m.\u001b[39;00m\u001b[39mdrift_evaluator\u001b[39;00m\u001b[39m.\u001b[39;00m\u001b[39minterface\u001b[39;00m \u001b[39mimport\u001b[39;00m DriftEvaluatorContext, DriftEvaluation\n\u001b[1;32m      <a href='vscode-notebook-cell:/Users/sammyteillet/Documents/Projects/DataDrift/data-drift/tools/driftdb/examples/drift_evaluator/dry_run_drift_evaluator.ipynb#W1sZmlsZQ%3D%3D?line=2'>3</a>\u001b[0m \u001b[39mimport\u001b[39;00m \u001b[39mpandas\u001b[39;00m \u001b[39mas\u001b[39;00m \u001b[39mpd\u001b[39;00m\n\u001b[0;32m----> <a href='vscode-notebook-cell:/Users/sammyteillet/Documents/Projects/DataDrift/data-drift/tools/driftdb/examples/drift_evaluator/dry_run_drift_evaluator.ipynb#W1sZmlsZQ%3D%3D?line=4'>5</a>\u001b[0m \u001b[39mclass\u001b[39;00m \u001b[39mMyDriftEvaluator\u001b[39;00m(DefaultDriftEvaluator):\n\u001b[1;32m      <a href='vscode-notebook-cell:/Users/sammyteillet/Documents/Projects/DataDrift/data-drift/tools/driftdb/examples/drift_evaluator/dry_run_drift_evaluator.ipynb#W1sZmlsZQ%3D%3D?line=5'>6</a>\u001b[0m     \u001b[39m@staticmethod\u001b[39m\n\u001b[1;32m      <a href='vscode-notebook-cell:/Users/sammyteillet/Documents/Projects/DataDrift/data-drift/tools/driftdb/examples/drift_evaluator/dry_run_drift_evaluator.ipynb#W1sZmlsZQ%3D%3D?line=6'>7</a>\u001b[0m     \u001b[39mdef\u001b[39;00m \u001b[39mcompute_drift_evaluation\u001b[39m(data_drift_context: DriftEvaluatorContext)\u001b[39m-\u001b[39m\u001b[39m>\u001b[39m DriftEvaluation:\n\u001b[1;32m      <a href='vscode-notebook-cell:/Users/sammyteillet/Documents/Projects/DataDrift/data-drift/tools/driftdb/examples/drift_evaluator/dry_run_drift_evaluator.ipynb#W1sZmlsZQ%3D%3D?line=7'>8</a>\u001b[0m         new_dataframe \u001b[39m=\u001b[39m  data_drift_context\u001b[39m.\u001b[39mafter\n",
            "\u001b[0;31mNameError\u001b[0m: name 'DefaultDriftEvaluator' is not defined"
          ]
        }
      ],
      "source": [
        "from driftdb.drift_evaluator.drift_evaluators import BaseDriftEvaluator\n",
        "from driftdb.drift_evaluator.interface import DriftEvaluatorContext, DriftEvaluation\n",
        "import pandas as pd\n",
        "\n",
        "class MyDriftEvaluator(DefaultDriftEvaluator):\n",
        "    @staticmethod\n",
        "    def compute_drift_evaluation(data_drift_context: DriftEvaluatorContext)-> DriftEvaluation:\n",
        "        new_dataframe =  data_drift_context.after\n",
        "        old_dataframe =  data_drift_context.before\n",
        "        print(\"summary\", data_drift_context.summary)\n",
        "        if data_drift_context.summary == None:\n",
        "            return DriftEvaluation(should_alert= False, message=\"No summary\")\n",
        "        additions = data_drift_context.summary[\"added_rows\"]\n",
        "        deletions = data_drift_context.summary[\"deleted_rows\"]\n",
        "        diff = data_drift_context.summary[\"modified_patterns\"]\n",
        "        diff_column = diff.columns[0][0]\n",
        "        diff = diff.apply(pd.to_numeric)  # Convert the values in the diff dataframe to numeric values\n",
        "        \n",
        "        print(\"computing the diff\")\n",
        "        monthly_booking_drift = diff[(diff_column, \"other\")] - diff[(diff_column, \"self\")]\n",
        "        print(\"monthly_booking_drift\", monthly_booking_drift)\n",
        "        if(monthly_booking_drift > 1000).any():\n",
        "            return DriftEvaluation(should_alert=True, message= \"The monthly booking drift is too high\")\n",
        "        return DriftEvaluation(should_alert= False, message= \"Small drift\")\n",
        "    \n",
        "\n",
        "\n",
        "\n",
        "drift = run_drift_evaluator(gh_client=gh_client, repo_name=repo, commit_sha=commit_sha, drift_evaluator=MyDriftEvaluator())\n",
        "print(\"large_drift\", drift)"
      ]
    },
    {
      "cell_type": "code",
      "execution_count": null,
      "metadata": {},
      "outputs": [],
      "source": [
        "import json\n",
        "import pandas as pd \n",
        "\n",
        "coucou = pd.Index(['2023-01-Charlie'])"
      ]
    }
  ],
  "metadata": {
    "kernelspec": {
      "display_name": "base",
      "language": "python",
      "name": "python3"
    },
    "language_info": {
      "codemirror_mode": {
        "name": "ipython",
        "version": 3
      },
      "file_extension": ".py",
      "mimetype": "text/x-python",
      "name": "python",
      "nbconvert_exporter": "python",
      "pygments_lexer": "ipython3",
      "version": "3.11.5"
    }
  },
  "nbformat": 4,
  "nbformat_minor": 2
}
