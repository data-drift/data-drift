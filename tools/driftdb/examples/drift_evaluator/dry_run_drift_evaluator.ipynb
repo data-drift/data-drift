{
  "cells": [
    {
      "cell_type": "code",
      "execution_count": 1,
      "metadata": {},
      "outputs": [
        {
          "data": {
            "text/plain": [
              "{'should_alert': False,\n",
              " 'message': 'Drift detected:\\n- 🆕 0 addition\\n- ♻️ 2 modifications\\n- 🗑️ 0 deletion'}"
            ]
          },
          "execution_count": 1,
          "metadata": {},
          "output_type": "execute_result"
        }
      ],
      "source": [
        "from driftdb.drift_evaluator import run_drift_evaluator, DefaultDriftEvaluator\n",
        "from dotenv import load_dotenv\n",
        "from github import Github\n",
        "import os\n",
        "\n",
        "\n",
        "load_dotenv(\"../../.env\")\n",
        "gh_token = os.getenv(\"GH_TOKEN\")\n",
        "gh_client = Github(gh_token)\n",
        "repo = os.getenv(\"REPO\") or \"gh_org/repo\"\n",
        "commit_sha = \"db23b8ac7548eca81e76d55400b8b582b7e16bf1\"\n",
        "\n",
        "drift = run_drift_evaluator(gh_client=gh_client, repo_name=repo, commit_sha=commit_sha, drift_evaluator=DefaultDriftEvaluator())\n",
        "drift"
      ]
    },
    {
      "cell_type": "code",
      "execution_count": 2,
      "metadata": {},
      "outputs": [
        {
          "name": "stderr",
          "output_type": "stream",
          "text": [
            "driftdb.drift_evaluator.drift_evaluators_dry_run - WARNING - Drift evaluator failed: Invalid object type at position 0\n"
          ]
        },
        {
          "name": "stdout",
          "output_type": "stream",
          "text": [
            "summary {'added_rows': Empty DataFrame\n",
            "Columns: [name, date, age]\n",
            "Index: [], 'deleted_rows': Empty DataFrame\n",
            "Columns: [name, date, age]\n",
            "Index: [], 'modified_rows_unique_keys': Index(['['2023-01-Charlie'', ' '2023-02-Philipe']'], dtype='object'), 'modified_patterns':          unique_keys column  old_value  new_value           pattern_id\n",
            "0  [2023-01-Charlie]    age         35         36  8919565425528647957\n",
            "1  [2023-02-Philipe]    age         40         42 -2274900585711107816}\n",
            "large_drift None\n"
          ]
        },
        {
          "name": "stderr",
          "output_type": "stream",
          "text": [
            "Traceback (most recent call last):\n",
            "  File \"pandas/_libs/lib.pyx\", line 2369, in pandas._libs.lib.maybe_convert_numeric\n",
            "TypeError: Invalid object type\n",
            "\n",
            "During handling of the above exception, another exception occurred:\n",
            "\n",
            "Traceback (most recent call last):\n",
            "  File \"/Users/sammyteillet/Documents/Projects/DataDrift/data-drift/tools/driftdb/driftdb/drift_evaluator/drift_evaluators_dry_run.py\", line 60, in run_drift_evaluator\n",
            "    drift_evaluation = drift_evaluator.compute_drift_evaluation(data_drift_context)\n",
            "                       ^^^^^^^^^^^^^^^^^^^^^^^^^^^^^^^^^^^^^^^^^^^^^^^^^^^^^^^^^^^^\n",
            "  File \"/var/folders/9r/55k5q9b53676pnrpch95mjlc0000gn/T/ipykernel_89212/503827201.py\", line 17, in compute_drift_evaluation\n",
            "    diff = diff.apply(pd.to_numeric)  # Convert the values in the diff dataframe to numeric values\n",
            "           ^^^^^^^^^^^^^^^^^^^^^^^^^\n",
            "  File \"/opt/homebrew/Caskroom/miniconda/base/lib/python3.11/site-packages/pandas/core/frame.py\", line 9568, in apply\n",
            "    return op.apply().__finalize__(self, method=\"apply\")\n",
            "           ^^^^^^^^^^\n",
            "  File \"/opt/homebrew/Caskroom/miniconda/base/lib/python3.11/site-packages/pandas/core/apply.py\", line 764, in apply\n",
            "    return self.apply_standard()\n",
            "           ^^^^^^^^^^^^^^^^^^^^^\n",
            "  File \"/opt/homebrew/Caskroom/miniconda/base/lib/python3.11/site-packages/pandas/core/apply.py\", line 891, in apply_standard\n",
            "    results, res_index = self.apply_series_generator()\n",
            "                         ^^^^^^^^^^^^^^^^^^^^^^^^^^^^^\n",
            "  File \"/opt/homebrew/Caskroom/miniconda/base/lib/python3.11/site-packages/pandas/core/apply.py\", line 907, in apply_series_generator\n",
            "    results[i] = self.f(v)\n",
            "                 ^^^^^^^^^\n",
            "  File \"/opt/homebrew/Caskroom/miniconda/base/lib/python3.11/site-packages/pandas/core/tools/numeric.py\", line 185, in to_numeric\n",
            "    values, _ = lib.maybe_convert_numeric(\n",
            "                ^^^^^^^^^^^^^^^^^^^^^^^^^^\n",
            "  File \"pandas/_libs/lib.pyx\", line 2411, in pandas._libs.lib.maybe_convert_numeric\n",
            "TypeError: Invalid object type at position 0\n"
          ]
        }
      ],
      "source": [
        "from driftdb.drift_evaluator import DriftEvaluatorAbstractClass\n",
        "from driftdb.drift_evaluator.interface import DriftEvaluatorContext, DriftEvaluation\n",
        "import pandas as pd\n",
        "\n",
        "class MyDriftEvaluator(DriftEvaluatorAbstractClass):\n",
        "    @staticmethod\n",
        "    def compute_drift_evaluation(data_drift_context: DriftEvaluatorContext)-> DriftEvaluation:\n",
        "        new_dataframe =  data_drift_context[\"after\"]\n",
        "        old_dataframe =  data_drift_context[\"before\"]\n",
        "        print(\"summary\", data_drift_context[\"summary\"])\n",
        "        if data_drift_context[\"summary\"] == None:\n",
        "            return {\"should_alert\": False, \"message\": \"No summary\"}\n",
        "        additions = data_drift_context[\"summary\"][\"added_rows\"]\n",
        "        deletions = data_drift_context[\"summary\"][\"deleted_rows\"]\n",
        "        diff = data_drift_context[\"summary\"][\"modified_patterns\"]\n",
        "        diff_column = diff.columns[0][0]\n",
        "        diff = diff.apply(pd.to_numeric)  # Convert the values in the diff dataframe to numeric values\n",
        "        \n",
        "        print(\"computing the diff\")\n",
        "        monthly_booking_drift = diff[(diff_column, \"other\")] - diff[(diff_column, \"self\")]\n",
        "        print(\"monthly_booking_drift\", monthly_booking_drift)\n",
        "        if(monthly_booking_drift > 1000).any():\n",
        "            return {\"should_alert\": True, \"message\": \"The monthly booking drift is too high\"}\n",
        "        return {\"should_alert\": False, \"message\": \"Small drift\"}\n",
        "    \n",
        "\n",
        "\n",
        "\n",
        "drift = run_drift_evaluator(gh_client=gh_client, repo_name=repo, commit_sha=commit_sha, drift_evaluator=MyDriftEvaluator())\n",
        "print(\"large_drift\", drift)"
      ]
    },
    {
      "cell_type": "code",
      "execution_count": 3,
      "metadata": {},
      "outputs": [],
      "source": [
        "import json\n",
        "import pandas as pd \n",
        "\n",
        "coucou = pd.Index(['2023-01-Charlie'])"
      ]
    }
  ],
  "metadata": {
    "kernelspec": {
      "display_name": "base",
      "language": "python",
      "name": "python3"
    },
    "language_info": {
      "codemirror_mode": {
        "name": "ipython",
        "version": 3
      },
      "file_extension": ".py",
      "mimetype": "text/x-python",
      "name": "python",
      "nbconvert_exporter": "python",
      "pygments_lexer": "ipython3",
      "version": "3.11.5"
    }
  },
  "nbformat": 4,
  "nbformat_minor": 2
}
