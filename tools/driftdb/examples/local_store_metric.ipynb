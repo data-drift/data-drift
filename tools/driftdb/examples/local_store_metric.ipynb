{
 "cells": [
  {
   "cell_type": "code",
   "execution_count": 2,
   "metadata": {},
   "outputs": [],
   "source": [
    "import sys\n",
    "sys.path.append('..')\n",
    "import importlib\n",
    "\n",
    "sys.path.append('.')\n",
    "from dataset import generate_dataframe\n",
    "\n",
    "dataframe = generate_dataframe(10000)\n",
    "metric_name = \"mrr_light_3\"\n",
    "\n"
   ]
  },
  {
   "cell_type": "code",
   "execution_count": 3,
   "metadata": {},
   "outputs": [
    {
     "name": "stdout",
     "output_type": "stream",
     "text": [
      "Storing table mrr_light_3 in db /Users/sammyteillet/.datadrift/default\n"
     ]
    }
   ],
   "source": [
    "import datagit.local_connector\n",
    "importlib.reload(datagit.local_connector)\n",
    "from datagit.local_connector import store_table\n",
    "store_table(table_name=metric_name,table_dataframe=dataframe)\n"
   ]
  },
  {
   "cell_type": "code",
   "execution_count": 4,
   "metadata": {},
   "outputs": [],
   "source": [
    "from dataset import insert_drift\n",
    "\n",
    "drifted_dataset =    insert_drift(dataframe, 10)"
   ]
  },
  {
   "cell_type": "code",
   "execution_count": 5,
   "metadata": {},
   "outputs": [
    {
     "name": "stdout",
     "output_type": "stream",
     "text": [
      "Storing table mrr_light_3 in db /Users/sammyteillet/.datadrift/default\n"
     ]
    }
   ],
   "source": [
    "store_table(table_name=metric_name,table_dataframe=dataframe)\n"
   ]
  },
  {
   "cell_type": "code",
   "execution_count": 6,
   "metadata": {},
   "outputs": [
    {
     "name": "stdout",
     "output_type": "stream",
     "text": [
      "0       13.00\n",
      "1        2.52\n",
      "2        5.58\n",
      "3        6.97\n",
      "4        3.26\n",
      "        ...  \n",
      "9995     1.86\n",
      "9996     8.55\n",
      "9997     1.73\n",
      "9998     7.29\n",
      "9999     1.11\n",
      "Name: metric_value3, Length: 10000, dtype: float64\n",
      "Storing table mrr_light_3 in db /Users/sammyteillet/.datadrift/default\n"
     ]
    }
   ],
   "source": [
    "drifted_dataset['metric_value2'] = drifted_dataset['metric_value'] + 1\n",
    "drifted_dataset.loc[0, \"metric_value\"] = 12\n",
    "drifted_dataset['metric_value3'] = (drifted_dataset['metric_value'] + 1).round(2)\n",
    "drifted_dataset.drop(columns=['metric_value2'], inplace=True)\n",
    "print(drifted_dataset['metric_value3'])\n",
    "\n",
    "store_table(table_name=metric_name,table_dataframe=dataframe)\n"
   ]
  }
 ],
 "metadata": {
  "kernelspec": {
   "display_name": "base",
   "language": "python",
   "name": "python3"
  },
  "language_info": {
   "codemirror_mode": {
    "name": "ipython",
    "version": 3
   },
   "file_extension": ".py",
   "mimetype": "text/x-python",
   "name": "python",
   "nbconvert_exporter": "python",
   "pygments_lexer": "ipython3",
   "version": "3.11.5"
  }
 },
 "nbformat": 4,
 "nbformat_minor": 2
}
