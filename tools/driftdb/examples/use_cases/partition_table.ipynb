{
  "cells": [
    {
      "cell_type": "code",
      "execution_count": 1,
      "metadata": {},
      "outputs": [
        {
          "name": "stderr",
          "output_type": "stream",
          "text": [
            "driftdb.connectors.github_connector - WARNING - Assignee Sammy does not exist\n"
          ]
        }
      ],
      "source": [
        "import sys\n",
        "from driftdb.connectors.github_connector import GithubConnector\n",
        "from dotenv import load_dotenv\n",
        "from github import Github\n",
        "import os\n",
        "\n",
        "load_dotenv(\"../../.env\")\n",
        "\n",
        "gh_token = os.getenv(\"GH_TOKEN\")\n",
        "if gh_token is None:\n",
        "    print(\"GitHub token not found! Create a .env file a the root with a GH_TOKEN variable.\")\n",
        "    exit(1)\n",
        "github_client = Github(gh_token, timeout=60)\n",
        "repo_name = os.getenv(\"REPO\") or \"gh_org/repo\"\n",
        "github_connector = GithubConnector(github_client=github_client, github_repository_name=repo_name, assignees=[\"Sammy\"])\n"
      ]
    },
    {
      "cell_type": "code",
      "execution_count": 2,
      "metadata": {},
      "outputs": [
        {
          "name": "stdout",
          "output_type": "stream",
          "text": [
            "                                 unique_key        date  metric_value  \\\n",
            "0      08b6cd5b-13aa-4fbd-ac34-d87ed2787add  2023-01-03          0.23   \n",
            "1      1fb22c21-59d7-4f6e-ba47-a7e54a4d2e5e  2023-03-19          0.41   \n",
            "2      209d6e40-a8f7-47ed-8832-70c495add816  2023-04-04          0.31   \n",
            "3      a9273006-184f-494c-8c7d-eb7332c82748  2023-03-20          9.01   \n",
            "4      6d804ede-a68e-4a06-a6ab-2f92343b96b5  2023-05-07          6.19   \n",
            "...                                     ...         ...           ...   \n",
            "59995  5d44f1dd-2ae2-4d52-ab8c-51ef8d03b320  2023-07-07          1.65   \n",
            "59996  ec22ba13-808a-4aa3-8ef1-2fab63789463  2022-12-14          8.88   \n",
            "59997  558d74f0-600d-4c56-b7ca-622ea22f2444  2023-06-07          0.31   \n",
            "59998  0dab2068-79e3-41e6-ae04-8b19691c7a8a  2023-01-26          9.75   \n",
            "59999  9fc73095-e90c-4d4a-8da8-5f9c528ad40b  2023-01-20          6.42   \n",
            "\n",
            "      country_code    category  \n",
            "0               NE  Category A  \n",
            "1               VA  Category C  \n",
            "2               AU  Category B  \n",
            "3               KN  Category B  \n",
            "4               MZ  Category A  \n",
            "...            ...         ...  \n",
            "59995           AL  Category B  \n",
            "59996           MT  Category B  \n",
            "59997           AM  Category C  \n",
            "59998           AM  Category B  \n",
            "59999           TV  Category B  \n",
            "\n",
            "[60000 rows x 5 columns]\n"
          ]
        }
      ],
      "source": [
        "import pandas as pd\n",
        "from faker import Faker\n",
        "import random\n",
        "\n",
        "fake = Faker()\n",
        "\n",
        "num_rows = 60000\n",
        "\n",
        "ids = [fake.uuid4() for _ in range(num_rows)]\n",
        "dates = [fake.date_between(start_date='-1y', end_date='-1m').strftime('%Y-%m-%d') for _ in range(num_rows)]\n",
        "\n",
        "metric_values = [round(random.uniform(0, 10),2) for _ in range(num_rows)]\n",
        "country_codes = [fake.country_code() for _ in range(num_rows)]\n",
        "categories = [random.choice(['Category A', 'Category B', 'Category C']) for _ in range(num_rows)]\n",
        "\n",
        "ultra_large_df = pd.DataFrame({'unique_key': ids, 'date': dates, 'metric_value': metric_values, 'country_code': country_codes, 'category': categories})\n",
        "\n",
        "print(ultra_large_df)\n",
        "\n"
      ]
    },
    {
      "cell_type": "code",
      "execution_count": 3,
      "metadata": {},
      "outputs": [
        {
          "name": "stderr",
          "output_type": "stream",
          "text": [
            "driftdb.connectors.github_connector - INFO - Partitionning table by month...\n",
            "driftdb.connectors.github_connector - INFO - Storing table for: 2022-12-18 00:00:00\n",
            "/Users/sammyteillet/Documents/Projects/DataDrift/data-drift/tools/driftdb/driftdb/dataframe/helpers.py:39: SettingWithCopyWarning: \n",
            "A value is trying to be set on a copy of a slice from a DataFrame.\n",
            "Try using .loc[row_indexer,col_indexer] = value instead\n",
            "\n",
            "See the caveats in the documentation: https://pandas.pydata.org/pandas-docs/stable/user_guide/indexing.html#returning-a-view-versus-a-copy\n",
            "  df[\"unique_key\"] = df[\"unique_key\"].astype(str)\n",
            "/Users/sammyteillet/Documents/Projects/DataDrift/data-drift/tools/driftdb/driftdb/dataframe/helpers.py:31: SettingWithCopyWarning: \n",
            "A value is trying to be set on a copy of a slice from a DataFrame.\n",
            "Try using .loc[row_indexer,col_indexer] = value instead\n",
            "\n",
            "See the caveats in the documentation: https://pandas.pydata.org/pandas-docs/stable/user_guide/indexing.html#returning-a-view-versus-a-copy\n",
            "  dataset[column] = formatted_dates\n"
          ]
        }
      ],
      "source": [
        "import sys\n",
        "\n",
        "## Test with file already existing and splitting new data and historical data\n",
        "table_name = \"path/to/weekly_partition_2\"\n",
        "github_connector.partition_and_snapshot_table(\n",
        "    table_dataframe= ultra_large_df,\n",
        "    table_name= table_name,\n",
        "    freq=\"W\",\n",
        ")"
      ]
    },
    {
      "cell_type": "code",
      "execution_count": null,
      "metadata": {},
      "outputs": [
        {
          "name": "stdout",
          "output_type": "stream",
          "text": [
            "[12628 37730 39991  8525  8279 51012 14871 15127  9366 33322 53390 21819\n",
            "  5026 23428 45297 26354 30195 47038 20731 34047 26064 42469 29746 14522\n",
            " 31572 54949 19368  3803 53325 14300 51301  9008 47521 25224 48921 37978\n",
            " 44171 26303 19458  5369 50291 25951 54908 56362 32218  2885 36559  8966\n",
            " 46574 10530 44628   273 19269 36911 10121 13290 57606 47189 29209 42187\n",
            " 25386 17005 10981 47313 27070  6685 54960 58125 40700 13902 31539 49716\n",
            " 49519 51923  3502 39336  2218 18505 10689 21377  1866 20192 28870 52203\n",
            "  3867  3222 21785 20984 48539 40694  8440  9951  1334 32572 28344 46503\n",
            " 34482 36271 36874 11512]\n"
          ]
        }
      ],
      "source": [
        "import numpy as np\n",
        "\n",
        "# Set the seed for reproducibility\n",
        "np.random.seed(42)\n",
        "\n",
        "ultra_large_df2 = ultra_large_df.copy()\n",
        "\n",
        "# Select 10 random indices for metric value update\n",
        "random_indices_metric = np.random.choice(ultra_large_df2.index, size=100, replace=False)\n",
        "print(random_indices_metric)\n",
        "# Update metric value with random values between 0 and 10\n",
        "ultra_large_df2.loc[random_indices_metric, 'metric_value'] = [round(random.uniform(0, 10),2) for _ in range(100)]\n"
      ]
    },
    {
      "cell_type": "code",
      "execution_count": null,
      "metadata": {},
      "outputs": [
        {
          "data": {
            "text/plain": [
              "unique_key              object\n",
              "date            datetime64[ns]\n",
              "metric_value           float64\n",
              "country_code            object\n",
              "category                object\n",
              "dtype: object"
            ]
          },
          "execution_count": 6,
          "metadata": {},
          "output_type": "execute_result"
        }
      ],
      "source": [
        "ultra_large_df.dtypes"
      ]
    },
    {
      "cell_type": "code",
      "execution_count": null,
      "metadata": {},
      "outputs": [
        {
          "ename": "ModuleNotFoundError",
          "evalue": "No module named 'driftdb.drift_evaluators'",
          "output_type": "error",
          "traceback": [
            "\u001b[0;31m---------------------------------------------------------------------------\u001b[0m",
            "\u001b[0;31mModuleNotFoundError\u001b[0m                       Traceback (most recent call last)",
            "\u001b[1;32m/Users/sammyteillet/Documents/Projects/DataDrift/data-drift/tools/driftdb/examples/use_cases/partition_table.ipynb Cell 6\u001b[0m line \u001b[0;36m5\n\u001b[1;32m      <a href='vscode-notebook-cell:/Users/sammyteillet/Documents/Projects/DataDrift/data-drift/tools/driftdb/examples/use_cases/partition_table.ipynb#W5sZmlsZQ%3D%3D?line=1'>2</a>\u001b[0m sys\u001b[39m.\u001b[39mpath\u001b[39m.\u001b[39mappend(\u001b[39m'\u001b[39m\u001b[39m..\u001b[39m\u001b[39m'\u001b[39m)\n\u001b[1;32m      <a href='vscode-notebook-cell:/Users/sammyteillet/Documents/Projects/DataDrift/data-drift/tools/driftdb/examples/use_cases/partition_table.ipynb#W5sZmlsZQ%3D%3D?line=2'>3</a>\u001b[0m \u001b[39mimport\u001b[39;00m \u001b[39mimportlib\u001b[39;00m\n\u001b[0;32m----> <a href='vscode-notebook-cell:/Users/sammyteillet/Documents/Projects/DataDrift/data-drift/tools/driftdb/examples/use_cases/partition_table.ipynb#W5sZmlsZQ%3D%3D?line=4'>5</a>\u001b[0m \u001b[39mimport\u001b[39;00m \u001b[39mdriftdb\u001b[39;00m\u001b[39m.\u001b[39;00m\u001b[39mdrift_evaluators\u001b[39;00m\n\u001b[1;32m      <a href='vscode-notebook-cell:/Users/sammyteillet/Documents/Projects/DataDrift/data-drift/tools/driftdb/examples/use_cases/partition_table.ipynb#W5sZmlsZQ%3D%3D?line=5'>6</a>\u001b[0m importlib\u001b[39m.\u001b[39mreload(driftdb\u001b[39m.\u001b[39mdrift_evaluators)\n\u001b[1;32m      <a href='vscode-notebook-cell:/Users/sammyteillet/Documents/Projects/DataDrift/data-drift/tools/driftdb/examples/use_cases/partition_table.ipynb#W5sZmlsZQ%3D%3D?line=6'>7</a>\u001b[0m \u001b[39mfrom\u001b[39;00m \u001b[39mdriftdb\u001b[39;00m\u001b[39m.\u001b[39;00m\u001b[39mdrift_evaluators\u001b[39;00m \u001b[39mimport\u001b[39;00m auto_merge_drift\n",
            "\u001b[0;31mModuleNotFoundError\u001b[0m: No module named 'driftdb.drift_evaluators'"
          ]
        }
      ],
      "source": [
        "import sys\n",
        "sys.path.append('..')\n",
        "import importlib\n",
        "\n",
        "import driftdb.drift_evaluators\n",
        "importlib.reload(driftdb.drift_evaluators)\n",
        "from driftdb.drift_evaluators import auto_merge_drift\n",
        "\n",
        "\n",
        "import driftdb.github_connector\n",
        "importlib.reload(driftdb.github_connector)\n",
        "from driftdb.github_connector import partition_and_store_table\n",
        "\n",
        "\n",
        "partition_and_store_table(gh_client,  ultra_large_df2, table_name)"
      ]
    },
    {
      "cell_type": "code",
      "execution_count": null,
      "metadata": {},
      "outputs": [],
      "source": [
        "# Set the number of rows for the dataframe\n",
        "num_rows = 6000\n",
        "\n",
        "# Generate random IDs and dates\n",
        "ids = [fake.uuid4() for _ in range(num_rows)]\n",
        "dates = [fake.date_between(start_date='-1m', end_date='today').strftime('%Y-%m-%d') for _ in range(num_rows)]\n",
        "\n",
        "# Generate random metric values between 0 and 10\n",
        "metric_values = [round(random.uniform(0, 10),2) for _ in range(num_rows)]\n",
        "# Generate random country codes\n",
        "country_codes = [fake.country_code() for _ in range(num_rows)]\n",
        "\n",
        "# Generate random categories\n",
        "categories = [random.choice(['Category A', 'Category B', 'Category C']) for _ in range(num_rows)]\n",
        "\n",
        "# Create the dataframe\n",
        "new_lines = pd.DataFrame({'unique_key': ids, 'date': dates, 'metric_value': metric_values, 'country_code': country_codes, 'category': categories})\n",
        "\n",
        "ultra_large_df3 = pd.concat([ultra_large_df2, new_lines], ignore_index=True)"
      ]
    },
    {
      "cell_type": "code",
      "execution_count": null,
      "metadata": {},
      "outputs": [
        {
          "name": "stdout",
          "output_type": "stream",
          "text": [
            "Storing metric...\n",
            "Metric found, updating it on branch: main\n",
            "Content https://raw.githubusercontent.com/Samox/data-history/main/path/to/ultra_large_metric_name18.csv?token=ABUWFP5KQIF72QPM6CKZ6VTEW2IZK\n",
            "Dataframe dtypes {'unique_key': string[python], 'date': string[python], 'metric_value': string[python], 'country_code': string[python], 'category': string[python]}\n",
            "Old Dataframe dtypes {'unique_key': string[python], 'date': string[python], 'metric_value': string[python], 'country_code': string[python], 'category': string[python]}\n",
            "New data found\n",
            "Commit: New data: path/to/ultra_large_metric_name18.csv\n",
            "https://github.com/Samox/data-history/commit/510cc1a3978ec68cc439c5f19088d9626eb0db2f\n",
            "Branch metric/path-to-ultra-large-metric-name18-csv doesn't exist, creating it...\n",
            "comparison                                      metric_value      \n",
            "                                             self other\n",
            "unique_key                                             \n",
            "03aeb072-4c9b-4900-a65f-0cb012459f50         5.28  2.02\n",
            "0500de9f-7c2c-4c7a-8f6e-7d2be08551a0         7.35  4.17\n",
            "0b1e939d-15d8-446f-82e0-0774a42b6e38         8.08  1.18\n",
            "0dbaf1fc-88be-4641-8d79-914939080efe         5.51  3.34\n",
            "0fe39883-35c3-45c9-bcff-e84caf85ff39         4.96  0.21\n",
            "...                                           ...   ...\n",
            "ea4f01d7-1c35-406f-830e-f72218d76617         2.99   6.7\n",
            "efa5f736-759e-477a-bc60-ee39a6acf360         5.99  1.34\n",
            "f096b302-e842-48b0-8d73-9eac7917c5fb         7.66  6.84\n",
            "f7a7d70b-f652-4503-acd6-df3fe7e1ab70          9.6  1.51\n",
            "fcdcf0f6-eeb6-43f7-82d7-512c27926639         5.15  8.64\n",
            "\n",
            "[100 rows x 2 columns]\n",
            "Drift detected\n",
            "Drift evaluation: {'should_alert': True, 'message': 'Drift detected:\\n- ~~🆕 0 addition~~\\n- ♻️ 605988 modifications\\n- ~~🗑️ 0 deletion~~'}\n",
            "Commit: Drift: path/to/ultra_large_metric_name18.csv\n",
            "https://github.com/Samox/data-history/commit/2acacfc24f637533b7a5f987a7d268d3c792a54b\n",
            "Drift pushed\n",
            "Creating pull request\n",
            "Pull request created: https://github.com/Samox/data-history/pull/155\n",
            "Assignee Sammy does not exist\n"
          ]
        }
      ],
      "source": [
        "import sys\n",
        "sys.path.append('..')\n",
        "import importlib\n",
        "\n",
        "import driftdb.drift_evaluators\n",
        "importlib.reload(driftdb.drift_evaluators)\n",
        "from driftdb.drift_evaluators import default_drift_evaluator\n",
        "\n",
        "\n",
        "import driftdb.github_connector\n",
        "importlib.reload(driftdb.github_connector)\n",
        "from driftdb.github_connector import store_metric\n",
        "\n",
        "store_metric(ghClient=gh_client,  dataframe=ultra_large_df3, filepath=table_name, assignees=[\"Sammy\"], store_json=False)"
      ]
    },
    {
      "cell_type": "code",
      "execution_count": null,
      "metadata": {},
      "outputs": [],
      "source": [
        "ultra_large_df.to_json(local_file_path+'.json')\n"
      ]
    }
  ],
  "metadata": {
    "kernelspec": {
      "display_name": "base",
      "language": "python",
      "name": "python3"
    },
    "language_info": {
      "codemirror_mode": {
        "name": "ipython",
        "version": 3
      },
      "file_extension": ".py",
      "mimetype": "text/x-python",
      "name": "python",
      "nbconvert_exporter": "python",
      "pygments_lexer": "ipython3",
      "version": "3.11.5"
    },
    "orig_nbformat": 4
  },
  "nbformat": 4,
  "nbformat_minor": 2
}
