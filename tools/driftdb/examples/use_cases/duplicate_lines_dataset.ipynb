{
  "cells": [
    {
      "cell_type": "code",
      "execution_count": 6,
      "metadata": {},
      "outputs": [
        {
          "data": {
            "text/plain": [
              "12"
            ]
          },
          "execution_count": 6,
          "metadata": {},
          "output_type": "execute_result"
        }
      ],
      "source": [
        "# Generate inital dataframe\n",
        "import pandas as pd\n",
        "from faker import Faker\n",
        "import random\n",
        "\n",
        "fake = Faker()\n",
        "num_rows = 10\n",
        "ids = [fake.uuid4() for _ in range(num_rows)]\n",
        "dates = [fake.date_between(start_date='-1y', end_date='-1m').strftime('%Y-%m-%d') for _ in range(num_rows)]\n",
        "metric_values = [round(random.uniform(0, 10),2) for _ in range(num_rows)]\n",
        "dataframe = pd.DataFrame({'unique_key': ids, 'date': dates, 'metric_value': metric_values})\n",
        "\n",
        "# Insert duplication\n",
        "n = 2  # Number of rows to duplicate\n",
        "indices = random.sample(range(len(dataframe)), n)\n",
        "subset = dataframe.iloc[indices]\n",
        "\n",
        "# Append the selected rows to the DataFrame\n",
        "dataframe = pd.concat([dataframe, subset])\n",
        "len(dataframe)"
      ]
    },
    {
      "cell_type": "code",
      "execution_count": 7,
      "metadata": {},
      "outputs": [
        {
          "name": "stdout",
          "output_type": "stream",
          "text": [
            "                                         unique_key        date  metric_value\n",
            "0              352a4c99-4927-4737-8f84-bdee0ebf168f  2023-08-12          8.81\n",
            "1              c3f65317-c4cc-41b9-a442-d61714b8d5b3  2022-12-24          3.74\n",
            "2              5a63728c-cd2b-45c6-8b3e-da73e3756fcb  2023-10-18          7.22\n",
            "3              0a49f6b0-33eb-4ef4-a9f9-f5259b5f4cbc  2023-03-04          5.04\n",
            "4              c1337b92-113d-42bb-8f94-95b36d1b502f  2023-03-20          4.26\n",
            "5              ab540531-d19e-4c6c-aa29-cb0a543e006b  2023-10-14          2.22\n",
            "6              fc088dff-d2af-4c4f-84ed-c9f0987fbf7c  2023-05-03          1.88\n",
            "7              5b08d407-714c-4cfa-8686-e7bd2296e42f  2023-09-07          1.95\n",
            "8              b351a061-3ac6-426a-b120-69d07346a6ed  2023-03-14          0.45\n",
            "9              a7c4c075-7d41-45e7-9a4d-396375ae3f79  2023-05-08          7.14\n",
            "7  5b08d407-714c-4cfa-8686-e7bd2296e42f-duplicate-1  2023-09-07          1.95\n",
            "6  fc088dff-d2af-4c4f-84ed-c9f0987fbf7c-duplicate-1  2023-05-03          1.88\n"
          ]
        }
      ],
      "source": [
        "\n",
        "def rename_duplicates(df):\n",
        "    \"\"\"\n",
        "    Rename duplicate 'unique_key' values in the DataFrame.\n",
        "\n",
        "    Parameters:\n",
        "    - df: pandas DataFrame with a 'unique_key' column.\n",
        "\n",
        "    Returns:\n",
        "    - DataFrame with renamed duplicates.\n",
        "    \"\"\"\n",
        "    \n",
        "    # Find duplicated rows based on the 'unique_key' column\n",
        "    duplicates = df['unique_key'].duplicated(keep=\"first\")\n",
        "    \n",
        "    # Create a series with the same index as the dataframe for counting duplicates\n",
        "    counter = df[duplicates].groupby('unique_key').cumcount() + 1\n",
        "    \n",
        "    # Format the 'unique_key' for duplicates\n",
        "    df.loc[duplicates, 'unique_key'] = df['unique_key'][duplicates] + \"-duplicate-\" + counter.astype(str)\n",
        "\n",
        "    return df\n",
        "\n",
        "renamed_dataframe = rename_duplicates(dataframe)\n",
        "print(renamed_dataframe)"
      ]
    },
    {
      "cell_type": "code",
      "execution_count": 8,
      "metadata": {},
      "outputs": [],
      "source": [
        "from dotenv import load_dotenv\n",
        "from github import Github\n",
        "import os\n",
        "import sys\n",
        "load_dotenv(\"../../.env\")\n",
        "gh_token = os.getenv(\"GH_TOKEN\")\n",
        "gh_client = Github(gh_token, timeout=60)\n",
        "repo = os.getenv(\"REPO\") or \"gh_org/repo\"\n",
        "file_path = repo+\"/duplicates/test.csv\"\n",
        "\n"
      ]
    },
    {
      "cell_type": "code",
      "execution_count": 9,
      "metadata": {},
      "outputs": [
        {
          "name": "stderr",
          "output_type": "stream",
          "text": [
            "driftdb.connectors.github_connector - INFO - Table not found. Creating it\n",
            "driftdb.connectors.github_connector - INFO - Creating table on branch: test\n",
            "driftdb.connectors.github_connector - INFO - Commit: New data: Samox/data-history/duplicates/test.csv\n",
            "driftdb.connectors.github_connector - INFO - Table stored\n"
          ]
        }
      ],
      "source": [
        "\n",
        "from driftdb.connectors import GithubConnector\n",
        "\n",
        "github_connector = GithubConnector(github_client=gh_client, github_repository_name=repo, default_branch=\"test\")\n",
        "\n",
        "github_connector.snapshot_table( table_dataframe=dataframe, table_name=file_path, )"
      ]
    }
  ],
  "metadata": {
    "kernelspec": {
      "display_name": "base",
      "language": "python",
      "name": "python3"
    },
    "language_info": {
      "codemirror_mode": {
        "name": "ipython",
        "version": 3
      },
      "file_extension": ".py",
      "mimetype": "text/x-python",
      "name": "python",
      "nbconvert_exporter": "python",
      "pygments_lexer": "ipython3",
      "version": "3.11.5"
    },
    "orig_nbformat": 4
  },
  "nbformat": 4,
  "nbformat_minor": 2
}
