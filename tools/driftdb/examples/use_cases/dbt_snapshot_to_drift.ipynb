{
 "cells": [
  {
   "cell_type": "code",
   "execution_count": 18,
   "metadata": {},
   "outputs": [
    {
     "name": "stdout",
     "output_type": "stream",
     "text": [
      "Snapshot dates to process:               dbt_valid_from\n",
      "4 2023-10-26 10:42:20.802324\n",
      "Processing data for date: 2023-10-26 10:42:20.802324\n",
      "                                 unique_key booking_date  metric_value  \\\n",
      "0      63228a3e-18e6-4cf8-b809-ab7bb4ec4f2f   2023-09-07          4.31   \n",
      "1      92b3d319-968e-42f7-9c26-d397d118cf94   2023-01-08          8.17   \n",
      "2      f9ce25a8-9104-45de-8d20-2b12350dad9a   2023-03-12          8.34   \n",
      "3      73f57f5c-8763-4cc2-8e85-51c8aed210bd   2023-07-26          8.86   \n",
      "4      c38f587a-dfc2-4be2-bc88-e0b6998eae7c   2023-05-21          1.15   \n",
      "...                                     ...          ...           ...   \n",
      "59995  fd69e3f3-facb-4bc9-89b6-51b8a012a0cd   2022-11-20          7.42   \n",
      "59996  fda643c5-7a9f-444f-8b9c-725a4634dc3b   2023-01-18          5.07   \n",
      "59997  c7e6fa06-23e6-47d1-9ee2-1d829453d707   2023-04-01          3.21   \n",
      "59998  dbc01a5b-6e5b-43c6-85ad-22f6e425f66a   2023-04-15          7.05   \n",
      "59999  8c4b4a58-bd82-4da2-9e1a-b93cc115898c   2023-10-13          2.85   \n",
      "\n",
      "      country_code                 created_at                 updated_at  \\\n",
      "0               MM 2023-10-25 14:40:13.772308 2023-10-25 14:40:13.772308   \n",
      "1               KG 2023-10-25 14:40:13.772308 2023-10-25 14:40:13.772308   \n",
      "2               NE 2023-10-25 14:40:13.772308 2023-10-25 14:40:13.772308   \n",
      "3               BT 2023-10-25 14:40:13.772308 2023-10-25 14:40:13.772308   \n",
      "4               ER 2023-10-25 14:40:13.772308 2023-10-25 14:40:13.772308   \n",
      "...            ...                        ...                        ...   \n",
      "59995           AT 2023-10-25 14:40:13.772308 2023-10-25 14:41:27.131453   \n",
      "59996           SA 2023-10-25 14:40:13.772308 2023-10-25 14:41:27.131453   \n",
      "59997           IQ 2023-10-25 14:40:13.772308 2023-10-26 10:01:51.015468   \n",
      "59998           LT 2023-10-25 14:40:13.772308 2023-10-26 10:39:26.681349   \n",
      "59999           ME 2023-10-25 14:40:13.772308 2023-10-26 10:42:20.802324   \n",
      "\n",
      "             date  \n",
      "0      2023-09-07  \n",
      "1      2023-01-08  \n",
      "2      2023-03-12  \n",
      "3      2023-07-26  \n",
      "4      2023-05-21  \n",
      "...           ...  \n",
      "59995  2022-11-20  \n",
      "59996  2023-01-18  \n",
      "59997  2023-04-01  \n",
      "59998  2023-04-15  \n",
      "59999  2023-10-13  \n",
      "\n",
      "[60000 rows x 7 columns]\n",
      "Storing metric bookings_snapshot in db /Users/sammyteillet/.datadrift/default\n"
     ]
    }
   ],
   "source": [
    "\n",
    "import sys\n",
    "\n",
    "from sqlalchemy import create_engine\n",
    "sys.path.append('..')\n",
    "import importlib\n",
    "import driftdb.snapshot\n",
    "importlib.reload(driftdb.snapshot)\n",
    "from driftdb.snapshot import store_snapshot\n",
    "\n",
    "\n",
    "engine = create_engine(\"postgresql://sammyteillet@localhost:5432/dbt-dummy-project\")\n",
    "\n",
    "snapshot_table = \"bookings_snapshot\"\n",
    "date_column = \"booking_date\"\n",
    "unique_key = \"unique_key\"\n",
    "\n",
    "store_snapshot(engine=engine, snapshot_table=snapshot_table, date_column=date_column, unique_key=unique_key)\n"
   ]
  }
 ],
 "metadata": {
  "kernelspec": {
   "display_name": "base",
   "language": "python",
   "name": "python3"
  },
  "language_info": {
   "codemirror_mode": {
    "name": "ipython",
    "version": 3
   },
   "file_extension": ".py",
   "mimetype": "text/x-python",
   "name": "python",
   "nbconvert_exporter": "python",
   "pygments_lexer": "ipython3",
   "version": "3.11.5"
  }
 },
 "nbformat": 4,
 "nbformat_minor": 2
}
