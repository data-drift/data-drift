{
  "cells": [
    {
      "cell_type": "code",
      "execution_count": 1,
      "metadata": {},
      "outputs": [],
      "source": [
        "import sys\n",
        "\n",
        "from driftdb.connectors.local_connector import LocalConnector\n",
        "from driftdb.connectors.workflow import snapshot_table\n",
        "sys.path.append('..')\n",
        "import importlib\n",
        "\n",
        "sys.path.append('.')\n",
        "from dataset import generate_dataframe, insert_drift\n",
        "\n",
        "dataframe = generate_dataframe(10000)\n",
        "local_connector = LocalConnector()\n",
        "metric_name = \"mrr_light_1\"\n",
        "\n"
      ]
    },
    {
      "cell_type": "code",
      "execution_count": 2,
      "metadata": {},
      "outputs": [
        {
          "name": "stdout",
          "output_type": "stream",
          "text": [
            "Table found, updating it\n",
            "Change detected\n"
          ]
        }
      ],
      "source": [
        "import driftdb.connectors.local_connector\n",
        "importlib.reload(driftdb.connectors.local_connector)\n",
        "snapshot_table(table_name=metric_name,table_dataframe=dataframe,connector=local_connector)\n"
      ]
    },
    {
      "cell_type": "code",
      "execution_count": 3,
      "metadata": {},
      "outputs": [],
      "source": [
        "dataframe_with_drift = insert_drift(dataframe, 10)"
      ]
    },
    {
      "cell_type": "code",
      "execution_count": 4,
      "metadata": {},
      "outputs": [
        {
          "name": "stdout",
          "output_type": "stream",
          "text": [
            "Table found, updating it\n",
            "Change detected\n"
          ]
        }
      ],
      "source": [
        "snapshot_table(table_name=metric_name,table_dataframe=dataframe_with_drift,connector=local_connector)\n"
      ]
    },
    {
      "cell_type": "code",
      "execution_count": 5,
      "metadata": {},
      "outputs": [
        {
          "name": "stdout",
          "output_type": "stream",
          "text": [
            "0       13.00\n",
            "1        6.42\n",
            "2        9.14\n",
            "3        9.64\n",
            "4        3.25\n",
            "        ...  \n",
            "9995     5.35\n",
            "9996    10.50\n",
            "9997     1.66\n",
            "9998     6.39\n",
            "9999     8.54\n",
            "Name: metric_value3, Length: 10000, dtype: float64\n",
            "Table found, updating it\n",
            "Change detected\n"
          ]
        }
      ],
      "source": [
        "dataframe_with_drift['metric_value2'] = dataframe_with_drift['metric_value'] + 1\n",
        "dataframe_with_drift.loc[0, \"metric_value\"] = 12\n",
        "dataframe_with_drift['metric_value3'] = (dataframe_with_drift['metric_value'] + 1).round(2)\n",
        "dataframe_with_drift.drop(columns=['metric_value2'], inplace=True)\n",
        "print(dataframe_with_drift['metric_value3'])\n",
        "\n",
        "snapshot_table(table_name=metric_name,table_dataframe=dataframe_with_drift,connector=local_connector)\n",
        "\n"
      ]
    }
  ],
  "metadata": {
    "kernelspec": {
      "display_name": "base",
      "language": "python",
      "name": "python3"
    },
    "language_info": {
      "codemirror_mode": {
        "name": "ipython",
        "version": 3
      },
      "file_extension": ".py",
      "mimetype": "text/x-python",
      "name": "python",
      "nbconvert_exporter": "python",
      "pygments_lexer": "ipython3",
      "version": "3.11.5"
    }
  },
  "nbformat": 4,
  "nbformat_minor": 2
}
