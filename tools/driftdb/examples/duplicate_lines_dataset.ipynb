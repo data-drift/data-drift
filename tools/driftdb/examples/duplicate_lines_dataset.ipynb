{
 "cells": [
  {
   "cell_type": "code",
   "execution_count": 19,
   "metadata": {},
   "outputs": [
    {
     "data": {
      "text/plain": [
       "12"
      ]
     },
     "execution_count": 19,
     "metadata": {},
     "output_type": "execute_result"
    }
   ],
   "source": [
    "# Generate inital dataframe\n",
    "import pandas as pd\n",
    "from faker import Faker\n",
    "import random\n",
    "\n",
    "fake = Faker()\n",
    "num_rows = 10\n",
    "ids = [fake.uuid4() for _ in range(num_rows)]\n",
    "dates = [fake.date_between(start_date='-1y', end_date='-1m').strftime('%Y-%m-%d') for _ in range(num_rows)]\n",
    "metric_values = [round(random.uniform(0, 10),2) for _ in range(num_rows)]\n",
    "dataframe = pd.DataFrame({'unique_key': ids, 'date': dates, 'metric_value': metric_values})\n",
    "\n",
    "# Insert duplication\n",
    "n = 2  # Number of rows to duplicate\n",
    "indices = random.sample(range(len(dataframe)), n)\n",
    "subset = dataframe.iloc[indices]\n",
    "\n",
    "# Append the selected rows to the DataFrame\n",
    "dataframe = pd.concat([dataframe, subset])\n",
    "len(dataframe)"
   ]
  },
  {
   "cell_type": "code",
   "execution_count": 20,
   "metadata": {},
   "outputs": [
    {
     "name": "stdout",
     "output_type": "stream",
     "text": [
      "                                         unique_key        date  metric_value\n",
      "0              49d54cca-e2a9-4148-92be-2a6f208c92a1  2023-07-23          8.26\n",
      "1              f5cf8830-ff3e-4eed-b0b1-c082b575aadf  2023-01-26          3.64\n",
      "2              aeebfe39-dc7c-42d4-91d0-4fa952624b98  2023-05-11          7.45\n",
      "3              d04522fa-0196-455b-9a13-694abc21dfda  2023-02-20          6.81\n",
      "4              9bbff6f3-0b8d-43db-821b-d8672096929b  2023-05-24          1.62\n",
      "5              1b74b148-fb2b-47f6-abc1-ffac54633431  2022-10-18          1.57\n",
      "6              90799d8b-1ef1-45b7-8796-2f4ebb3dec01  2023-06-15          5.40\n",
      "7              042e489b-eb6a-4d1d-93f5-0e536799e2d6  2023-10-02          8.28\n",
      "8              364e4b00-2094-4435-a408-e7997cbcff9c  2023-07-03          5.11\n",
      "9              973e87c5-6873-4b46-b948-9d3a7b893108  2022-10-18          0.12\n",
      "2  aeebfe39-dc7c-42d4-91d0-4fa952624b98-duplicate-1  2023-05-11          7.45\n",
      "3  d04522fa-0196-455b-9a13-694abc21dfda-duplicate-1  2023-02-20          6.81\n"
     ]
    }
   ],
   "source": [
    "\n",
    "def rename_duplicates(df):\n",
    "    \"\"\"\n",
    "    Rename duplicate 'unique_key' values in the DataFrame.\n",
    "\n",
    "    Parameters:\n",
    "    - df: pandas DataFrame with a 'unique_key' column.\n",
    "\n",
    "    Returns:\n",
    "    - DataFrame with renamed duplicates.\n",
    "    \"\"\"\n",
    "    \n",
    "    # Find duplicated rows based on the 'unique_key' column\n",
    "    duplicates = df['unique_key'].duplicated(keep=\"first\")\n",
    "    \n",
    "    # Create a series with the same index as the dataframe for counting duplicates\n",
    "    counter = df[duplicates].groupby('unique_key').cumcount() + 1\n",
    "    \n",
    "    # Format the 'unique_key' for duplicates\n",
    "    df.loc[duplicates, 'unique_key'] = df['unique_key'][duplicates] + \"-duplicate-\" + counter.astype(str)\n",
    "\n",
    "    return df\n",
    "\n",
    "renamed_dataframe = rename_duplicates(dataframe)\n",
    "print(renamed_dataframe)"
   ]
  },
  {
   "cell_type": "code",
   "execution_count": 8,
   "metadata": {},
   "outputs": [],
   "source": [
    "from dotenv import load_dotenv\n",
    "from github import Github\n",
    "import os\n",
    "import sys\n",
    "load_dotenv(\"../.env\")\n",
    "gh_token = os.getenv(\"GH_TOKEN\")\n",
    "gh_client = Github(gh_token, timeout=60)\n",
    "repo = os.getenv(\"REPO\") or \"gh_org/repo\"\n",
    "file_path = repo+\"/duplicates/test.csv\""
   ]
  },
  {
   "cell_type": "code",
   "execution_count": 25,
   "metadata": {},
   "outputs": [
    {
     "name": "stdout",
     "output_type": "stream",
     "text": [
      "Storing metric...\n",
      "Metric not found, creating it on branch: main\n",
      "Commit: New data: duplicates/test.csv\n",
      "Metric stored\n"
     ]
    }
   ],
   "source": [
    "\n",
    "sys.path.append('..')\n",
    "import importlib\n",
    "import datagit.github_connector\n",
    "importlib.reload(datagit.github_connector)\n",
    "from datagit.github_connector import store_metric\n",
    "\n",
    "\n",
    "\n",
    "store_metric(ghClient=gh_client, dataframe=dataframe, filepath=file_path, branch=\"test\")"
   ]
  }
 ],
 "metadata": {
  "kernelspec": {
   "display_name": "base",
   "language": "python",
   "name": "python3"
  },
  "language_info": {
   "codemirror_mode": {
    "name": "ipython",
    "version": 3
   },
   "file_extension": ".py",
   "mimetype": "text/x-python",
   "name": "python",
   "nbconvert_exporter": "python",
   "pygments_lexer": "ipython3",
   "version": "3.11.5"
  },
  "orig_nbformat": 4
 },
 "nbformat": 4,
 "nbformat_minor": 2
}
